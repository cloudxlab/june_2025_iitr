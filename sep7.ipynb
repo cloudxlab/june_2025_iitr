{
 "cells": [
  {
   "cell_type": "code",
   "execution_count": null,
   "metadata": {},
   "outputs": [],
   "source": [
    "# What is the order of complexity of combination\n",
    "abcd -> \n",
    "permutation(n) -> n*n-1 * n-2 * .....3*2*1 # n!\n",
    "\n",
    "# eight queents\n"
   ]
  },
  {
   "cell_type": "code",
   "execution_count": 2,
   "metadata": {},
   "outputs": [],
   "source": [
    "def fact(n):\n",
    "    if n == 1:\n",
    "        return n\n",
    "    else:\n",
    "        return n * fact(n-1)"
   ]
  },
  {
   "cell_type": "code",
   "execution_count": 3,
   "metadata": {},
   "outputs": [
    {
     "data": {
      "text/plain": [
       "(6, 27)"
      ]
     },
     "execution_count": 3,
     "metadata": {},
     "output_type": "execute_result"
    }
   ],
   "source": [
    "n = 3\n",
    "fact(n), n**3"
   ]
  },
  {
   "cell_type": "code",
   "execution_count": 4,
   "metadata": {},
   "outputs": [
    {
     "data": {
      "text/plain": [
       "(24, 64)"
      ]
     },
     "execution_count": 4,
     "metadata": {},
     "output_type": "execute_result"
    }
   ],
   "source": [
    "n = 4\n",
    "fact(n), n**3"
   ]
  },
  {
   "cell_type": "code",
   "execution_count": 5,
   "metadata": {},
   "outputs": [
    {
     "data": {
      "text/plain": [
       "(120, 125)"
      ]
     },
     "execution_count": 5,
     "metadata": {},
     "output_type": "execute_result"
    }
   ],
   "source": [
    "n = 5\n",
    "fact(n), n**3"
   ]
  },
  {
   "cell_type": "code",
   "execution_count": 6,
   "metadata": {},
   "outputs": [
    {
     "data": {
      "text/plain": [
       "(720, 216)"
      ]
     },
     "execution_count": 6,
     "metadata": {},
     "output_type": "execute_result"
    }
   ],
   "source": [
    "n = 6\n",
    "fact(n), n**3"
   ]
  },
  {
   "cell_type": "code",
   "execution_count": 7,
   "metadata": {},
   "outputs": [
    {
     "data": {
      "text/plain": [
       "(5040, 343)"
      ]
     },
     "execution_count": 7,
     "metadata": {},
     "output_type": "execute_result"
    }
   ],
   "source": [
    "n = 7\n",
    "fact(n), n**3"
   ]
  },
  {
   "cell_type": "code",
   "execution_count": 8,
   "metadata": {},
   "outputs": [
    {
     "data": {
      "text/plain": [
       "(128, 5040, 343)"
      ]
     },
     "execution_count": 8,
     "metadata": {},
     "output_type": "execute_result"
    }
   ],
   "source": [
    "n = 7\n",
    "2**n, fact(n), n**3"
   ]
  },
  {
   "cell_type": "code",
   "execution_count": 13,
   "metadata": {
    "scrolled": true
   },
   "outputs": [
    {
     "ename": "RecursionError",
     "evalue": "maximum recursion depth exceeded in comparison",
     "output_type": "error",
     "traceback": [
      "\u001b[0;31m---------------------------------------------------------------------------\u001b[0m",
      "\u001b[0;31mRecursionError\u001b[0m                            Traceback (most recent call last)",
      "\u001b[0;32m<ipython-input-13-ac721db4b287>\u001b[0m in \u001b[0;36m<module>\u001b[0;34m\u001b[0m\n\u001b[1;32m      1\u001b[0m \u001b[0mn\u001b[0m \u001b[0;34m=\u001b[0m \u001b[0;36m20000\u001b[0m\u001b[0;34m\u001b[0m\u001b[0;34m\u001b[0m\u001b[0m\n\u001b[0;32m----> 2\u001b[0;31m \u001b[0;36m2\u001b[0m\u001b[0;34m**\u001b[0m\u001b[0mn\u001b[0m\u001b[0;34m,\u001b[0m \u001b[0mfact\u001b[0m\u001b[0;34m(\u001b[0m\u001b[0mn\u001b[0m\u001b[0;34m)\u001b[0m\u001b[0;34m,\u001b[0m \u001b[0mn\u001b[0m\u001b[0;34m**\u001b[0m\u001b[0;36m3\u001b[0m\u001b[0;34m\u001b[0m\u001b[0;34m\u001b[0m\u001b[0m\n\u001b[0m",
      "\u001b[0;32m<ipython-input-2-97c10d18cfd3>\u001b[0m in \u001b[0;36mfact\u001b[0;34m(n)\u001b[0m\n\u001b[1;32m      3\u001b[0m         \u001b[0;32mreturn\u001b[0m \u001b[0mn\u001b[0m\u001b[0;34m\u001b[0m\u001b[0;34m\u001b[0m\u001b[0m\n\u001b[1;32m      4\u001b[0m     \u001b[0;32melse\u001b[0m\u001b[0;34m:\u001b[0m\u001b[0;34m\u001b[0m\u001b[0;34m\u001b[0m\u001b[0m\n\u001b[0;32m----> 5\u001b[0;31m         \u001b[0;32mreturn\u001b[0m \u001b[0mn\u001b[0m \u001b[0;34m*\u001b[0m \u001b[0mfact\u001b[0m\u001b[0;34m(\u001b[0m\u001b[0mn\u001b[0m\u001b[0;34m-\u001b[0m\u001b[0;36m1\u001b[0m\u001b[0;34m)\u001b[0m\u001b[0;34m\u001b[0m\u001b[0;34m\u001b[0m\u001b[0m\n\u001b[0m",
      "... last 1 frames repeated, from the frame below ...\n",
      "\u001b[0;32m<ipython-input-2-97c10d18cfd3>\u001b[0m in \u001b[0;36mfact\u001b[0;34m(n)\u001b[0m\n\u001b[1;32m      3\u001b[0m         \u001b[0;32mreturn\u001b[0m \u001b[0mn\u001b[0m\u001b[0;34m\u001b[0m\u001b[0;34m\u001b[0m\u001b[0m\n\u001b[1;32m      4\u001b[0m     \u001b[0;32melse\u001b[0m\u001b[0;34m:\u001b[0m\u001b[0;34m\u001b[0m\u001b[0;34m\u001b[0m\u001b[0m\n\u001b[0;32m----> 5\u001b[0;31m         \u001b[0;32mreturn\u001b[0m \u001b[0mn\u001b[0m \u001b[0;34m*\u001b[0m \u001b[0mfact\u001b[0m\u001b[0;34m(\u001b[0m\u001b[0mn\u001b[0m\u001b[0;34m-\u001b[0m\u001b[0;36m1\u001b[0m\u001b[0;34m)\u001b[0m\u001b[0;34m\u001b[0m\u001b[0;34m\u001b[0m\u001b[0m\n\u001b[0m",
      "\u001b[0;31mRecursionError\u001b[0m: maximum recursion depth exceeded in comparison"
     ]
    }
   ],
   "source": [
    "n = 20000\n",
    "2**n, fact(n), n**3"
   ]
  },
  {
   "cell_type": "markdown",
   "metadata": {},
   "source": [
    "# Equation solving \n",
    "\n",
    "O(n^3)"
   ]
  },
  {
   "cell_type": "markdown",
   "metadata": {},
   "source": [
    "# Eight Queens\n",
    "O(n**n)"
   ]
  },
  {
   "cell_type": "code",
   "execution_count": null,
   "metadata": {},
   "outputs": [],
   "source": [
    "Phrases.txt (100,000 - p):\n",
    "    Java Deveoper (30characters - K)\n",
    "    J2EE Deveoper\n",
    "    Python Engineer\n",
    "    Data Scientist\n",
    "    ....\n",
    "\n",
    "Resumes/ (10 million - n)\n",
    "    sandeep.txt (5000 chars - R)\n",
    "    ashutosh.txt\n",
    "    ...\n",
    "    "
   ]
  },
  {
   "cell_type": "code",
   "execution_count": null,
   "metadata": {},
   "outputs": [],
   "source": [
    "Q: Find resumes matching phrases.\n"
   ]
  },
  {
   "cell_type": "code",
   "execution_count": 14,
   "metadata": {},
   "outputs": [
    {
     "data": {
      "text/plain": [
       "11"
      ]
     },
     "execution_count": 14,
     "metadata": {},
     "output_type": "execute_result"
    }
   ],
   "source": [
    "\"sandeep is j2ee developer with an experience of 100 years....\".index('j2ee developer')"
   ]
  },
  {
   "cell_type": "code",
   "execution_count": null,
   "metadata": {},
   "outputs": [],
   "source": [
    "Brute Force:\n",
    "    \n",
    "#Complexity:\n",
    "K * R * p * n\n"
   ]
  },
  {
   "cell_type": "code",
   "execution_count": 21,
   "metadata": {},
   "outputs": [
    {
     "data": {
      "text/plain": [
       "(4756.4687975646875, 'years')"
      ]
     },
     "execution_count": 21,
     "metadata": {},
     "output_type": "execute_result"
    }
   ],
   "source": [
    "(10**5 * 10**7 * 5000 * 30)/1000000/3600/24/365, \"years\""
   ]
  },
  {
   "cell_type": "code",
   "execution_count": null,
   "metadata": {},
   "outputs": [],
   "source": [
    "# Python - bisect (log n)\n",
    "# sort() - sorts (n log n)"
   ]
  },
  {
   "cell_type": "code",
   "execution_count": null,
   "metadata": {},
   "outputs": [],
   "source": [
    "# Question: implement your own str.index() function"
   ]
  },
  {
   "cell_type": "code",
   "execution_count": null,
   "metadata": {},
   "outputs": [],
   "source": [
    "# hashing - dictionary\n",
    "# indexing\n"
   ]
  },
  {
   "cell_type": "code",
   "execution_count": 26,
   "metadata": {},
   "outputs": [],
   "source": [
    "# Sorting & Searching"
   ]
  },
  {
   "cell_type": "code",
   "execution_count": null,
   "metadata": {},
   "outputs": [],
   "source": [
    "# sqrt(5)"
   ]
  },
  {
   "cell_type": "code",
   "execution_count": 27,
   "metadata": {},
   "outputs": [
    {
     "data": {
      "text/plain": [
       "2.5"
      ]
     },
     "execution_count": 27,
     "metadata": {},
     "output_type": "execute_result"
    }
   ],
   "source": [
    "left = 2\n",
    "right = 3\n",
    "mid = (left+right)/2\n",
    "mid"
   ]
  },
  {
   "cell_type": "code",
   "execution_count": 28,
   "metadata": {},
   "outputs": [
    {
     "data": {
      "text/plain": [
       "6.25"
      ]
     },
     "execution_count": 28,
     "metadata": {},
     "output_type": "execute_result"
    }
   ],
   "source": [
    "mid*mid"
   ]
  },
  {
   "cell_type": "code",
   "execution_count": 29,
   "metadata": {},
   "outputs": [
    {
     "data": {
      "text/plain": [
       "2.25"
      ]
     },
     "execution_count": 29,
     "metadata": {},
     "output_type": "execute_result"
    }
   ],
   "source": [
    "left = 2\n",
    "right = 2.5\n",
    "mid = (left+right)/2\n",
    "mid"
   ]
  },
  {
   "cell_type": "code",
   "execution_count": 30,
   "metadata": {},
   "outputs": [
    {
     "data": {
      "text/plain": [
       "5.0625"
      ]
     },
     "execution_count": 30,
     "metadata": {},
     "output_type": "execute_result"
    }
   ],
   "source": [
    "mid*mid"
   ]
  },
  {
   "cell_type": "code",
   "execution_count": 31,
   "metadata": {},
   "outputs": [
    {
     "name": "stdout",
     "output_type": "stream",
     "text": [
      "2.125 4.515625\n"
     ]
    }
   ],
   "source": [
    "left = 2\n",
    "right = 2.25\n",
    "mid = (left+right)/2\n",
    "print(mid, mid*mid)"
   ]
  },
  {
   "cell_type": "code",
   "execution_count": 32,
   "metadata": {},
   "outputs": [
    {
     "name": "stdout",
     "output_type": "stream",
     "text": [
      "2.1875 4.78515625\n"
     ]
    }
   ],
   "source": [
    "left = 2.125\n",
    "right = 2.25\n",
    "mid = (left+right)/2\n",
    "print(mid, mid*mid)"
   ]
  },
  {
   "cell_type": "code",
   "execution_count": 33,
   "metadata": {},
   "outputs": [
    {
     "name": "stdout",
     "output_type": "stream",
     "text": [
      "2.21875 4.9228515625\n"
     ]
    }
   ],
   "source": [
    "left = 2.1875\n",
    "right = 2.25\n",
    "mid = (left+right)/2\n",
    "print(mid, mid*mid)"
   ]
  },
  {
   "cell_type": "code",
   "execution_count": 34,
   "metadata": {},
   "outputs": [
    {
     "name": "stdout",
     "output_type": "stream",
     "text": [
      "2.234375 4.992431640625\n"
     ]
    }
   ],
   "source": [
    "left = 2.21875\n",
    "right = 2.25\n",
    "mid = (left+right)/2\n",
    "print(mid, mid*mid)"
   ]
  },
  {
   "cell_type": "code",
   "execution_count": 35,
   "metadata": {},
   "outputs": [
    {
     "name": "stdout",
     "output_type": "stream",
     "text": [
      "2.2421875 5.02740478515625\n"
     ]
    }
   ],
   "source": [
    "left = 2.234375\n",
    "right = 2.25\n",
    "mid = (left+right)/2\n",
    "print(mid, mid*mid)"
   ]
  },
  {
   "cell_type": "code",
   "execution_count": 36,
   "metadata": {},
   "outputs": [
    {
     "name": "stdout",
     "output_type": "stream",
     "text": [
      "2.23828125 5.0099029541015625\n"
     ]
    }
   ],
   "source": [
    "left = 2.234375\n",
    "right = 2.2421875 \n",
    "mid = (left+right)/2\n",
    "print(mid, mid*mid)"
   ]
  },
  {
   "cell_type": "code",
   "execution_count": 37,
   "metadata": {},
   "outputs": [
    {
     "name": "stdout",
     "output_type": "stream",
     "text": [
      "2.236328125 5.001163482666016\n"
     ]
    }
   ],
   "source": [
    "left = 2.234375\n",
    "right = 2.23828125\n",
    "mid = (left+right)/2\n",
    "print(mid, mid*mid)"
   ]
  },
  {
   "cell_type": "code",
   "execution_count": 38,
   "metadata": {},
   "outputs": [
    {
     "name": "stdout",
     "output_type": "stream",
     "text": [
      "2.2353515625 4.996796607971191\n"
     ]
    }
   ],
   "source": [
    "left = 2.234375\n",
    "right = 2.236328125\n",
    "mid = (left+right)/2\n",
    "print(mid, mid*mid)"
   ]
  },
  {
   "cell_type": "code",
   "execution_count": 40,
   "metadata": {},
   "outputs": [],
   "source": [
    "# sqrt(10)"
   ]
  },
  {
   "cell_type": "code",
   "execution_count": 41,
   "metadata": {},
   "outputs": [
    {
     "name": "stdout",
     "output_type": "stream",
     "text": [
      "3.5 12.25\n"
     ]
    }
   ],
   "source": [
    "left = 3\n",
    "right = 4\n",
    "mid = (left + right)/2\n",
    "print(mid, mid*mid)"
   ]
  },
  {
   "cell_type": "code",
   "execution_count": 42,
   "metadata": {},
   "outputs": [
    {
     "name": "stdout",
     "output_type": "stream",
     "text": [
      "3.25 10.5625\n"
     ]
    }
   ],
   "source": [
    "# left = 3\n",
    "right = mid\n",
    "mid = (left + right)/2\n",
    "print(mid, mid*mid)"
   ]
  },
  {
   "cell_type": "code",
   "execution_count": 43,
   "metadata": {},
   "outputs": [
    {
     "name": "stdout",
     "output_type": "stream",
     "text": [
      "3 3.25 3.125 9.765625\n"
     ]
    }
   ],
   "source": [
    "right = mid\n",
    "mid = (left + right)/2\n",
    "print(left, right, mid, mid*mid)"
   ]
  },
  {
   "cell_type": "code",
   "execution_count": 44,
   "metadata": {},
   "outputs": [
    {
     "name": "stdout",
     "output_type": "stream",
     "text": [
      "3.125 3.25 3.1875 10.16015625\n"
     ]
    }
   ],
   "source": [
    "left = mid\n",
    "mid = (left + right)/2\n",
    "print(left, right, mid, mid*mid)"
   ]
  },
  {
   "cell_type": "code",
   "execution_count": 45,
   "metadata": {},
   "outputs": [
    {
     "name": "stdout",
     "output_type": "stream",
     "text": [
      "3.125 3.1875 3.15625 9.9619140625\n"
     ]
    }
   ],
   "source": [
    "right = mid\n",
    "mid = (left + right)/2\n",
    "print(left, right, mid, mid*mid)"
   ]
  },
  {
   "cell_type": "code",
   "execution_count": 46,
   "metadata": {},
   "outputs": [
    {
     "name": "stdout",
     "output_type": "stream",
     "text": [
      "3.15625 3.1875 3.171875 10.060791015625\n"
     ]
    }
   ],
   "source": [
    "left = mid\n",
    "mid = (left + right)/2\n",
    "print(left, right, mid, mid*mid)"
   ]
  },
  {
   "cell_type": "code",
   "execution_count": 47,
   "metadata": {},
   "outputs": [
    {
     "name": "stdout",
     "output_type": "stream",
     "text": [
      "3.15625 3.171875 3.1640625 10.01129150390625\n"
     ]
    }
   ],
   "source": [
    "right = mid\n",
    "mid = (left + right)/2\n",
    "print(left, right, mid, mid*mid)"
   ]
  },
  {
   "cell_type": "code",
   "execution_count": 48,
   "metadata": {},
   "outputs": [
    {
     "name": "stdout",
     "output_type": "stream",
     "text": [
      "3.15625 3.1640625 3.16015625 9.986587524414062\n"
     ]
    }
   ],
   "source": [
    "right = mid\n",
    "mid = (left + right)/2\n",
    "print(left, right, mid, mid*mid)"
   ]
  },
  {
   "cell_type": "code",
   "execution_count": 49,
   "metadata": {},
   "outputs": [
    {
     "name": "stdout",
     "output_type": "stream",
     "text": [
      "3.16015625 3.1640625 3.162109375 9.99893569946289\n"
     ]
    }
   ],
   "source": [
    "left = mid\n",
    "mid = (left + right)/2\n",
    "print(left, right, mid, mid*mid)"
   ]
  },
  {
   "cell_type": "code",
   "execution_count": 50,
   "metadata": {},
   "outputs": [
    {
     "name": "stdout",
     "output_type": "stream",
     "text": [
      "3.162109375 3.1640625 3.1630859375 10.005112648010254\n"
     ]
    }
   ],
   "source": [
    "left = mid\n",
    "mid = (left + right)/2\n",
    "print(left, right, mid, mid*mid)"
   ]
  },
  {
   "cell_type": "code",
   "execution_count": 51,
   "metadata": {},
   "outputs": [
    {
     "name": "stdout",
     "output_type": "stream",
     "text": [
      "L:1, R: 10, Guess: 5.5, SQ: 30.25\n",
      "L:1, R: 5.5, Guess: 3.25, SQ: 10.5625\n",
      "L:1, R: 3.25, Guess: 2.125, SQ: 4.515625\n",
      "L:2.125, R: 3.25, Guess: 2.6875, SQ: 7.22265625\n",
      "L:2.6875, R: 3.25, Guess: 2.96875, SQ: 8.8134765625\n",
      "L:2.96875, R: 3.25, Guess: 3.109375, SQ: 9.668212890625\n",
      "L:3.109375, R: 3.25, Guess: 3.1796875, SQ: 10.11041259765625\n",
      "L:3.109375, R: 3.1796875, Guess: 3.14453125, SQ: 9.888076782226562\n",
      "L:3.14453125, R: 3.1796875, Guess: 3.162109375, SQ: 9.99893569946289\n",
      "L:3.162109375, R: 3.1796875, Guess: 3.1708984375, SQ: 10.054596900939941\n",
      "L:3.162109375, R: 3.1708984375, Guess: 3.16650390625, SQ: 10.026746988296509\n",
      "L:3.162109375, R: 3.16650390625, Guess: 3.164306640625, SQ: 10.012836515903473\n",
      "L:3.162109375, R: 3.164306640625, Guess: 3.1632080078125, SQ: 10.005884900689125\n",
      "L:3.162109375, R: 3.1632080078125, Guess: 3.16265869140625, SQ: 10.002409998327494\n",
      "L:3.162109375, R: 3.16265869140625, Guess: 3.162384033203125, SQ: 10.000672773458064\n",
      "L:3.162109375, R: 3.162384033203125, Guess: 3.1622467041015625, SQ: 9.999804217601195\n",
      "L:3.1622467041015625, R: 3.162384033203125, Guess: 3.1623153686523438, SQ: 10.000238490814809\n",
      "L:3.1622467041015625, R: 3.1623153686523438, Guess: 3.162281036376953, SQ: 10.000021353029297\n",
      "L:3.1622467041015625, R: 3.162281036376953, Guess: 3.162263870239258, SQ: 9.99991278502057\n",
      "L:3.162263870239258, R: 3.162281036376953, Guess: 3.1622724533081055, SQ: 9.999967068951264\n"
     ]
    }
   ],
   "source": [
    "x = 10\n",
    "left = 1\n",
    "right = x\n",
    "\n",
    "for i in range(20):\n",
    "    guess = (left + right)/2\n",
    "    sqguess = guess*guess\n",
    "    print(f\"L:{left}, R: {right}, Guess: {guess}, SQ: {sqguess}\")\n",
    "    if sqguess > x:\n",
    "        right = guess\n",
    "    else:\n",
    "        left = guess\n",
    "    "
   ]
  },
  {
   "cell_type": "code",
   "execution_count": 52,
   "metadata": {},
   "outputs": [
    {
     "name": "stdout",
     "output_type": "stream",
     "text": [
      "L:3, R: 4, Guess: 3.5, SQ: 12.25\n",
      "L:3, R: 3.5, Guess: 3.25, SQ: 10.5625\n",
      "L:3, R: 3.25, Guess: 3.125, SQ: 9.765625\n",
      "L:3.125, R: 3.25, Guess: 3.1875, SQ: 10.16015625\n",
      "L:3.125, R: 3.1875, Guess: 3.15625, SQ: 9.9619140625\n",
      "L:3.15625, R: 3.1875, Guess: 3.171875, SQ: 10.060791015625\n",
      "L:3.15625, R: 3.171875, Guess: 3.1640625, SQ: 10.01129150390625\n",
      "L:3.15625, R: 3.1640625, Guess: 3.16015625, SQ: 9.986587524414062\n",
      "L:3.16015625, R: 3.1640625, Guess: 3.162109375, SQ: 9.99893569946289\n",
      "L:3.162109375, R: 3.1640625, Guess: 3.1630859375, SQ: 10.005112648010254\n",
      "L:3.162109375, R: 3.1630859375, Guess: 3.16259765625, SQ: 10.002023935317993\n",
      "L:3.162109375, R: 3.16259765625, Guess: 3.162353515625, SQ: 10.000479757785797\n",
      "L:3.162109375, R: 3.162353515625, Guess: 3.1622314453125, SQ: 9.999707713723183\n",
      "L:3.1622314453125, R: 3.162353515625, Guess: 3.16229248046875, SQ: 10.0000937320292\n",
      "L:3.1622314453125, R: 3.16229248046875, Guess: 3.162261962890625, SQ: 9.999900721944869\n",
      "L:3.162261962890625, R: 3.16229248046875, Guess: 3.1622772216796875, SQ: 9.999997226754203\n",
      "L:3.1622772216796875, R: 3.16229248046875, Guess: 3.1622848510742188, SQ: 10.000045479333494\n",
      "L:3.1622772216796875, R: 3.1622848510742188, Guess: 3.162281036376953, SQ: 10.000021353029297\n",
      "L:3.1622772216796875, R: 3.162281036376953, Guess: 3.1622791290283203, SQ: 10.000009289888112\n",
      "L:3.1622772216796875, R: 3.1622791290283203, Guess: 3.162278175354004, SQ: 10.000003258320248\n"
     ]
    }
   ],
   "source": [
    "x = 10\n",
    "left = 3\n",
    "right = 4\n",
    "\n",
    "for i in range(20):\n",
    "    guess = (left + right)/2\n",
    "    sqguess = guess*guess\n",
    "    print(f\"L:{left}, R: {right}, Guess: {guess}, SQ: {sqguess}\")\n",
    "    if sqguess > x:\n",
    "        right = guess\n",
    "    else:\n",
    "        left = guess\n",
    "    "
   ]
  },
  {
   "cell_type": "code",
   "execution_count": 54,
   "metadata": {},
   "outputs": [
    {
     "name": "stdout",
     "output_type": "stream",
     "text": [
      "L:1, R: 10, Guess: 5.5, SQ: 30.25\n",
      "L:1, R: 5.5, Guess: 3.25, SQ: 10.5625\n",
      "L:1, R: 3.25, Guess: 2.125, SQ: 4.515625\n",
      "L:2.125, R: 3.25, Guess: 2.6875, SQ: 7.22265625\n",
      "L:2.6875, R: 3.25, Guess: 2.96875, SQ: 8.8134765625\n",
      "L:2.96875, R: 3.25, Guess: 3.109375, SQ: 9.668212890625\n",
      "L:3.109375, R: 3.25, Guess: 3.1796875, SQ: 10.11041259765625\n",
      "L:3.109375, R: 3.1796875, Guess: 3.14453125, SQ: 9.888076782226562\n",
      "L:3.14453125, R: 3.1796875, Guess: 3.162109375, SQ: 9.99893569946289\n",
      "L:3.162109375, R: 3.1796875, Guess: 3.1708984375, SQ: 10.054596900939941\n",
      "L:3.162109375, R: 3.1708984375, Guess: 3.16650390625, SQ: 10.026746988296509\n",
      "L:3.162109375, R: 3.16650390625, Guess: 3.164306640625, SQ: 10.012836515903473\n",
      "L:3.162109375, R: 3.164306640625, Guess: 3.1632080078125, SQ: 10.005884900689125\n",
      "L:3.162109375, R: 3.1632080078125, Guess: 3.16265869140625, SQ: 10.002409998327494\n",
      "L:3.162109375, R: 3.16265869140625, Guess: 3.162384033203125, SQ: 10.000672773458064\n",
      "L:3.162109375, R: 3.162384033203125, Guess: 3.1622467041015625, SQ: 9.999804217601195\n",
      "L:3.1622467041015625, R: 3.162384033203125, Guess: 3.1623153686523438, SQ: 10.000238490814809\n",
      "L:3.1622467041015625, R: 3.1623153686523438, Guess: 3.162281036376953, SQ: 10.000021353029297\n",
      "L:3.1622467041015625, R: 3.162281036376953, Guess: 3.162263870239258, SQ: 9.99991278502057\n",
      "L:3.162263870239258, R: 3.162281036376953, Guess: 3.1622724533081055, SQ: 9.999967068951264\n",
      "L:3.1622724533081055, R: 3.162281036376953, Guess: 3.1622767448425293, SQ: 9.999994210971863\n",
      "L:3.1622767448425293, R: 3.162281036376953, Guess: 3.162278890609741, SQ: 10.000007781995976\n",
      "L:3.1622767448425293, R: 3.162278890609741, Guess: 3.1622778177261353, SQ: 10.000000996482768\n",
      "L:3.1622767448425293, R: 3.1622778177261353, Guess: 3.1622772812843323, SQ: 9.999997603727028\n",
      "L:3.1622772812843323, R: 3.1622778177261353, Guess: 3.1622775495052338, SQ: 9.999999300104825\n",
      "L:3.1622775495052338, R: 3.1622778177261353, Guess: 3.1622776836156845, SQ: 10.000000148293779\n",
      "L:3.1622775495052338, R: 3.1622776836156845, Guess: 3.162277616560459, SQ: 9.999999724199299\n",
      "L:3.162277616560459, R: 3.1622776836156845, Guess: 3.162277650088072, SQ: 9.999999936246537\n",
      "L:3.162277650088072, R: 3.1622776836156845, Guess: 3.162277666851878, SQ: 10.000000042270159\n",
      "L:3.162277650088072, R: 3.162277666851878, Guess: 3.162277658469975, SQ: 9.999999989258347\n",
      "L:3.162277658469975, R: 3.162277666851878, Guess: 3.1622776626609266, SQ: 10.000000015764252\n",
      "L:3.162277658469975, R: 3.1622776626609266, Guess: 3.162277660565451, SQ: 10.0000000025113\n",
      "Found it in 32 iterations!!: 3.162277660565451\n"
     ]
    }
   ],
   "source": [
    "x = 10\n",
    "left = 1\n",
    "right = x\n",
    "TOL = 1e-8 # 0.000000001\n",
    "\n",
    "itr = 0\n",
    "while True:\n",
    "    itr += 1\n",
    "    guess = (left + right)/2\n",
    "    sqguess = guess*guess\n",
    "    print(f\"L:{left}, R: {right}, Guess: {guess}, SQ: {sqguess}\")\n",
    "    if abs(sqguess - x) <= TOL:\n",
    "        print(f\"Found it in {itr} iterations!!: {guess}\")\n",
    "        break\n",
    "    if sqguess > x:\n",
    "        right = guess\n",
    "    else:\n",
    "        left = guess"
   ]
  },
  {
   "cell_type": "code",
   "execution_count": 58,
   "metadata": {},
   "outputs": [
    {
     "name": "stdout",
     "output_type": "stream",
     "text": [
      "L:1, R: 10, Guess: 5.5, SQ: 30.25\n",
      "L:1, R: 5.5, Guess: 3.25, SQ: 10.5625\n",
      "L:1, R: 3.25, Guess: 2.125, SQ: 4.515625\n",
      "L:2.125, R: 3.25, Guess: 2.6875, SQ: 7.22265625\n",
      "L:2.6875, R: 3.25, Guess: 2.96875, SQ: 8.8134765625\n",
      "L:2.96875, R: 3.25, Guess: 3.109375, SQ: 9.668212890625\n",
      "L:3.109375, R: 3.25, Guess: 3.1796875, SQ: 10.11041259765625\n",
      "L:3.109375, R: 3.1796875, Guess: 3.14453125, SQ: 9.888076782226562\n",
      "L:3.14453125, R: 3.1796875, Guess: 3.162109375, SQ: 9.99893569946289\n",
      "L:3.162109375, R: 3.1796875, Guess: 3.1708984375, SQ: 10.054596900939941\n",
      "L:3.162109375, R: 3.1708984375, Guess: 3.16650390625, SQ: 10.026746988296509\n",
      "L:3.162109375, R: 3.16650390625, Guess: 3.164306640625, SQ: 10.012836515903473\n",
      "L:3.162109375, R: 3.164306640625, Guess: 3.1632080078125, SQ: 10.005884900689125\n",
      "L:3.162109375, R: 3.1632080078125, Guess: 3.16265869140625, SQ: 10.002409998327494\n",
      "L:3.162109375, R: 3.16265869140625, Guess: 3.162384033203125, SQ: 10.000672773458064\n",
      "L:3.162109375, R: 3.162384033203125, Guess: 3.1622467041015625, SQ: 9.999804217601195\n",
      "L:3.1622467041015625, R: 3.162384033203125, Guess: 3.1623153686523438, SQ: 10.000238490814809\n",
      "L:3.1622467041015625, R: 3.1623153686523438, Guess: 3.162281036376953, SQ: 10.000021353029297\n",
      "L:3.1622467041015625, R: 3.162281036376953, Guess: 3.162263870239258, SQ: 9.99991278502057\n",
      "L:3.162263870239258, R: 3.162281036376953, Guess: 3.1622724533081055, SQ: 9.999967068951264\n",
      "L:3.1622724533081055, R: 3.162281036376953, Guess: 3.1622767448425293, SQ: 9.999994210971863\n",
      "L:3.1622767448425293, R: 3.162281036376953, Guess: 3.162278890609741, SQ: 10.000007781995976\n",
      "L:3.1622767448425293, R: 3.162278890609741, Guess: 3.1622778177261353, SQ: 10.000000996482768\n",
      "L:3.1622767448425293, R: 3.1622778177261353, Guess: 3.1622772812843323, SQ: 9.999997603727028\n",
      "L:3.1622772812843323, R: 3.1622778177261353, Guess: 3.1622775495052338, SQ: 9.999999300104825\n",
      "L:3.1622775495052338, R: 3.1622778177261353, Guess: 3.1622776836156845, SQ: 10.000000148293779\n",
      "L:3.1622775495052338, R: 3.1622776836156845, Guess: 3.162277616560459, SQ: 9.999999724199299\n",
      "L:3.162277616560459, R: 3.1622776836156845, Guess: 3.162277650088072, SQ: 9.999999936246537\n",
      "L:3.162277650088072, R: 3.1622776836156845, Guess: 3.162277666851878, SQ: 10.000000042270159\n",
      "L:3.162277650088072, R: 3.162277666851878, Guess: 3.162277658469975, SQ: 9.999999989258347\n",
      "L:3.162277658469975, R: 3.162277666851878, Guess: 3.1622776626609266, SQ: 10.000000015764252\n",
      "L:3.162277658469975, R: 3.1622776626609266, Guess: 3.162277660565451, SQ: 10.0000000025113\n",
      "Found it in 32 iterations!!: 3.162277660565451\n"
     ]
    },
    {
     "data": {
      "text/plain": [
       "3.162277660565451"
      ]
     },
     "execution_count": 58,
     "metadata": {},
     "output_type": "execute_result"
    }
   ],
   "source": [
    "def mysqrt1(x):\n",
    "    left = 1\n",
    "    right = x\n",
    "    TOL = 1e-8 # 0.000000001\n",
    "\n",
    "    itr = 0\n",
    "    while True:\n",
    "        itr += 1\n",
    "        guess = (left + right)/2\n",
    "        sqguess = guess*guess\n",
    "        print(f\"L:{left}, R: {right}, Guess: {guess}, SQ: {sqguess}\")\n",
    "        if abs(sqguess - x) <= TOL:\n",
    "            print(f\"Found it in {itr} iterations!!: {guess}\")\n",
    "            return guess\n",
    "        if sqguess > x:\n",
    "            right = guess\n",
    "        else:\n",
    "            left = guess\n",
    "mysqrt1(10)"
   ]
  },
  {
   "cell_type": "code",
   "execution_count": null,
   "metadata": {},
   "outputs": [],
   "source": [
    "mysqrt1(.5)"
   ]
  },
  {
   "cell_type": "code",
   "execution_count": null,
   "metadata": {},
   "outputs": [],
   "source": [
    "sqrt(.5) -> \n",
    ", 0 to .5 or .5 to 1"
   ]
  },
  {
   "cell_type": "code",
   "execution_count": 60,
   "metadata": {},
   "outputs": [
    {
     "name": "stdout",
     "output_type": "stream",
     "text": [
      "L:1, R: 10, Guess: 5.5, SQ: 30.25\n",
      "L:1, R: 5.5, Guess: 3.25, SQ: 10.5625\n",
      "L:1, R: 3.25, Guess: 2.125, SQ: 4.515625\n",
      "L:2.125, R: 3.25, Guess: 2.6875, SQ: 7.22265625\n",
      "L:2.6875, R: 3.25, Guess: 2.96875, SQ: 8.8134765625\n",
      "L:2.96875, R: 3.25, Guess: 3.109375, SQ: 9.668212890625\n",
      "L:3.109375, R: 3.25, Guess: 3.1796875, SQ: 10.11041259765625\n",
      "L:3.109375, R: 3.1796875, Guess: 3.14453125, SQ: 9.888076782226562\n",
      "L:3.14453125, R: 3.1796875, Guess: 3.162109375, SQ: 9.99893569946289\n",
      "L:3.162109375, R: 3.1796875, Guess: 3.1708984375, SQ: 10.054596900939941\n",
      "L:3.162109375, R: 3.1708984375, Guess: 3.16650390625, SQ: 10.026746988296509\n",
      "L:3.162109375, R: 3.16650390625, Guess: 3.164306640625, SQ: 10.012836515903473\n",
      "L:3.162109375, R: 3.164306640625, Guess: 3.1632080078125, SQ: 10.005884900689125\n",
      "L:3.162109375, R: 3.1632080078125, Guess: 3.16265869140625, SQ: 10.002409998327494\n",
      "L:3.162109375, R: 3.16265869140625, Guess: 3.162384033203125, SQ: 10.000672773458064\n",
      "L:3.162109375, R: 3.162384033203125, Guess: 3.1622467041015625, SQ: 9.999804217601195\n",
      "L:3.1622467041015625, R: 3.162384033203125, Guess: 3.1623153686523438, SQ: 10.000238490814809\n",
      "L:3.1622467041015625, R: 3.1623153686523438, Guess: 3.162281036376953, SQ: 10.000021353029297\n",
      "L:3.1622467041015625, R: 3.162281036376953, Guess: 3.162263870239258, SQ: 9.99991278502057\n",
      "L:3.162263870239258, R: 3.162281036376953, Guess: 3.1622724533081055, SQ: 9.999967068951264\n",
      "L:3.1622724533081055, R: 3.162281036376953, Guess: 3.1622767448425293, SQ: 9.999994210971863\n",
      "L:3.1622767448425293, R: 3.162281036376953, Guess: 3.162278890609741, SQ: 10.000007781995976\n",
      "L:3.1622767448425293, R: 3.162278890609741, Guess: 3.1622778177261353, SQ: 10.000000996482768\n",
      "L:3.1622767448425293, R: 3.1622778177261353, Guess: 3.1622772812843323, SQ: 9.999997603727028\n",
      "L:3.1622772812843323, R: 3.1622778177261353, Guess: 3.1622775495052338, SQ: 9.999999300104825\n",
      "L:3.1622775495052338, R: 3.1622778177261353, Guess: 3.1622776836156845, SQ: 10.000000148293779\n",
      "L:3.1622775495052338, R: 3.1622776836156845, Guess: 3.162277616560459, SQ: 9.999999724199299\n",
      "L:3.162277616560459, R: 3.1622776836156845, Guess: 3.162277650088072, SQ: 9.999999936246537\n",
      "L:3.162277650088072, R: 3.1622776836156845, Guess: 3.162277666851878, SQ: 10.000000042270159\n",
      "L:3.162277650088072, R: 3.162277666851878, Guess: 3.162277658469975, SQ: 9.999999989258347\n",
      "L:3.162277658469975, R: 3.162277666851878, Guess: 3.1622776626609266, SQ: 10.000000015764252\n",
      "L:3.162277658469975, R: 3.1622776626609266, Guess: 3.162277660565451, SQ: 10.0000000025113\n",
      "Found it in 32 iterations!!: 3.162277660565451\n"
     ]
    },
    {
     "data": {
      "text/plain": [
       "3.162277660565451"
      ]
     },
     "execution_count": 60,
     "metadata": {},
     "output_type": "execute_result"
    }
   ],
   "source": [
    "def mysqrt(x):\n",
    "    left = 1\n",
    "    right = 1\n",
    "    if x < 1:\n",
    "        left = x # between x and 1\n",
    "    else:\n",
    "        right = x # between 1 and x\n",
    "        \n",
    "    TOL = 1e-8 # 0.000000001\n",
    "\n",
    "    itr = 0\n",
    "    while True:\n",
    "        itr += 1\n",
    "        guess = (left + right)/2\n",
    "        sqguess = guess*guess\n",
    "        print(f\"L:{left}, R: {right}, Guess: {guess}, SQ: {sqguess}\")\n",
    "        if abs(sqguess - x) <= TOL:\n",
    "            print(f\"Found it in {itr} iterations!!: {guess}\")\n",
    "            return guess\n",
    "        if sqguess > x:\n",
    "            right = guess\n",
    "        else:\n",
    "            left = guess\n",
    "mysqrt(10)"
   ]
  },
  {
   "cell_type": "code",
   "execution_count": 61,
   "metadata": {},
   "outputs": [
    {
     "name": "stdout",
     "output_type": "stream",
     "text": [
      "L:0.5, R: 1, Guess: 0.75, SQ: 0.5625\n",
      "L:0.5, R: 0.75, Guess: 0.625, SQ: 0.390625\n",
      "L:0.625, R: 0.75, Guess: 0.6875, SQ: 0.47265625\n",
      "L:0.6875, R: 0.75, Guess: 0.71875, SQ: 0.5166015625\n",
      "L:0.6875, R: 0.71875, Guess: 0.703125, SQ: 0.494384765625\n",
      "L:0.703125, R: 0.71875, Guess: 0.7109375, SQ: 0.50543212890625\n",
      "L:0.703125, R: 0.7109375, Guess: 0.70703125, SQ: 0.4998931884765625\n",
      "L:0.70703125, R: 0.7109375, Guess: 0.708984375, SQ: 0.5026588439941406\n",
      "L:0.70703125, R: 0.708984375, Guess: 0.7080078125, SQ: 0.5012750625610352\n",
      "L:0.70703125, R: 0.7080078125, Guess: 0.70751953125, SQ: 0.5005838871002197\n",
      "L:0.70703125, R: 0.70751953125, Guess: 0.707275390625, SQ: 0.5002384781837463\n",
      "L:0.70703125, R: 0.707275390625, Guess: 0.7071533203125, SQ: 0.5000658184289932\n",
      "L:0.70703125, R: 0.7071533203125, Guess: 0.70709228515625, SQ: 0.49997949972748756\n",
      "L:0.70709228515625, R: 0.7071533203125, Guess: 0.707122802734375, SQ: 0.5000226581469178\n",
      "L:0.70709228515625, R: 0.707122802734375, Guess: 0.7071075439453125, SQ: 0.500001078704372\n",
      "L:0.70709228515625, R: 0.7071075439453125, Guess: 0.7070999145507812, SQ: 0.49999028915772215\n",
      "L:0.7070999145507812, R: 0.7071075439453125, Guess: 0.7071037292480469, SQ: 0.4999956839164952\n",
      "L:0.7071037292480469, R: 0.7071075439453125, Guess: 0.7071056365966797, SQ: 0.49999838130679564\n",
      "L:0.7071056365966797, R: 0.7071075439453125, Guess: 0.7071065902709961, SQ: 0.49999973000467435\n",
      "L:0.7071065902709961, R: 0.7071075439453125, Guess: 0.7071070671081543, SQ: 0.5000004043542958\n",
      "L:0.7071065902709961, R: 0.7071070671081543, Guess: 0.7071068286895752, SQ: 0.5000000671794282\n",
      "L:0.7071065902709961, R: 0.7071068286895752, Guess: 0.7071067094802856, SQ: 0.4999998985920371\n",
      "L:0.7071067094802856, R: 0.7071068286895752, Guess: 0.7071067690849304, SQ: 0.4999999828857291\n",
      "L:0.7071067690849304, R: 0.7071068286895752, Guess: 0.7071067988872528, SQ: 0.5000000250325778\n",
      "L:0.7071067690849304, R: 0.7071067988872528, Guess: 0.7071067839860916, SQ: 0.5000000039591532\n",
      "Found it in 25 iterations!!: 0.7071067839860916\n"
     ]
    },
    {
     "data": {
      "text/plain": [
       "0.7071067839860916"
      ]
     },
     "execution_count": 61,
     "metadata": {},
     "output_type": "execute_result"
    }
   ],
   "source": [
    "mysqrt(.5)"
   ]
  },
  {
   "cell_type": "code",
   "execution_count": null,
   "metadata": {},
   "outputs": [],
   "source": [
    "# SQRT\n",
    "# CubeRoot\n",
    "# forthroot\n",
    "# nth root\n",
    "# TODO: take care of negative numbers\n",
    "# log10(x)\n"
   ]
  },
  {
   "cell_type": "code",
   "execution_count": null,
   "metadata": {},
   "outputs": [],
   "source": [
    "log10(2) = x, \n",
    "\n",
    "10**x = 2, \n",
    "\n",
    "x=??"
   ]
  },
  {
   "cell_type": "code",
   "execution_count": 63,
   "metadata": {},
   "outputs": [
    {
     "data": {
      "text/plain": [
       "1.995721793992633"
      ]
     },
     "execution_count": 63,
     "metadata": {},
     "output_type": "execute_result"
    }
   ],
   "source": [
    "10**.3001"
   ]
  },
  {
   "cell_type": "code",
   "execution_count": null,
   "metadata": {},
   "outputs": [],
   "source": [
    "#GK\n",
    "\n",
    "def my_logbase10(num):\n",
    "    if(num>10):\n",
    "        left=1\n",
    "        right=num\n",
    "    elif(num>=1):\n",
    "        left=0\n",
    "        right=1\n",
    "    elif(num<1):\n",
    "        guess=my_logbase10_less(num)\n",
    "        return guess\n",
    "    while True:\n",
    "        guess=(left+right)/2\n",
    "        result=10**guess\n",
    "        print(f\"left: {left}, right: {right}, guess: {guess}, result: {result}, {result-num}\")\n",
    "        if(abs(result-num)<0.0001):\n",
    "            print(f\"your guess was right{guess},{result}\")\n",
    "            return guess\n",
    "        elif(result>num):\n",
    "            print(\"decrease your guess\")\n",
    "            right=guess\n",
    "        else:\n",
    "            print(\"increase your guess\")\n",
    "            left=guess\n",
    "def my_logbase10_less(num):\n",
    "    if(num<1):\n",
    "        left=0\n",
    "        right=10 \n",
    "    while True:\n",
    "        guess=(left+right)/2\n",
    "        result=10**(-guess)\n",
    "        print(f\"left: {left}, right: {right}, guess: {-guess}, result: {result}, {result-num}\")\n",
    "        if(abs(result-num)<0.00000001):\n",
    "            print(f\"your guess was right{-guess},{result}\")\n",
    "            return guess\n",
    "        elif(result>num):\n",
    "            print(\"decrease your guess\")\n",
    "            left=guess\n",
    "        else:\n",
    "            print(\"increase your guess\")\n",
    "            right=guess"
   ]
  },
  {
   "cell_type": "code",
   "execution_count": 1,
   "metadata": {},
   "outputs": [],
   "source": [
    "# gk"
   ]
  },
  {
   "cell_type": "code",
   "execution_count": null,
   "metadata": {},
   "outputs": [],
   "source": []
  }
 ],
 "metadata": {
  "kernelspec": {
   "display_name": "Python 3",
   "language": "python",
   "name": "python3"
  },
  "language_info": {
   "codemirror_mode": {
    "name": "ipython",
    "version": 3
   },
   "file_extension": ".py",
   "mimetype": "text/x-python",
   "name": "python",
   "nbconvert_exporter": "python",
   "pygments_lexer": "ipython3",
   "version": "3.6.8"
  },
  "toc": {
   "base_numbering": 1,
   "nav_menu": {},
   "number_sections": true,
   "sideBar": true,
   "skip_h1_title": false,
   "title_cell": "Table of Contents",
   "title_sidebar": "Contents",
   "toc_cell": false,
   "toc_position": {},
   "toc_section_display": true,
   "toc_window_display": false
  }
 },
 "nbformat": 4,
 "nbformat_minor": 2
}
