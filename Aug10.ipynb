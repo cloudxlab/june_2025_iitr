{
 "cells": [
  {
   "cell_type": "code",
   "execution_count": null,
   "metadata": {},
   "outputs": [],
   "source": [
    "# Q: Git problem\n"
   ]
  },
  {
   "cell_type": "markdown",
   "metadata": {},
   "source": [
    "# Books and Youtube Channels\n",
    "\n",
    "0. ChatGTP / Google\n",
    "\n",
    "# Youtube Channel\n",
    "0. Reducible https://www.youtube.com/watch?v=rf6uf3jNjbo\n",
    "1. Understand how computers work: https://www.youtube.com/watch?v=VrjlKXq1vxI or nandgame.com\n",
    "2. \n",
    "\n",
    "# Books\n",
    "0. https://en.wikipedia.org/wiki/The_Art_of_Computer_Programming\n",
    "1. https://en.wikipedia.org/wiki/The_C_Programming_Language\n",
    "2. Elements of Programming Interviews in Python\n",
    "3. LeetCode\n"
   ]
  },
  {
   "cell_type": "markdown",
   "metadata": {},
   "source": [
    "# Recursion - Doubts?\n",
    "- power\n",
    "- tower of hanoi?\n",
    "- division\n"
   ]
  },
  {
   "cell_type": "code",
   "execution_count": null,
   "metadata": {},
   "outputs": [],
   "source": [
    "\n",
    "\n",
    "# Review of Exercises:\n",
    "1. Impurity\n"
   ]
  }
 ],
 "metadata": {
  "kernelspec": {
   "display_name": "Python 3",
   "language": "python",
   "name": "python3"
  },
  "language_info": {
   "codemirror_mode": {
    "name": "ipython",
    "version": 3
   },
   "file_extension": ".py",
   "mimetype": "text/x-python",
   "name": "python",
   "nbconvert_exporter": "python",
   "pygments_lexer": "ipython3",
   "version": "3.6.8"
  },
  "toc": {
   "base_numbering": 1,
   "nav_menu": {},
   "number_sections": true,
   "sideBar": true,
   "skip_h1_title": false,
   "title_cell": "Table of Contents",
   "title_sidebar": "Contents",
   "toc_cell": false,
   "toc_position": {},
   "toc_section_display": true,
   "toc_window_display": false
  }
 },
 "nbformat": 4,
 "nbformat_minor": 2
}
