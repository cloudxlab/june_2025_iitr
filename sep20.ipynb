{
 "cells": [
  {
   "cell_type": "code",
   "execution_count": 1,
   "metadata": {},
   "outputs": [],
   "source": [
    "# binary search?\n"
   ]
  },
  {
   "cell_type": "code",
   "execution_count": 3,
   "metadata": {},
   "outputs": [],
   "source": [
    "# Tanya\n",
    "def search(lst, n):\n",
    "    length = len(lst)\n",
    "    first = 0\n",
    "    last = length\n",
    "    while first != last:\n",
    "        index = (first+last)//2\n",
    "        if lst[index] == n:\n",
    "            return index\n",
    "        if lst[index] > n:\n",
    "            last -= 1\n",
    "        if lst[index] < n:\n",
    "            first += 1\n",
    "    return -1"
   ]
  },
  {
   "cell_type": "code",
   "execution_count": 4,
   "metadata": {},
   "outputs": [],
   "source": [
    "# GK\n",
    "def binary_search(a,b):#this will work only in sorted.\n",
    "    #print(f\"a:{a}, b:{b}\")\n",
    "    #a_=sorted(a) # it will consume lot of computational space. as it goes through the entire list.\n",
    "    a_=a\n",
    "    #print(f\"a_ is {a_}\")\n",
    "    start=0\n",
    "    end=len(a)-1\n",
    "    \n",
    "    if(end==-1):\n",
    "     #   print(\"List is empty\")\n",
    "        return False\n",
    "    while True:\n",
    "        #print(\"-----------\")\n",
    "        mid=((start+end)//2)\n",
    "        #print(f\"start: {start},end: {end},mid: {mid}\")\n",
    "        #print(f\"-->a_[mid]: {a_[mid]}\")\n",
    "        old_mid=mid\n",
    "        #print(f\"old_mid: {old_mid}\")\n",
    "        if(a_[mid]==b):\n",
    "            \n",
    "         #   print(f\"found the match\")\n",
    "            return True\n",
    "        elif (a_[mid]>b):\n",
    "            \n",
    "            end=mid-1\n",
    "            \n",
    "          #  print(f\"a[mid]:{a_[mid]} is greater than b:{b}\")\n",
    "            \n",
    "        elif (a_[mid]<b):\n",
    "            start=mid+1\n",
    "           # print(f\"a[mid]:{a_[mid]} is less than b:{b}\")\n",
    "           \n",
    "        if(old_mid==(start+end)//2):\n",
    "            #print(f\"found nothing\")\n",
    "            return False"
   ]
  },
  {
   "cell_type": "code",
   "execution_count": 5,
   "metadata": {},
   "outputs": [],
   "source": [
    "#Ashutosh\n",
    "\n",
    "def search(lst, num):\n",
    "    start = 0\n",
    "    end = len(lst) - 1\n",
    "    res = bin_search(lst, num, start, end)\n",
    "    return res\n",
    "#counter=0\n",
    "\n",
    "def bin_search(lst, num, start, end): #Assume that the list is sorted\n",
    "    if start > end:\n",
    "        return -1\n",
    "    mid = (start + end) // 2\n",
    "    \n",
    "    #if counter > int(math.log2(len(lst))) + 1:\n",
    "        #return mid, -1\n",
    "    \n",
    "    if lst[mid] == num:\n",
    "        return mid\n",
    "    \n",
    "    elif lst[mid] > num:\n",
    "        print(\"---------------\")\n",
    "        print(f\"{lst[mid]} is greater than target {num}\")\n",
    "        end = mid - 1\n",
    "        print(f\"start: index {start}, end: index {end}\")\n",
    "        print(\"---------------\")\n",
    "        \n",
    "        return bin_search(lst, num, start, end)\n",
    "    \n",
    "    else:\n",
    "        print(\"----------------\")\n",
    "        start = mid + 1\n",
    "        print(f\"The value {lst[mid]} was less than {num}\")\n",
    "        print(f\"start: index {start}, end:index {end}\")\n",
    "        print(\"----------------\")\n",
    "        \n",
    "        return bin_search(lst, num, start, end)"
   ]
  },
  {
   "cell_type": "code",
   "execution_count": 6,
   "metadata": {},
   "outputs": [],
   "source": [
    "# GK\n",
    "\n",
    "class NN:\n",
    "    def __init__(self):\n",
    "        print(\"Nearest Neighbour function\")\n",
    "    def fit(self, X,y):\n",
    "        Z=[]\n",
    "        for i in range(len(y)):\n",
    "            Z.append(X[i]+[y[i]])\n",
    "        self.Z=Z\n",
    "        return \n",
    "    def predict(self,A):\n",
    "        dist=[]\n",
    "        for i in range(len(self.Z)):\n",
    "            dist.append((A[0]-self.Z[i][0])**2+(A[1]-self.Z[i][1])**2)\n",
    "        print(dist,\"-----\")\n",
    "        min_dist=float('inf')\n",
    "        for i in range(len(dist)):\n",
    "            if(dist[i]<min_dist):\n",
    "                min_dist=dist[i]\n",
    "                min_index=i\n",
    "        print(min_dist,min_index)    \n",
    "        \n",
    "        return self.Z[min_index][2]"
   ]
  },
  {
   "cell_type": "code",
   "execution_count": 7,
   "metadata": {},
   "outputs": [],
   "source": [
    "# GK\n",
    "\n",
    "class KNN:\n",
    "    def __init__(self, K):\n",
    "        print(\"Nearest Neighbour function\")\n",
    "        self.K = K\n",
    "\n",
    "    def fit(self, X, y):\n",
    "        self.Z = [X[i] + [y[i]] for i in range(len(y))]\n",
    "\n",
    "    def predict(self, A):\n",
    "        # Compute distances to all training points\n",
    "        dist = []\n",
    "        for i in range(len(self.Z)):\n",
    "            d = (A[0] - self.Z[i][0])**2 + (A[1] - self.Z[i][1])**2\n",
    "            dist.append((d, self.Z[i][-1]))  # (distance, label)\n",
    "\n",
    "        # Sort by distance and pick top K\n",
    "        dist.sort(key=lambda x: x[0])\n",
    "        k_nearest = dist[:self.K]\n",
    "\n",
    "        print(\"K nearest distances and labels:\", k_nearest)\n",
    "        \n",
    "        sum_k=0\n",
    "\n",
    "        for i in range(len(k_nearest)):\n",
    "            sum_k=sum_k+k_nearest[i][1]\n",
    "        prediction=sum_k/len(k_nearest)\n",
    "       \n",
    "        return prediction"
   ]
  },
  {
   "cell_type": "code",
   "execution_count": 8,
   "metadata": {
    "scrolled": true
   },
   "outputs": [
    {
     "name": "stdout",
     "output_type": "stream",
     "text": [
      "10\n"
     ]
    },
    {
     "ename": "NameError",
     "evalue": "name 'counter' is not defined",
     "output_type": "error",
     "traceback": [
      "\u001b[0;31m---------------------------------------------------------------------------\u001b[0m",
      "\u001b[0;31mNameError\u001b[0m                                 Traceback (most recent call last)",
      "\u001b[0;32m<ipython-input-8-f7e154ec8d99>\u001b[0m in \u001b[0;36m<module>\u001b[0;34m\u001b[0m\n\u001b[1;32m     15\u001b[0m         \u001b[0mr\u001b[0m \u001b[0;34m=\u001b[0m \u001b[0mm\u001b[0m\u001b[0;34m\u001b[0m\u001b[0;34m\u001b[0m\u001b[0m\n\u001b[1;32m     16\u001b[0m     \u001b[0mm\u001b[0m \u001b[0;34m=\u001b[0m \u001b[0;34m(\u001b[0m\u001b[0ml\u001b[0m \u001b[0;34m+\u001b[0m \u001b[0mr\u001b[0m\u001b[0;34m)\u001b[0m \u001b[0;34m//\u001b[0m \u001b[0;36m2\u001b[0m\u001b[0;34m\u001b[0m\u001b[0;34m\u001b[0m\u001b[0m\n\u001b[0;32m---> 17\u001b[0;31m     \u001b[0mprint\u001b[0m\u001b[0;34m(\u001b[0m\u001b[0mcounter\u001b[0m\u001b[0;34m,\u001b[0m \u001b[0mm\u001b[0m\u001b[0;34m,\u001b[0m \u001b[0ms\u001b[0m\u001b[0;34m[\u001b[0m\u001b[0mm\u001b[0m\u001b[0;34m]\u001b[0m\u001b[0;34m)\u001b[0m\u001b[0;34m\u001b[0m\u001b[0;34m\u001b[0m\u001b[0m\n\u001b[0m\u001b[1;32m     18\u001b[0m     \u001b[0;31m#counter += 1\u001b[0m\u001b[0;34m\u001b[0m\u001b[0;34m\u001b[0m\u001b[0;34m\u001b[0m\u001b[0m\n\u001b[1;32m     19\u001b[0m     \u001b[0;31m#if counter == 20:\u001b[0m\u001b[0;34m\u001b[0m\u001b[0;34m\u001b[0m\u001b[0;34m\u001b[0m\u001b[0m\n",
      "\u001b[0;31mNameError\u001b[0m: name 'counter' is not defined"
     ]
    }
   ],
   "source": [
    "# nigam\n",
    "\n",
    "#Nigam\n",
    "s = [1, 3, 5, 7, 8, 10, 15, 19, 20, 22, 25, 28, 34, 38, 40, 42, 44, 46, 48, 50, 60]\n",
    "input = 50\n",
    "l = 0\n",
    "r = len(s)\n",
    "m = (l + r) // 2\n",
    "#counter = 1\n",
    "print(m)\n",
    "while input != s[m]:\n",
    "    if input > s[m]:\n",
    "        l = m\n",
    "    else:\n",
    "        r = m\n",
    "    m = (l + r) // 2\n",
    "    print(counter, m, s[m])\n",
    "    #counter += 1\n",
    "    #if counter == 20:\n",
    "        #break\n",
    "\n",
    "print(m)"
   ]
  },
  {
   "cell_type": "code",
   "execution_count": 9,
   "metadata": {},
   "outputs": [
    {
     "name": "stdout",
     "output_type": "stream",
     "text": [
      "left: 0\n",
      "Mid: 4\n",
      "Right: 9\n",
      "Array value : 5.1\n",
      "left: 5\n",
      "Mid: 7\n",
      "Right: 9\n",
      "Array value : 9.9\n",
      "left: 5\n",
      "Mid: 5\n",
      "Right: 6\n",
      "Array value : 7.7\n",
      "Found x 7.7 in location 5\n",
      "Binary search: 5\n"
     ]
    }
   ],
   "source": [
    "#sneha\n",
    "\n",
    "#Binary search\n",
    "\n",
    "def binarySearch(arr,x,left,right):\n",
    "    mid=(left+right)//2\n",
    "    print(\"left:\",left)\n",
    "    print(\"Mid:\",mid)\n",
    "    print(\"Right:\",right)\n",
    "    print(\"Array value :\",arr[mid])\n",
    "    if(arr[mid]==x):\n",
    "        print(\"Found x\",x,\"in location\", mid)\n",
    "        return mid\n",
    "    elif(left>=right):\n",
    "        print(\"Value not found\")\n",
    "        return -1 \n",
    "    else:\n",
    "        if(arr[mid]<x):\n",
    "            left=mid+1\n",
    "        else:\n",
    "            right=mid-1\n",
    "        return (binarySearch(arr,x,left,right))\n",
    "\n",
    "    \n",
    "arr=[-1,0.9,2.9,3.5,5.1,7.7,8.5,9.9,10.3]\n",
    "print(\"Binary search:\",binarySearch(arr,7.7,0,len(arr)))"
   ]
  },
  {
   "cell_type": "code",
   "execution_count": 10,
   "metadata": {},
   "outputs": [
    {
     "name": "stdout",
     "output_type": "stream",
     "text": [
      "init is called\n"
     ]
    }
   ],
   "source": [
    "#Nigam + chatGPT\n",
    "class TwoPointLine:\n",
    "    \n",
    "    def __init__(self):\n",
    "        self.m = None\n",
    "        print('init is called')\n",
    "        self.c = None\n",
    "        self.eps = 1e-10\n",
    "\n",
    "    def fit(self, X, y):\n",
    "        x1, x2 = X[0][0], X[1][0]\n",
    "        y1, y2 = y[0], y[1]\n",
    "\n",
    "        self.m = (y2 - y1) / (x2 - x1 + self.eps)\n",
    "        self.c = y1 - self.m * x1\n",
    "\n",
    "    def predict(self, X):\n",
    "        predictions = []\n",
    "        for x in X:\n",
    "            predictions.append(self.m * x[0] + self.c)\n",
    "        return predictions\n",
    "model = TwoPointLine()"
   ]
  },
  {
   "cell_type": "code",
   "execution_count": 13,
   "metadata": {
    "code_folding": []
   },
   "outputs": [],
   "source": [
    "def binary_search(lst, e): #bisect, bisection\n",
    "    left = 0\n",
    "    right = len(lst) - 1\n",
    "    while left <= right:\n",
    "        mid = (left + right)//2\n",
    "        if lst[mid] == e:\n",
    "            return mid\n",
    "        elif lst[mid] > e:\n",
    "            right = mid - 1\n",
    "        else:\n",
    "            left = mid + 1\n",
    "    return -1"
   ]
  },
  {
   "cell_type": "code",
   "execution_count": 25,
   "metadata": {},
   "outputs": [
    {
     "name": "stdout",
     "output_type": "stream",
     "text": [
      "✅ All test cases passed!\n"
     ]
    }
   ],
   "source": [
    "def run_tests():\n",
    "    \n",
    "    # 1. Basic functionality\n",
    "    assert binary_search([1, 3, 5, 7, 9], 5) == 2\n",
    "    assert binary_search([1, 3, 5, 7, 9], 1) == 0\n",
    "    assert binary_search([1, 3, 5, 7, 9], 9) == 4\n",
    "\n",
    "    # 2. Not found cases\n",
    "    assert binary_search([10, 20, 30], 5) == -1\n",
    "    assert binary_search([10, 20, 30], 40) == -1\n",
    "    assert binary_search([10, 20, 30], 25) == -1\n",
    "\n",
    "    # 3. Edge cases\n",
    "    assert binary_search([], 5) == -1\n",
    "    assert binary_search([], None) == -1\n",
    "    \n",
    "    assert binary_search([7], 7) == 0\n",
    "    assert binary_search([7], 3) == -1\n",
    "    assert binary_search([7], 8) == -1\n",
    "    \n",
    "    assert binary_search([1, 2], 8) == -1\n",
    "    assert binary_search([1, 2], -1) == -1\n",
    "    assert binary_search([1, 2], 1) == 0\n",
    "    assert binary_search([1, 2], 2) == 1\n",
    "\n",
    "    # 4. Duplicates\n",
    "    assert binary_search([1, 2, 2, 2, 3], 2) in (1, 2, 3)\n",
    "    assert binary_search([5, 5, 5, 5], 5) in (0, 1, 2, 3)\n",
    "    assert binary_search([5, 5, 5, 5], 7) == -1\n",
    "\n",
    "    # 5. Large inputs\n",
    "    big = list(range(1_000_000))\n",
    "    assert binary_search(big, 5) == 5\n",
    "    assert binary_search(big, 999_999) == 999_999\n",
    "\n",
    "    print(\"✅ All test cases passed!\")\n",
    "\n",
    "\n",
    "# Run the tests\n",
    "run_tests()"
   ]
  },
  {
   "cell_type": "code",
   "execution_count": null,
   "metadata": {},
   "outputs": [],
   "source": [
    "# Regex\n",
    "# Sorting\n",
    "# Modules\n",
    "# How to build a webapp?\n",
    "# Use ChatGPT to build a basic chat-bot\n",
    "# Sentiment Analysis - LLM\n",
    "# --\n",
    "# Numpy\n",
    "# Regression\n",
    "# ML - IIT Roorkee\n",
    "# DeepLearning - SG\n"
   ]
  }
 ],
 "metadata": {
  "kernelspec": {
   "display_name": "Python 3",
   "language": "python",
   "name": "python3"
  },
  "language_info": {
   "codemirror_mode": {
    "name": "ipython",
    "version": 3
   },
   "file_extension": ".py",
   "mimetype": "text/x-python",
   "name": "python",
   "nbconvert_exporter": "python",
   "pygments_lexer": "ipython3",
   "version": "3.6.8"
  },
  "toc": {
   "base_numbering": 1,
   "nav_menu": {},
   "number_sections": true,
   "sideBar": true,
   "skip_h1_title": false,
   "title_cell": "Table of Contents",
   "title_sidebar": "Contents",
   "toc_cell": false,
   "toc_position": {},
   "toc_section_display": true,
   "toc_window_display": false
  }
 },
 "nbformat": 4,
 "nbformat_minor": 2
}
