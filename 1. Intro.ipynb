{
 "cells": [
  {
   "cell_type": "code",
   "execution_count": 1,
   "metadata": {},
   "outputs": [
    {
     "data": {
      "text/plain": [
       "2"
      ]
     },
     "execution_count": 1,
     "metadata": {},
     "output_type": "execute_result"
    }
   ],
   "source": [
    "1+1"
   ]
  },
  {
   "cell_type": "markdown",
   "metadata": {},
   "source": [
    "# Git:\n",
    "\n",
    "1. git clone git@github.com:cloudxlab/june_2025_iitr.git\n",
    "2. cd june_2025_iitr\n",
    "3. git add 1.\\ Intro.ipynb\n",
    "4. git commit -m \"class notes\" .\n",
    "5. git push"
   ]
  },
  {
   "cell_type": "markdown",
   "metadata": {},
   "source": [
    "# For you:\n",
    "\n",
    "git clone https://github.com/cloudxlab/june_2025_iitr.git"
   ]
  },
  {
   "cell_type": "markdown",
   "metadata": {},
   "source": [
    "# Fixing a bug\n",
    "\n",
    "- Create a branch\n",
    "- Fix the bug: fix the code, testing\n",
    "- git add/commit/push. \n",
    "- Create something call a pull request - #PR"
   ]
  },
  {
   "cell_type": "markdown",
   "metadata": {},
   "source": [
    "# Getting new updates\n",
    "\n",
    "git pull\n"
   ]
  },
  {
   "cell_type": "code",
   "execution_count": null,
   "metadata": {},
   "outputs": [],
   "source": [
    "# Create a number system,\n",
    "\n",
    "Choose a number between 3 and 13 except for 10. We call it base."
   ]
  },
  {
   "cell_type": "code",
   "execution_count": null,
   "metadata": {},
   "outputs": [],
   "source": [
    "# Base 10\n",
    "We have total 10 symbols - 0, 1,....9, 10\n",
    "\n",
    "# Base 5\n",
    "0\n",
    "1\n",
    "2\n",
    "3\n",
    "4\n",
    "10\n",
    "11\n",
    "12\n",
    "13\n",
    "14\n",
    "20\n",
    "...\n",
    "24\n",
    "30\n",
    "..\n",
    "..\n",
    "44\n",
    "100\n",
    "..\n",
    "134\n",
    "140\n"
   ]
  },
  {
   "cell_type": "code",
   "execution_count": null,
   "metadata": {},
   "outputs": [],
   "source": [
    "# Base 14\n",
    "0, 1, 2, 3, .....9, A, B, C, D, 10, 11,12....1C, 1D, 20, ....2D, 30, "
   ]
  },
  {
   "cell_type": "code",
   "execution_count": null,
   "metadata": {},
   "outputs": [],
   "source": [
    "# Base 64\n",
    "Letter, numbers, _-\n",
    "0,1,...9,A,....Z, a,..z, _=10....1_, 20...2_,.....___\n"
   ]
  },
  {
   "cell_type": "code",
   "execution_count": null,
   "metadata": {},
   "outputs": [],
   "source": [
    "# Base 6\n",
    "0\n",
    "1\n",
    "2\n",
    "3\n",
    "4\n",
    "5\n",
    "10\n",
    "11\n",
    "12\n",
    "13\n",
    "14\n",
    "15\n",
    "20\n",
    "..\n"
   ]
  },
  {
   "cell_type": "code",
   "execution_count": null,
   "metadata": {},
   "outputs": [],
   "source": [
    "can you pl explain base 5 only how 100 came after 44"
   ]
  },
  {
   "cell_type": "code",
   "execution_count": null,
   "metadata": {},
   "outputs": [],
   "source": [
    "4\n",
    "10\n",
    "11\n",
    "12\n",
    "13\n",
    "14\n",
    "20\n",
    "21\n",
    "22\n",
    "23\n",
    "24\n",
    "30\n",
    "..\n",
    "34\n",
    "40\n",
    "..\n",
    "44\n",
    "100\n"
   ]
  },
  {
   "cell_type": "markdown",
   "metadata": {},
   "source": [
    "because when we add 1 in the \"one's place\" (The rightmost 4), we get a 5, which will carry over to the next 4, which in itself becomes a \"5\". Since we are in base 5, we now have 5 5's, or one 5^2, which means it would be compared to 10^2 in base 10 or 100"
   ]
  },
  {
   "cell_type": "markdown",
   "metadata": {},
   "source": [
    "I was going to ask that even though it is absurd if we come up with our own arethimetic operations can't we define them such that the operations make sense even if the increment happens on the lhs, apologies about the mic issue I will rejoin from another device "
   ]
  },
  {
   "cell_type": "markdown",
   "metadata": {},
   "source": [
    "Actually that concept is out there… it’s the Big-Endian vs Little-Endian system when applied to base 10.  The normal number system can be viewed as Big-Endian."
   ]
  },
  {
   "cell_type": "code",
   "execution_count": null,
   "metadata": {},
   "outputs": [],
   "source": [
    "base 9\n",
    "0\n",
    "1\n",
    "2\n",
    "3\n",
    "4\n",
    "5\n",
    "6\n",
    "7\n",
    "8\n",
    "10\n",
    "11\n",
    "12\n",
    "13\n",
    "14\n",
    "15\n",
    "16\n",
    "17\n",
    "18\n",
    "20\n",
    "\n"
   ]
  },
  {
   "cell_type": "code",
   "execution_count": null,
   "metadata": {},
   "outputs": [],
   "source": [
    "You have 7 symbols - 0,1,2,3,4,5,6, 10, ...., 16, 20, 21...."
   ]
  },
  {
   "cell_type": "code",
   "execution_count": null,
   "metadata": {},
   "outputs": [],
   "source": [
    "# Smallest base possible?\n",
    "# One- 11, 111, 1111, \n",
    "0\n",
    "00\n",
    "000\n",
    "0000\n",
    "\n",
    "# Two\n",
    "0\n",
    "1\n",
    "10\n",
    "11\n",
    "100\n",
    "101\n",
    "110\n",
    "111\n",
    "1000\n"
   ]
  },
  {
   "cell_type": "code",
   "execution_count": null,
   "metadata": {},
   "outputs": [],
   "source": [
    "#Base 5\n",
    "Using only one place how many counts? 5\n",
    "Using two digits, how many counts? 5*5\n",
    "Using three digits, how many ... 125\n",
    "Using k digits, 5^k\n",
    "\n",
    "base b\n",
    "using k digits, how many numbers can you represent: b^k"
   ]
  },
  {
   "cell_type": "markdown",
   "metadata": {},
   "source": [
    "Q1: Choose your base between 3 and 13. And write upto 3 three digit numbers in that base.\n",
    "\n",
    "Q2: Add/Substract single digit and multiple digits in your number system\n",
    "\n",
    "Q3: Prepare a table of single digit multiplications in your number system.\n",
    "\n",
    "Q4: Multiply multiple digits in your number system\n"
   ]
  },
  {
   "cell_type": "code",
   "execution_count": null,
   "metadata": {},
   "outputs": [],
   "source": [
    "#base is 5\n",
    "base5 -> base10\n",
    "1  -> 1\n",
    "2  -> 2\n",
    "\n",
    "10 -> 5\n",
    "11 -> 6\n",
    "14 --> 9\n",
    "20 -> 2*5\n",
    "30 -> 3*5\n",
    "40 -> 4*5\n",
    "100 -> 5*5\n",
    "200 -> 2*5^2 \n",
    "220 == 200 + 20 -> 2*5^2 + 2*5 \n",
    "\n",
    "324 -> 3*5^2 + 2*5 + 4\n",
    "---\n",
    "43 -> 4*5 + 3 -> 23"
   ]
  },
  {
   "cell_type": "markdown",
   "metadata": {},
   "source": [
    "base10 --> base5\n",
    "0 0\n",
    "1 1\n",
    "2 2\n",
    "3 3\n",
    "4 4\n",
    "5 10\n",
    "6 11\n",
    "7 12\n",
    "8 13\n",
    "9 14\n",
    "10 20\n",
    "11 21\n",
    "12 22\n"
   ]
  },
  {
   "cell_type": "code",
   "execution_count": 25,
   "metadata": {},
   "outputs": [
    {
     "data": {
      "text/plain": [
       "2"
      ]
     },
     "execution_count": 25,
     "metadata": {},
     "output_type": "execute_result"
    }
   ],
   "source": [
    "14 // 5"
   ]
  },
  {
   "cell_type": "code",
   "execution_count": 22,
   "metadata": {},
   "outputs": [
    {
     "data": {
      "text/plain": [
       "3"
      ]
     },
     "execution_count": 22,
     "metadata": {},
     "output_type": "execute_result"
    }
   ],
   "source": [
    "17 // 5"
   ]
  },
  {
   "cell_type": "code",
   "execution_count": 23,
   "metadata": {},
   "outputs": [
    {
     "data": {
      "text/plain": [
       "3"
      ]
     },
     "execution_count": 23,
     "metadata": {},
     "output_type": "execute_result"
    }
   ],
   "source": [
    "15 // 5"
   ]
  },
  {
   "cell_type": "code",
   "execution_count": null,
   "metadata": {},
   "outputs": [],
   "source": [
    "62718 = 62710 + 8\n",
    "((((6)*10 + 2)*10 + 7)*10 + 1)*10 + 8\n",
    "\n",
    "4001333 = (((((4*5+0)*5+0)*5+1)*5+3)*5+3)*5 + 3"
   ]
  },
  {
   "cell_type": "code",
   "execution_count": 29,
   "metadata": {},
   "outputs": [
    {
     "data": {
      "text/plain": [
       "62718"
      ]
     },
     "execution_count": 29,
     "metadata": {},
     "output_type": "execute_result"
    }
   ],
   "source": [
    "(((((4*5+0)*5+0)*5+1)*5+3)*5+3)*5 + 3"
   ]
  },
  {
   "cell_type": "code",
   "execution_count": 10,
   "metadata": {},
   "outputs": [],
   "source": [
    "num = 62718 = first_digit + 10*second_digit + 100*third_digit\n",
    "--> first_digit + 5*second_digit + 5^2 * third_digit"
   ]
  },
  {
   "cell_type": "code",
   "execution_count": 9,
   "metadata": {},
   "outputs": [],
   "source": [
    "num = 62718"
   ]
  },
  {
   "cell_type": "code",
   "execution_count": 27,
   "metadata": {},
   "outputs": [
    {
     "data": {
      "text/plain": [
       "2"
      ]
     },
     "execution_count": 27,
     "metadata": {},
     "output_type": "execute_result"
    }
   ],
   "source": [
    "(11 - 1)//5"
   ]
  },
  {
   "cell_type": "code",
   "execution_count": 28,
   "metadata": {},
   "outputs": [
    {
     "data": {
      "text/plain": [
       "2.2"
      ]
     },
     "execution_count": 28,
     "metadata": {},
     "output_type": "execute_result"
    }
   ],
   "source": [
    "11/5"
   ]
  },
  {
   "cell_type": "code",
   "execution_count": 10,
   "metadata": {},
   "outputs": [
    {
     "name": "stdout",
     "output_type": "stream",
     "text": [
      "Digit:  3\n",
      "12543\n"
     ]
    }
   ],
   "source": [
    "d = num % 5\n",
    "print(\"Digit: \", d)\n",
    "rem = num - d\n",
    "num = rem // 5\n",
    "print(num)"
   ]
  },
  {
   "cell_type": "code",
   "execution_count": 11,
   "metadata": {},
   "outputs": [
    {
     "name": "stdout",
     "output_type": "stream",
     "text": [
      "Digit:  3\n",
      "2508\n"
     ]
    }
   ],
   "source": [
    "d = num % 5\n",
    "print(\"Digit: \", d)\n",
    "rem = num - d\n",
    "num = rem // 5\n",
    "print(num)"
   ]
  },
  {
   "cell_type": "code",
   "execution_count": 12,
   "metadata": {},
   "outputs": [
    {
     "name": "stdout",
     "output_type": "stream",
     "text": [
      "Digit:  3\n",
      "501\n"
     ]
    }
   ],
   "source": [
    "d = num % 5\n",
    "print(\"Digit: \", d)\n",
    "rem = num - d\n",
    "num = rem // 5\n",
    "print(num)"
   ]
  },
  {
   "cell_type": "code",
   "execution_count": 13,
   "metadata": {},
   "outputs": [
    {
     "name": "stdout",
     "output_type": "stream",
     "text": [
      "Digit:  1\n",
      "100\n"
     ]
    }
   ],
   "source": [
    "d = num % 5\n",
    "print(\"Digit: \", d)\n",
    "rem = num - d\n",
    "num = rem // 5\n",
    "print(num)"
   ]
  },
  {
   "cell_type": "code",
   "execution_count": 14,
   "metadata": {},
   "outputs": [
    {
     "name": "stdout",
     "output_type": "stream",
     "text": [
      "Digit:  0\n",
      "20\n"
     ]
    }
   ],
   "source": [
    "d = num % 5\n",
    "print(\"Digit: \", d)\n",
    "rem = num - d\n",
    "num = rem // 5\n",
    "print(num)"
   ]
  },
  {
   "cell_type": "code",
   "execution_count": 15,
   "metadata": {},
   "outputs": [
    {
     "name": "stdout",
     "output_type": "stream",
     "text": [
      "Digit:  0\n",
      "4\n"
     ]
    }
   ],
   "source": [
    "d = num % 5\n",
    "print(\"Digit: \", d)\n",
    "rem = num - d\n",
    "num = rem // 5\n",
    "print(num)"
   ]
  },
  {
   "cell_type": "code",
   "execution_count": 16,
   "metadata": {},
   "outputs": [
    {
     "name": "stdout",
     "output_type": "stream",
     "text": [
      "Digit:  4\n",
      "0\n"
     ]
    }
   ],
   "source": [
    "d = num % 5\n",
    "print(\"Digit: \", d)\n",
    "rem = num - d\n",
    "num = rem // 5\n",
    "print(num)"
   ]
  },
  {
   "cell_type": "code",
   "execution_count": null,
   "metadata": {},
   "outputs": [],
   "source": [
    "4001333"
   ]
  },
  {
   "cell_type": "code",
   "execution_count": 7,
   "metadata": {},
   "outputs": [
    {
     "name": "stdout",
     "output_type": "stream",
     "text": [
      "Digit:  2\n"
     ]
    }
   ],
   "source": [
    "d = num % 5\n",
    "print(\"Digit: \", d)\n",
    "rem = num - d\n",
    "num = rem // 5"
   ]
  },
  {
   "cell_type": "code",
   "execution_count": 19,
   "metadata": {},
   "outputs": [
    {
     "data": {
      "text/plain": [
       "12543"
      ]
     },
     "execution_count": 19,
     "metadata": {},
     "output_type": "execute_result"
    }
   ],
   "source": [
    "num"
   ]
  },
  {
   "cell_type": "code",
   "execution_count": null,
   "metadata": {},
   "outputs": [],
   "source": [
    "\n",
    "Q5: Convert 1, 10, 20, 30, 100 from your base to base10.\n",
    "\n",
    "Q6. Write a strategy to convert a number in your base to base 10 in plain english or pseudo code or python\n",
    "\n",
    "Q7. Write a strategy to convert a number in base N to base M in plain english or pseudo code or python\n",
    "\n",
    "Q8."
   ]
  },
  {
   "cell_type": "code",
   "execution_count": null,
   "metadata": {},
   "outputs": [],
   "source": []
  }
 ],
 "metadata": {
  "kernelspec": {
   "display_name": "Python 3",
   "language": "python",
   "name": "python3"
  },
  "language_info": {
   "codemirror_mode": {
    "name": "ipython",
    "version": 3
   },
   "file_extension": ".py",
   "mimetype": "text/x-python",
   "name": "python",
   "nbconvert_exporter": "python",
   "pygments_lexer": "ipython3",
   "version": "3.6.8"
  },
  "toc": {
   "base_numbering": 1,
   "nav_menu": {},
   "number_sections": true,
   "sideBar": true,
   "skip_h1_title": false,
   "title_cell": "Table of Contents",
   "title_sidebar": "Contents",
   "toc_cell": false,
   "toc_position": {},
   "toc_section_display": true,
   "toc_window_display": false
  }
 },
 "nbformat": 4,
 "nbformat_minor": 2
}
