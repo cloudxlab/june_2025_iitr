{
 "cells": [
  {
   "cell_type": "markdown",
   "metadata": {},
   "source": [
    "1. Memory is not always good. And so is memorization. Forgetting is part of learning.\n",
    "    1. Overfitting / Underfitting\n",
    "2. Biases:\n",
    "    - Surivorship bias\n",
    "    - Data Imbalance Bias\n",
    "    - Proof of authority bias\n",
    "    - \n",
    "3. If you are not able to explain things in very simple words, chances are you have not understood it.\n"
   ]
  },
  {
   "cell_type": "markdown",
   "metadata": {},
   "source": [
    "Encoding:\n",
    "    - https://en.wikipedia.org/wiki/Shannon%E2%80%93Fano_coding\n",
    "    - https://en.wikipedia.org/wiki/Huffman_coding\n",
    "\n",
    "https://www.youtube.com/watch?v=B3y0RsVCyrw"
   ]
  },
  {
   "cell_type": "code",
   "execution_count": null,
   "metadata": {},
   "outputs": [],
   "source": [
    "# Binary Search Tree\n"
   ]
  }
 ],
 "metadata": {
  "kernelspec": {
   "display_name": "Python 3",
   "language": "python",
   "name": "python3"
  },
  "language_info": {
   "codemirror_mode": {
    "name": "ipython",
    "version": 3
   },
   "file_extension": ".py",
   "mimetype": "text/x-python",
   "name": "python",
   "nbconvert_exporter": "python",
   "pygments_lexer": "ipython3",
   "version": "3.6.8"
  },
  "toc": {
   "base_numbering": 1,
   "nav_menu": {},
   "number_sections": true,
   "sideBar": true,
   "skip_h1_title": false,
   "title_cell": "Table of Contents",
   "title_sidebar": "Contents",
   "toc_cell": false,
   "toc_position": {},
   "toc_section_display": true,
   "toc_window_display": false
  }
 },
 "nbformat": 4,
 "nbformat_minor": 2
}
