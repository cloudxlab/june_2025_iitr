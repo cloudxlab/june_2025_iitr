{
 "cells": [
  {
   "cell_type": "code",
   "execution_count": 92,
   "metadata": {},
   "outputs": [],
   "source": [
    "# https://www.techiedelight.com/recursion-practice-problems-with-solutions/"
   ]
  },
  {
   "cell_type": "code",
   "execution_count": 1,
   "metadata": {},
   "outputs": [
    {
     "data": {
      "text/plain": [
       "'a'"
      ]
     },
     "execution_count": 1,
     "metadata": {},
     "output_type": "execute_result"
    }
   ],
   "source": [
    "s = 'ab'\n",
    "s[:-1]"
   ]
  },
  {
   "cell_type": "code",
   "execution_count": 5,
   "metadata": {},
   "outputs": [
    {
     "data": {
      "text/plain": [
       "'abc'"
      ]
     },
     "execution_count": 5,
     "metadata": {},
     "output_type": "execute_result"
    }
   ],
   "source": [
    "perm = 'ab'\n",
    "ll = 'c'\n",
    "i = 2\n",
    "perm[:i] + ll + perm[i:]"
   ]
  },
  {
   "cell_type": "code",
   "execution_count": 11,
   "metadata": {},
   "outputs": [],
   "source": [
    "# chars = 'a',\n",
    "# perms = ['a']\n",
    "\n",
    "# chars = 'ab'\n",
    "# perms = ['ab', 'ba']\n",
    "\n",
    "# chars = 'abc'\n",
    "# perms = [['cab', ]]\n",
    "def permute(chars):\n",
    "    print('args:', chars)\n",
    "    if len(chars) == 1:\n",
    "        return [chars]\n",
    "    perms = permute(chars[:-1])\n",
    "    ll = chars[-1]\n",
    "    new_perms = []\n",
    "    for perm in perms:\n",
    "        for i in range(len(perm)+1):\n",
    "            new_p = perm[:i] + ll + perm[i:]\n",
    "            new_perms.append(new_p)\n",
    "    return new_perms"
   ]
  },
  {
   "cell_type": "code",
   "execution_count": 12,
   "metadata": {},
   "outputs": [
    {
     "name": "stdout",
     "output_type": "stream",
     "text": [
      "args: a\n"
     ]
    },
    {
     "data": {
      "text/plain": [
       "['a']"
      ]
     },
     "execution_count": 12,
     "metadata": {},
     "output_type": "execute_result"
    }
   ],
   "source": [
    "permute('a')"
   ]
  },
  {
   "cell_type": "code",
   "execution_count": 9,
   "metadata": {},
   "outputs": [
    {
     "data": {
      "text/plain": [
       "['ba', 'ab']"
      ]
     },
     "execution_count": 9,
     "metadata": {},
     "output_type": "execute_result"
    }
   ],
   "source": [
    "permute('ab')"
   ]
  },
  {
   "cell_type": "code",
   "execution_count": 13,
   "metadata": {},
   "outputs": [
    {
     "name": "stdout",
     "output_type": "stream",
     "text": [
      "args: abc\n",
      "args: ab\n",
      "args: a\n"
     ]
    },
    {
     "data": {
      "text/plain": [
       "['cba', 'bca', 'bac', 'cab', 'acb', 'abc']"
      ]
     },
     "execution_count": 13,
     "metadata": {},
     "output_type": "execute_result"
    }
   ],
   "source": [
    "permute('abc')"
   ]
  },
  {
   "cell_type": "code",
   "execution_count": 15,
   "metadata": {},
   "outputs": [
    {
     "name": "stdout",
     "output_type": "stream",
     "text": [
      "args: abcd\n",
      "args: abc\n",
      "args: ab\n",
      "args: a\n"
     ]
    }
   ],
   "source": [
    "result = permute('abcd')"
   ]
  },
  {
   "cell_type": "code",
   "execution_count": 16,
   "metadata": {},
   "outputs": [
    {
     "data": {
      "text/plain": [
       "['dcba',\n",
       " 'cdba',\n",
       " 'cbda',\n",
       " 'cbad',\n",
       " 'dbca',\n",
       " 'bdca',\n",
       " 'bcda',\n",
       " 'bcad',\n",
       " 'dbac',\n",
       " 'bdac',\n",
       " 'badc',\n",
       " 'bacd',\n",
       " 'dcab',\n",
       " 'cdab',\n",
       " 'cadb',\n",
       " 'cabd',\n",
       " 'dacb',\n",
       " 'adcb',\n",
       " 'acdb',\n",
       " 'acbd',\n",
       " 'dabc',\n",
       " 'adbc',\n",
       " 'abdc',\n",
       " 'abcd']"
      ]
     },
     "execution_count": 16,
     "metadata": {},
     "output_type": "execute_result"
    }
   ],
   "source": [
    "result"
   ]
  },
  {
   "cell_type": "code",
   "execution_count": 17,
   "metadata": {},
   "outputs": [
    {
     "data": {
      "text/plain": [
       "24"
      ]
     },
     "execution_count": 17,
     "metadata": {},
     "output_type": "execute_result"
    }
   ],
   "source": [
    "len(result) # 4*3*2"
   ]
  },
  {
   "cell_type": "code",
   "execution_count": 18,
   "metadata": {},
   "outputs": [
    {
     "name": "stdout",
     "output_type": "stream",
     "text": [
      "args: abcde\n",
      "args: abcd\n",
      "args: abc\n",
      "args: ab\n",
      "args: a\n"
     ]
    }
   ],
   "source": [
    "result = permute('abcde')"
   ]
  },
  {
   "cell_type": "code",
   "execution_count": 19,
   "metadata": {},
   "outputs": [
    {
     "data": {
      "text/plain": [
       "['edcba',\n",
       " 'decba',\n",
       " 'dceba',\n",
       " 'dcbea',\n",
       " 'dcbae',\n",
       " 'ecdba',\n",
       " 'cedba',\n",
       " 'cdeba',\n",
       " 'cdbea',\n",
       " 'cdbae',\n",
       " 'ecbda',\n",
       " 'cebda',\n",
       " 'cbeda',\n",
       " 'cbdea',\n",
       " 'cbdae',\n",
       " 'ecbad',\n",
       " 'cebad',\n",
       " 'cbead',\n",
       " 'cbaed',\n",
       " 'cbade',\n",
       " 'edbca',\n",
       " 'debca',\n",
       " 'dbeca',\n",
       " 'dbcea',\n",
       " 'dbcae',\n",
       " 'ebdca',\n",
       " 'bedca',\n",
       " 'bdeca',\n",
       " 'bdcea',\n",
       " 'bdcae',\n",
       " 'ebcda',\n",
       " 'becda',\n",
       " 'bceda',\n",
       " 'bcdea',\n",
       " 'bcdae',\n",
       " 'ebcad',\n",
       " 'becad',\n",
       " 'bcead',\n",
       " 'bcaed',\n",
       " 'bcade',\n",
       " 'edbac',\n",
       " 'debac',\n",
       " 'dbeac',\n",
       " 'dbaec',\n",
       " 'dbace',\n",
       " 'ebdac',\n",
       " 'bedac',\n",
       " 'bdeac',\n",
       " 'bdaec',\n",
       " 'bdace',\n",
       " 'ebadc',\n",
       " 'beadc',\n",
       " 'baedc',\n",
       " 'badec',\n",
       " 'badce',\n",
       " 'ebacd',\n",
       " 'beacd',\n",
       " 'baecd',\n",
       " 'baced',\n",
       " 'bacde',\n",
       " 'edcab',\n",
       " 'decab',\n",
       " 'dceab',\n",
       " 'dcaeb',\n",
       " 'dcabe',\n",
       " 'ecdab',\n",
       " 'cedab',\n",
       " 'cdeab',\n",
       " 'cdaeb',\n",
       " 'cdabe',\n",
       " 'ecadb',\n",
       " 'ceadb',\n",
       " 'caedb',\n",
       " 'cadeb',\n",
       " 'cadbe',\n",
       " 'ecabd',\n",
       " 'ceabd',\n",
       " 'caebd',\n",
       " 'cabed',\n",
       " 'cabde',\n",
       " 'edacb',\n",
       " 'deacb',\n",
       " 'daecb',\n",
       " 'daceb',\n",
       " 'dacbe',\n",
       " 'eadcb',\n",
       " 'aedcb',\n",
       " 'adecb',\n",
       " 'adceb',\n",
       " 'adcbe',\n",
       " 'eacdb',\n",
       " 'aecdb',\n",
       " 'acedb',\n",
       " 'acdeb',\n",
       " 'acdbe',\n",
       " 'eacbd',\n",
       " 'aecbd',\n",
       " 'acebd',\n",
       " 'acbed',\n",
       " 'acbde',\n",
       " 'edabc',\n",
       " 'deabc',\n",
       " 'daebc',\n",
       " 'dabec',\n",
       " 'dabce',\n",
       " 'eadbc',\n",
       " 'aedbc',\n",
       " 'adebc',\n",
       " 'adbec',\n",
       " 'adbce',\n",
       " 'eabdc',\n",
       " 'aebdc',\n",
       " 'abedc',\n",
       " 'abdec',\n",
       " 'abdce',\n",
       " 'eabcd',\n",
       " 'aebcd',\n",
       " 'abecd',\n",
       " 'abced',\n",
       " 'abcde']"
      ]
     },
     "execution_count": 19,
     "metadata": {},
     "output_type": "execute_result"
    }
   ],
   "source": [
    "result"
   ]
  },
  {
   "cell_type": "code",
   "execution_count": 20,
   "metadata": {},
   "outputs": [
    {
     "data": {
      "text/plain": [
       "120"
      ]
     },
     "execution_count": 20,
     "metadata": {},
     "output_type": "execute_result"
    }
   ],
   "source": [
    "len(result) "
   ]
  },
  {
   "cell_type": "code",
   "execution_count": 23,
   "metadata": {},
   "outputs": [],
   "source": [
    "# chars = 'a',\n",
    "# perms = ['a']\n",
    "\n",
    "# chars = 'ab'\n",
    "# perms = ['ab', 'ba']\n",
    "\n",
    "# chars = 'abc'\n",
    "# perms = [['cab', ]]\n",
    "def permute(chars):\n",
    "#     print('args:', chars)\n",
    "    if len(chars) == 1:\n",
    "        return [chars]\n",
    "    perms = permute(chars[:-1])\n",
    "    ll = chars[-1]\n",
    "    new_perms = []\n",
    "    for perm in perms:\n",
    "        for i in range(len(perm)+1):\n",
    "            new_p = perm[:i] + ll + perm[i:]\n",
    "            new_perms.append(new_p)\n",
    "    print(f\"Permulations of {chars}\")\n",
    "    print(new_perms)\n",
    "    print(\"-------------------------\")\n",
    "    return new_perms"
   ]
  },
  {
   "cell_type": "code",
   "execution_count": 24,
   "metadata": {},
   "outputs": [
    {
     "data": {
      "text/plain": [
       "['a']"
      ]
     },
     "execution_count": 24,
     "metadata": {},
     "output_type": "execute_result"
    }
   ],
   "source": [
    "permute('a')"
   ]
  },
  {
   "cell_type": "code",
   "execution_count": 25,
   "metadata": {},
   "outputs": [
    {
     "name": "stdout",
     "output_type": "stream",
     "text": [
      "Permulations of ab\n",
      "['ba', 'ab']\n",
      "-------------------------\n"
     ]
    },
    {
     "data": {
      "text/plain": [
       "['ba', 'ab']"
      ]
     },
     "execution_count": 25,
     "metadata": {},
     "output_type": "execute_result"
    }
   ],
   "source": [
    "permute('ab')"
   ]
  },
  {
   "cell_type": "code",
   "execution_count": 26,
   "metadata": {},
   "outputs": [
    {
     "name": "stdout",
     "output_type": "stream",
     "text": [
      "Permulations of ab\n",
      "['ba', 'ab']\n",
      "-------------------------\n",
      "Permulations of abc\n",
      "['cba', 'bca', 'bac', 'cab', 'acb', 'abc']\n",
      "-------------------------\n"
     ]
    },
    {
     "data": {
      "text/plain": [
       "['cba', 'bca', 'bac', 'cab', 'acb', 'abc']"
      ]
     },
     "execution_count": 26,
     "metadata": {},
     "output_type": "execute_result"
    }
   ],
   "source": [
    "permute('abc')"
   ]
  },
  {
   "cell_type": "code",
   "execution_count": 27,
   "metadata": {},
   "outputs": [
    {
     "name": "stdout",
     "output_type": "stream",
     "text": [
      "Permulations of ab\n",
      "['ba', 'ab']\n",
      "-------------------------\n",
      "Permulations of abc\n",
      "['cba', 'bca', 'bac', 'cab', 'acb', 'abc']\n",
      "-------------------------\n",
      "Permulations of abcd\n",
      "['dcba', 'cdba', 'cbda', 'cbad', 'dbca', 'bdca', 'bcda', 'bcad', 'dbac', 'bdac', 'badc', 'bacd', 'dcab', 'cdab', 'cadb', 'cabd', 'dacb', 'adcb', 'acdb', 'acbd', 'dabc', 'adbc', 'abdc', 'abcd']\n",
      "-------------------------\n"
     ]
    },
    {
     "data": {
      "text/plain": [
       "['dcba',\n",
       " 'cdba',\n",
       " 'cbda',\n",
       " 'cbad',\n",
       " 'dbca',\n",
       " 'bdca',\n",
       " 'bcda',\n",
       " 'bcad',\n",
       " 'dbac',\n",
       " 'bdac',\n",
       " 'badc',\n",
       " 'bacd',\n",
       " 'dcab',\n",
       " 'cdab',\n",
       " 'cadb',\n",
       " 'cabd',\n",
       " 'dacb',\n",
       " 'adcb',\n",
       " 'acdb',\n",
       " 'acbd',\n",
       " 'dabc',\n",
       " 'adbc',\n",
       " 'abdc',\n",
       " 'abcd']"
      ]
     },
     "execution_count": 27,
     "metadata": {},
     "output_type": "execute_result"
    }
   ],
   "source": [
    "permute('abcd')"
   ]
  },
  {
   "cell_type": "code",
   "execution_count": 28,
   "metadata": {},
   "outputs": [],
   "source": [
    "# https://www.techiedelight.com/recursion-practice-problems-with-solutions/"
   ]
  },
  {
   "cell_type": "code",
   "execution_count": 29,
   "metadata": {},
   "outputs": [],
   "source": [
    "# Solve Sudoku - Backtracking\n",
    "# sudoku is a 2d array 9x9\n",
    "# initially some of the elements are 0 representing blank. If there are no zeros, you are done.\n",
    "# find the first position having 0\n",
    "\n",
    "def solve(sudoku):\n",
    "    i, j = find_first_blank_position(sudoku)\n",
    "    \n",
    "    # find a numbers that can be filled - candidates \n",
    "    \n",
    "    candidates = find_numbers_to_fill(sudoku, i, j)\n",
    "    for candidate in candiates:\n",
    "        sudoku[i][j] = candidate\n",
    "        result = solve(sudoku)\n",
    "        if result == True:\n",
    "            return True\n",
    "        else:\n",
    "            sudoku[i][j] = 0\n",
    "    return False\n"
   ]
  },
  {
   "cell_type": "code",
   "execution_count": 33,
   "metadata": {},
   "outputs": [
    {
     "data": {
      "text/plain": [
       "{8}"
      ]
     },
     "execution_count": 33,
     "metadata": {},
     "output_type": "execute_result"
    }
   ],
   "source": [
    "set(range(1, 10)) - set([6, 1, 3, 2, 4, 9, 7, 3, 4, 2, 1, 3, 1, 5, 4, 9])"
   ]
  },
  {
   "cell_type": "code",
   "execution_count": null,
   "metadata": {},
   "outputs": [],
   "source": [
    "sudoku = [\n",
    "    [6, 0, 0, 1, 3, 2, 4, 0, 9],\n",
    "    [..]\n",
    "]"
   ]
  },
  {
   "attachments": {
    "image.png": {
     "image/png": "[encoded data removed]"
    }
   },
   "cell_type": "markdown",
   "metadata": {},
   "source": [
    "![image.png](attachment:image.png)"
   ]
  },
  {
   "attachments": {
    "image.png": {
     "image/png": "[encoded data removed]"
    }
   },
   "cell_type": "markdown",
   "metadata": {},
   "source": [
    "![image.png](attachment:image.png)"
   ]
  },
  {
   "cell_type": "code",
   "execution_count": 87,
   "metadata": {},
   "outputs": [],
   "source": [
    "def is_safe(board, row, col):\n",
    "#     print(\"is_safe\", row, col)\n",
    "    for i in range(8):\n",
    "        if board[i][col] == True:\n",
    "            return False\n",
    "        \n",
    "    #check diagonally and anti-diagonally\n",
    "    # diagonal\n",
    "    i, j = row, col\n",
    "    while i >= 0 and j >= 0:\n",
    "        if board[i][j] == True:\n",
    "            return False\n",
    "        i -= 1\n",
    "        j -= 1\n",
    "\n",
    "    # anti diagonal\n",
    "    i, j = row, col\n",
    "    while i >= 0 and j < 8:\n",
    "        if board[i][j] == True:\n",
    "            return False\n",
    "        i -= 1\n",
    "        j += 1\n",
    "        \n",
    "    return True"
   ]
  },
  {
   "cell_type": "code",
   "execution_count": 88,
   "metadata": {},
   "outputs": [],
   "source": [
    "def create_board():\n",
    "    board = []\n",
    "    for i in range(8):\n",
    "        row = []\n",
    "        for j in range(8):\n",
    "            row.append(False)\n",
    "        board.append(row)\n",
    "    return board"
   ]
  },
  {
   "cell_type": "code",
   "execution_count": 89,
   "metadata": {},
   "outputs": [],
   "source": [
    "# def is_safe(board, r, c):\n",
    "#     for i in range(8):\n",
    "#         if board[i][c]:\n",
    "#             return False\n",
    "#     for i in range(8):\n",
    "#         # TODO: fix\n",
    "    \n",
    "def find_place_to_put_next(board, row):\n",
    "    result = []\n",
    "    for j in range(8):\n",
    "        if board[row][j] == False and is_safe(board, row, j):\n",
    "            result.append(j)\n",
    "    return result\n",
    "    \n",
    "# eight queens problem\n",
    "def solve(board, num_of_queens=0):\n",
    "    if num_of_queens == 8:\n",
    "        print(board)\n",
    "        return True\n",
    "    positions = find_place_to_put_next(board, row=num_of_queens)\n",
    "    print(positions)\n",
    "    i = num_of_queens\n",
    "    for j in positions:\n",
    "        board[i][j] = True\n",
    "        solve(board, num_of_queens=num_of_queens+1)\n",
    "        board[i][j] = False"
   ]
  },
  {
   "cell_type": "code",
   "execution_count": 90,
   "metadata": {},
   "outputs": [],
   "source": [
    "board = create_board()"
   ]
  },
  {
   "cell_type": "code",
   "execution_count": 91,
   "metadata": {},
   "outputs": [
    {
     "name": "stdout",
     "output_type": "stream",
     "text": [
      "[0, 1, 2, 3, 4, 5, 6, 7]\n",
      "[2, 3, 4, 5, 6, 7]\n",
      "[4, 5, 6, 7]\n",
      "[1, 6, 7]\n",
      "[3, 7]\n",
      "[]\n",
      "[]\n",
      "[1, 3]\n",
      "[3]\n",
      "[5]\n",
      "[]\n",
      "[]\n",
      "[1, 3]\n",
      "[3]\n",
      "[5]\n",
      "[]\n",
      "[]\n",
      "[1, 7]\n",
      "[6]\n",
      "[4]\n",
      "[]\n",
      "[1]\n",
      "[3, 4]\n",
      "[]\n",
      "[]\n",
      "[1]\n",
      "[3, 7]\n",
      "[7]\n",
      "[]\n",
      "[4]\n",
      "[]\n",
      "[1, 5]\n",
      "[3, 6]\n",
      "[]\n",
      "[]\n",
      "[1, 3]\n",
      "[]\n",
      "[1]\n",
      "[4]\n",
      "[]\n",
      "[1, 5, 6, 7]\n",
      "[4, 6, 7]\n",
      "[2, 7]\n",
      "[]\n",
      "[]\n",
      "[2]\n",
      "[]\n",
      "[2, 5]\n",
      "[6]\n",
      "[]\n",
      "[2]\n",
      "[]\n",
      "[2, 7]\n",
      "[]\n",
      "[1, 2]\n",
      "[4, 6]\n",
      "[2]\n",
      "[]\n",
      "[2]\n",
      "[]\n",
      "[4, 6]\n",
      "[]\n",
      "[]\n",
      "[2, 4]\n",
      "[5, 7]\n",
      "[1]\n",
      "[4]\n",
      "[]\n",
      "[1]\n",
      "[4]\n",
      "[]\n",
      "[1, 2, 7]\n",
      "[]\n",
      "[]\n",
      "[1]\n",
      "[]\n",
      "[2, 4]\n",
      "[]\n",
      "[1, 2]\n",
      "[]\n",
      "[]\n",
      "[1, 6, 7]\n",
      "[5, 7]\n",
      "[2]\n",
      "[6]\n",
      "[3]\n",
      "[]\n",
      "[2, 5]\n",
      "[6]\n",
      "[3]\n",
      "[]\n",
      "[2, 3]\n",
      "[]\n",
      "[]\n",
      "[1]\n",
      "[3, 5]\n",
      "[7]\n",
      "[]\n",
      "[2, 7]\n",
      "[]\n",
      "[]\n",
      "[1, 5]\n",
      "[3, 6]\n",
      "[6]\n",
      "[2]\n",
      "[]\n",
      "[2]\n",
      "[5]\n",
      "[]\n",
      "[2, 3]\n",
      "[6]\n",
      "[1]\n",
      "[3]\n",
      "[[True, False, False, False, False, False, False, False], [False, False, False, False, True, False, False, False], [False, False, False, False, False, False, False, True], [False, False, False, False, False, True, False, False], [False, False, True, False, False, False, False, False], [False, False, False, False, False, False, True, False], [False, True, False, False, False, False, False, False], [False, False, False, True, False, False, False, False]]\n",
      "[1, 6]\n",
      "[]\n",
      "[]\n",
      "[1, 3, 7]\n",
      "[4, 6]\n",
      "[6, 7]\n",
      "[3]\n",
      "[]\n",
      "[3]\n",
      "[]\n",
      "[]\n",
      "[1, 6]\n",
      "[6, 7]\n",
      "[2, 4]\n",
      "[]\n",
      "[2]\n",
      "[]\n",
      "[2, 4]\n",
      "[]\n",
      "[2]\n",
      "[]\n",
      "[]\n",
      "[1, 2, 4]\n",
      "[3, 6]\n",
      "[6]\n",
      "[2]\n",
      "[]\n",
      "[2]\n",
      "[]\n",
      "[6]\n",
      "[3]\n",
      "[1]\n",
      "[4]\n",
      "[[True, False, False, False, False, False, False, False], [False, False, False, False, False, True, False, False], [False, False, False, False, False, False, False, True], [False, False, True, False, False, False, False, False], [False, False, False, False, False, False, True, False], [False, False, False, True, False, False, False, False], [False, True, False, False, False, False, False, False], [False, False, False, False, True, False, False, False]]\n",
      "[1, 6]\n",
      "[3]\n",
      "[]\n",
      "[3]\n",
      "[]\n",
      "[1, 3, 4]\n",
      "[5, 7]\n",
      "[2, 7]\n",
      "[]\n",
      "[]\n",
      "[2, 5]\n",
      "[]\n",
      "[3]\n",
      "[]\n",
      "[1, 5, 7]\n",
      "[7]\n",
      "[4]\n",
      "[2]\n",
      "[]\n",
      "[2, 7]\n",
      "[4]\n",
      "[]\n",
      "[1, 4]\n",
      "[4]\n",
      "[2]\n",
      "[[True, False, False, False, False, False, False, False], [False, False, False, False, False, False, True, False], [False, False, False, True, False, False, False, False], [False, False, False, False, False, True, False, False], [False, False, False, False, False, False, False, True], [False, True, False, False, False, False, False, False], [False, False, False, False, True, False, False, False], [False, False, True, False, False, False, False, False]]\n",
      "[]\n",
      "[2]\n",
      "[4]\n",
      "[]\n",
      "[1, 2, 7]\n",
      "[5, 7]\n",
      "[]\n",
      "[]\n",
      "[5, 7]\n",
      "[3]\n",
      "[]\n",
      "[3]\n",
      "[]\n",
      "[1, 5]\n",
      "[3]\n",
      "[5]\n",
      "[2]\n",
      "[[True, False, False, False, False, False, False, False], [False, False, False, False, False, False, True, False], [False, False, False, False, True, False, False, False], [False, False, False, False, False, False, False, True], [False, True, False, False, False, False, False, False], [False, False, False, True, False, False, False, False], [False, False, False, False, False, True, False, False], [False, False, True, False, False, False, False, False]]\n",
      "[3]\n",
      "[]\n",
      "[1, 3, 4, 5]\n",
      "[4, 6]\n",
      "[2, 6]\n",
      "[]\n",
      "[]\n",
      "[2]\n",
      "[]\n",
      "[1, 6]\n",
      "[6]\n",
      "[2, 4]\n",
      "[5]\n",
      "[]\n",
      "[]\n",
      "[2]\n",
      "[]\n",
      "[1, 2, 6]\n",
      "[3, 5]\n",
      "[6]\n",
      "[]\n",
      "[2]\n",
      "[]\n",
      "[5]\n",
      "[]\n",
      "[1, 3]\n",
      "[]\n",
      "[]\n",
      "[1, 2]\n",
      "[6]\n",
      "[4]\n",
      "[]\n",
      "[6]\n",
      "[1]\n",
      "[3]\n",
      "[]\n",
      "[3, 4, 5, 6, 7]\n",
      "[0, 5, 6, 7]\n",
      "[2, 6, 7]\n",
      "[4, 7]\n",
      "[]\n",
      "[5]\n",
      "[]\n",
      "[4]\n",
      "[2]\n",
      "[5]\n",
      "[]\n",
      "[4]\n",
      "[2]\n",
      "[5]\n",
      "[]\n",
      "[0, 2, 7]\n",
      "[2, 4]\n",
      "[4]\n",
      "[6]\n",
      "[]\n",
      "[]\n",
      "[4]\n",
      "[]\n",
      "[2, 4]\n",
      "[0, 4]\n",
      "[6]\n",
      "[4]\n",
      "[[False, True, False, False, False, False, False, False], [False, False, False, True, False, False, False, False], [False, False, False, False, False, True, False, False], [False, False, False, False, False, False, False, True], [False, False, True, False, False, False, False, False], [True, False, False, False, False, False, False, False], [False, False, False, False, False, False, True, False], [False, False, False, False, True, False, False, False]]\n",
      "[6]\n",
      "[]\n",
      "[0]\n",
      "[]\n",
      "[0, 2]\n",
      "[2, 7]\n",
      "[4, 5]\n",
      "[]\n",
      "[]\n",
      "[4, 5]\n",
      "[]\n",
      "[]\n",
      "[7]\n",
      "[5]\n",
      "[0]\n",
      "[]\n",
      "[0, 2]\n",
      "[2, 4]\n",
      "[5]\n",
      "[]\n",
      "[]\n",
      "[4]\n",
      "[]\n",
      "[0, 2, 6, 7]\n",
      "[3, 5, 7]\n",
      "[6]\n",
      "[2]\n",
      "[5]\n",
      "[]\n",
      "[3]\n",
      "[]\n",
      "[3]\n",
      "[]\n",
      "[0, 5, 7]\n",
      "[3, 6]\n",
      "[7]\n",
      "[]\n",
      "[3]\n",
      "[5]\n",
      "[]\n",
      "[3]\n",
      "[]\n",
      "[3]\n",
      "[]\n",
      "[0, 3]\n",
      "[2, 3]\n",
      "[5, 7]\n",
      "[]\n",
      "[5]\n",
      "[3]\n",
      "[[False, True, False, False, False, False, False, False], [False, False, False, False, True, False, False, False], [False, False, False, False, False, False, True, False], [True, False, False, False, False, False, False, False], [False, False, True, False, False, False, False, False], [False, False, False, False, False, False, False, True], [False, False, False, False, False, True, False, False], [False, False, False, True, False, False, False, False]]\n",
      "[5, 7]\n",
      "[]\n",
      "[]\n",
      "[0]\n",
      "[2, 7]\n",
      "[5]\n",
      "[]\n",
      "[5]\n",
      "[2]\n",
      "[[False, True, False, False, False, False, False, False], [False, False, False, False, True, False, False, False], [False, False, False, False, False, False, True, False], [False, False, False, True, False, False, False, False], [True, False, False, False, False, False, False, False], [False, False, False, False, False, False, False, True], [False, False, False, False, False, True, False, False], [False, False, True, False, False, False, False, False]]\n",
      "[0, 3, 5]\n",
      "[2, 3, 6]\n",
      "[5]\n",
      "[]\n",
      "[5]\n",
      "[2]\n",
      "[]\n",
      "[3]\n",
      "[5]\n",
      "[]\n",
      "[0, 6]\n",
      "[2]\n",
      "[5]\n",
      "[]\n",
      "[2]\n",
      "[5]\n",
      "[]\n",
      "[0, 2, 3]\n",
      "[2]\n",
      "[6]\n",
      "[]\n",
      "[]\n",
      "[]\n",
      "[0, 2, 7]\n",
      "[2, 6]\n",
      "[4, 6, 7]\n",
      "[7]\n",
      "[3]\n",
      "[]\n",
      "[]\n",
      "[]\n",
      "[3, 4]\n",
      "[7]\n",
      "[2]\n",
      "[4]\n",
      "[[False, True, False, False, False, False, False, False], [False, False, False, False, False, True, False, False], [True, False, False, False, False, False, False, False], [False, False, False, False, False, False, True, False], [False, False, False, True, False, False, False, False], [False, False, False, False, False, False, False, True], [False, False, True, False, False, False, False, False], [False, False, False, False, True, False, False, False]]\n",
      "[2, 7]\n",
      "[]\n",
      "[]\n",
      "[0, 6]\n",
      "[3, 6, 7]\n",
      "[7]\n",
      "[4]\n",
      "[]\n",
      "[3, 4]\n",
      "[]\n",
      "[]\n",
      "[3, 4]\n",
      "[]\n",
      "[]\n",
      "[3]\n",
      "[0, 7]\n",
      "[4]\n",
      "[]\n",
      "[4]\n",
      "[]\n",
      "[0, 2]\n",
      "[3, 4, 6]\n",
      "[]\n",
      "[]\n",
      "[3]\n",
      "[]\n",
      "[0, 4, 6]\n",
      "[3]\n",
      "[6]\n",
      "[4]\n",
      "[[False, True, False, False, False, False, False, False], [False, False, False, False, False, True, False, False], [False, False, False, False, False, False, False, True], [False, False, True, False, False, False, False, False], [True, False, False, False, False, False, False, False], [False, False, False, True, False, False, False, False], [False, False, False, False, False, False, True, False], [False, False, False, False, True, False, False, False]]\n",
      "[]\n",
      "[3]\n",
      "[]\n",
      "[0, 2, 4]\n",
      "[2, 3, 5, 7]\n",
      "[4, 7]\n",
      "[7]\n",
      "[3]\n",
      "[]\n",
      "[5]\n",
      "[3]\n",
      "[]\n",
      "[7]\n",
      "[4]\n",
      "[2]\n",
      "[]\n",
      "[7]\n",
      "[4]\n",
      "[]\n",
      "[4]\n",
      "[]\n",
      "[0, 5, 7]\n",
      "[7]\n",
      "[3, 4]\n",
      "[]\n",
      "[]\n",
      "[7]\n",
      "[0, 4]\n",
      "[3, 4]\n",
      "[]\n",
      "[]\n",
      "[0]\n",
      "[3]\n",
      "[[False, True, False, False, False, False, False, False], [False, False, False, False, False, False, True, False], [False, False, True, False, False, False, False, False], [False, False, False, False, False, True, False, False], [False, False, False, False, False, False, False, True], [False, False, False, False, True, False, False, False], [True, False, False, False, False, False, False, False], [False, False, False, True, False, False, False, False]]\n",
      "[]\n",
      "[0, 2, 7]\n",
      "[7]\n",
      "[3, 5]\n",
      "[]\n",
      "[2]\n",
      "[]\n",
      "[0, 7]\n",
      "[3, 5]\n",
      "[]\n",
      "[3]\n",
      "[]\n",
      "[3, 5]\n",
      "[]\n",
      "[3]\n",
      "[]\n",
      "[0]\n",
      "[3]\n",
      "[5]\n",
      "[2]\n",
      "[[False, True, False, False, False, False, False, False], [False, False, False, False, False, False, True, False], [False, False, False, False, True, False, False, False], [False, False, False, False, False, False, False, True], [True, False, False, False, False, False, False, False], [False, False, False, True, False, False, False, False], [False, False, False, False, False, True, False, False], [False, False, True, False, False, False, False, False]]\n",
      "[0, 2, 4, 5]\n",
      "[2, 3, 6]\n",
      "[6]\n",
      "[]\n",
      "[6]\n",
      "[2, 4]\n",
      "[5]\n",
      "[]\n",
      "[]\n",
      "[3]\n",
      "[5]\n",
      "[]\n",
      "[0, 6]\n",
      "[3, 6]\n",
      "[]\n",
      "[4]\n",
      "[]\n",
      "[3]\n",
      "[0]\n",
      "[4]\n",
      "[]\n",
      "[0, 2, 6]\n",
      "[3]\n",
      "[5]\n",
      "[]\n",
      "[0]\n",
      "[5]\n",
      "[3]\n",
      "[]\n",
      "[0, 3]\n",
      "[2, 5]\n",
      "[5]\n",
      "[]\n",
      "[]\n",
      "[0, 5]\n",
      "[]\n",
      "[]\n",
      "[0, 2, 3]\n",
      "[2, 6]\n",
      "[4]\n",
      "[6]\n",
      "[3]\n",
      "[[False, True, False, False, False, False, False, False], [False, False, False, False, False, False, False, True], [False, False, False, False, False, True, False, False], [True, False, False, False, False, False, False, False], [False, False, True, False, False, False, False, False], [False, False, False, False, True, False, False, False], [False, False, False, False, False, False, True, False], [False, False, False, True, False, False, False, False]]\n",
      "[4]\n",
      "[]\n",
      "[0, 6]\n",
      "[]\n",
      "[]\n",
      "[0, 6]\n",
      "[4]\n",
      "[]\n",
      "[0, 4]\n",
      "[]\n",
      "[]\n",
      "[0, 4, 5, 6, 7]\n",
      "[3, 5, 6, 7]\n",
      "[1, 6, 7]\n",
      "[4, 7]\n",
      "[]\n",
      "[5]\n",
      "[]\n",
      "[4]\n",
      "[1]\n",
      "[]\n",
      "[4]\n",
      "[1]\n",
      "[]\n",
      "[1, 3, 7]\n",
      "[4]\n",
      "[6]\n",
      "[3]\n",
      "[]\n",
      "[1]\n",
      "[6]\n",
      "[4]\n",
      "[]\n",
      "[1, 4]\n",
      "[3, 6]\n",
      "[6]\n",
      "[]\n",
      "[]\n",
      "[1, 6]\n",
      "[3]\n",
      "[]\n",
      "[3]\n",
      "[]\n",
      "[1, 3, 4]\n",
      "[5, 7]\n",
      "[]\n",
      "[5]\n",
      "[3]\n",
      "[]\n",
      "[1, 5, 7]\n",
      "[]\n",
      "[]\n",
      "[]\n",
      "[1, 7]\n",
      "[5]\n",
      "[]\n",
      "[1, 5]\n",
      "[3]\n",
      "[5]\n",
      "[[False, False, True, False, False, False, False, False], [True, False, False, False, False, False, False, False], [False, False, False, False, False, False, True, False], [False, False, False, False, True, False, False, False], [False, False, False, False, False, False, False, True], [False, True, False, False, False, False, False, False], [False, False, False, True, False, False, False, False], [False, False, False, False, False, True, False, False]]\n",
      "[3]\n",
      "[]\n",
      "[1, 3, 4]\n",
      "[4]\n",
      "[6]\n",
      "[]\n",
      "[1]\n",
      "[6]\n",
      "[4]\n",
      "[]\n",
      "[1]\n",
      "[3, 5]\n",
      "[6]\n",
      "[]\n",
      "[]\n",
      "[1, 6, 7]\n",
      "[3, 7]\n",
      "[0, 5]\n",
      "[6]\n",
      "[]\n",
      "[]\n",
      "[0, 5]\n",
      "[3, 6]\n",
      "[6]\n",
      "[]\n",
      "[3]\n",
      "[5]\n",
      "[[False, False, True, False, False, False, False, False], [False, False, False, False, True, False, False, False], [False, True, False, False, False, False, False, False], [False, False, False, False, False, False, False, True], [True, False, False, False, False, False, False, False], [False, False, False, False, False, False, True, False], [False, False, False, True, False, False, False, False], [False, False, False, False, False, True, False, False]]\n",
      "[3]\n",
      "[0, 6]\n",
      "[]\n",
      "[0]\n",
      "[[False, False, True, False, False, False, False, False], [False, False, False, False, True, False, False, False], [False, True, False, False, False, False, False, False], [False, False, False, False, False, False, False, True], [False, False, False, False, False, True, False, False], [False, False, False, True, False, False, False, False], [False, False, False, False, False, False, True, False], [True, False, False, False, False, False, False, False]]\n",
      "[0, 1, 3]\n",
      "[3, 5]\n",
      "[1, 5]\n",
      "[7]\n",
      "[5]\n",
      "[[False, False, True, False, False, False, False, False], [False, False, False, False, True, False, False, False], [False, False, False, False, False, False, True, False], [True, False, False, False, False, False, False, False], [False, False, False, True, False, False, False, False], [False, True, False, False, False, False, False, False], [False, False, False, False, False, False, False, True], [False, False, False, False, False, True, False, False]]\n",
      "[7]\n",
      "[]\n",
      "[1]\n",
      "[]\n",
      "[3, 5]\n",
      "[5]\n",
      "[0, 7]\n",
      "[]\n",
      "[]\n",
      "[]\n",
      "[0, 5]\n",
      "[]\n",
      "[]\n",
      "[0, 1, 3]\n",
      "[3]\n",
      "[1, 5, 6]\n",
      "[6]\n",
      "[]\n",
      "[]\n",
      "[]\n",
      "[3]\n",
      "[5, 6]\n",
      "[0]\n",
      "[]\n",
      "[0]\n",
      "[]\n",
      "[0]\n",
      "[6]\n",
      "[1]\n",
      "[5]\n",
      "[[False, False, True, False, False, False, False, False], [False, False, False, False, True, False, False, False], [False, False, False, False, False, False, False, True], [False, False, False, True, False, False, False, False], [True, False, False, False, False, False, False, False], [False, False, False, False, False, False, True, False], [False, True, False, False, False, False, False, False], [False, False, False, False, False, True, False, False]]\n",
      "[1, 3, 7]\n",
      "[4, 6]\n",
      "[0, 7]\n",
      "[3]\n",
      "[6]\n",
      "[]\n",
      "[0, 3]\n",
      "[3, 6]\n",
      "[]\n",
      "[3]\n",
      "[[False, False, True, False, False, False, False, False], [False, False, False, False, False, True, False, False], [False, True, False, False, False, False, False, False], [False, False, False, False, True, False, False, False], [False, False, False, False, False, False, False, True], [True, False, False, False, False, False, False, False], [False, False, False, False, False, False, True, False], [False, False, False, True, False, False, False, False]]\n",
      "[6]\n",
      "[]\n",
      "[0, 4]\n",
      "[3]\n",
      "[7]\n",
      "[4]\n",
      "[[False, False, True, False, False, False, False, False], [False, False, False, False, False, True, False, False], [False, True, False, False, False, False, False, False], [False, False, False, False, False, False, True, False], [True, False, False, False, False, False, False, False], [False, False, False, True, False, False, False, False], [False, False, False, False, False, False, False, True], [False, False, False, False, True, False, False, False]]\n",
      "[0]\n",
      "[7]\n",
      "[3]\n",
      "[[False, False, True, False, False, False, False, False], [False, False, False, False, False, True, False, False], [False, True, False, False, False, False, False, False], [False, False, False, False, False, False, True, False], [False, False, False, False, True, False, False, False], [True, False, False, False, False, False, False, False], [False, False, False, False, False, False, False, True], [False, False, False, True, False, False, False, False]]\n",
      "[0, 1, 6]\n",
      "[4, 7]\n",
      "[]\n",
      "[4]\n",
      "[1, 6]\n",
      "[]\n",
      "[1]\n",
      "[[False, False, True, False, False, False, False, False], [False, False, False, False, False, True, False, False], [False, False, False, True, False, False, False, False], [True, False, False, False, False, False, False, False], [False, False, False, False, False, False, False, True], [False, False, False, False, True, False, False, False], [False, False, False, False, False, False, True, False], [False, True, False, False, False, False, False, False]]\n",
      "[4, 7]\n",
      "[]\n",
      "[4]\n",
      "[6]\n",
      "[0]\n",
      "[[False, False, True, False, False, False, False, False], [False, False, False, False, False, True, False, False], [False, False, False, True, False, False, False, False], [False, True, False, False, False, False, False, False], [False, False, False, False, False, False, False, True], [False, False, False, False, True, False, False, False], [False, False, False, False, False, False, True, False], [True, False, False, False, False, False, False, False]]\n",
      "[0, 4]\n",
      "[]\n",
      "[]\n",
      "[0, 1, 4]\n",
      "[3, 4]\n",
      "[6]\n",
      "[4]\n",
      "[1]\n",
      "[[False, False, True, False, False, False, False, False], [False, False, False, False, False, True, False, False], [False, False, False, False, False, False, False, True], [True, False, False, False, False, False, False, False], [False, False, False, True, False, False, False, False], [False, False, False, False, False, False, True, False], [False, False, False, False, True, False, False, False], [False, True, False, False, False, False, False, False]]\n",
      "[6]\n",
      "[1]\n",
      "[3]\n",
      "[[False, False, True, False, False, False, False, False], [False, False, False, False, False, True, False, False], [False, False, False, False, False, False, False, True], [True, False, False, False, False, False, False, False], [False, False, False, False, True, False, False, False], [False, False, False, False, False, False, True, False], [False, True, False, False, False, False, False, False], [False, False, False, True, False, False, False, False]]\n",
      "[3, 4]\n",
      "[0, 6]\n",
      "[6]\n",
      "[4]\n",
      "[[False, False, True, False, False, False, False, False], [False, False, False, False, False, True, False, False], [False, False, False, False, False, False, False, True], [False, True, False, False, False, False, False, False], [False, False, False, True, False, False, False, False], [True, False, False, False, False, False, False, False], [False, False, False, False, False, False, True, False], [False, False, False, False, True, False, False, False]]\n",
      "[]\n",
      "[0, 6]\n",
      "[]\n",
      "[]\n",
      "[0, 1]\n",
      "[3]\n",
      "[6]\n",
      "[]\n",
      "[3]\n",
      "[6]\n",
      "[]\n",
      "[1, 3]\n",
      "[3, 7]\n",
      "[0, 5, 7]\n",
      "[]\n",
      "[0]\n",
      "[4]\n",
      "[]\n",
      "[0]\n",
      "[4]\n",
      "[]\n",
      "[0, 4, 5]\n",
      "[3]\n",
      "[]\n",
      "[0]\n",
      "[3]\n",
      "[5]\n",
      "[[False, False, True, False, False, False, False, False], [False, False, False, False, False, False, True, False], [False, True, False, False, False, False, False, False], [False, False, False, False, False, False, False, True], [False, False, False, False, True, False, False, False], [True, False, False, False, False, False, False, False], [False, False, False, True, False, False, False, False], [False, False, False, False, False, True, False, False]]\n",
      "[0, 3]\n",
      "[]\n",
      "[0]\n",
      "[4]\n",
      "[[False, False, True, False, False, False, False, False], [False, False, False, False, False, False, True, False], [False, True, False, False, False, False, False, False], [False, False, False, False, False, False, False, True], [False, False, False, False, False, True, False, False], [False, False, False, True, False, False, False, False], [True, False, False, False, False, False, False, False], [False, False, False, False, True, False, False, False]]\n",
      "[0, 1, 7]\n",
      "[4, 7]\n",
      "[1]\n",
      "[5]\n",
      "[]\n",
      "[1, 4, 5]\n",
      "[4]\n",
      "[]\n",
      "[]\n",
      "[]\n",
      "[4, 7]\n",
      "[]\n",
      "[4, 5]\n",
      "[0]\n",
      "[]\n",
      "[0]\n",
      "[]\n",
      "[0, 4]\n",
      "[4]\n",
      "[]\n",
      "[1]\n",
      "[5]\n",
      "[]\n",
      "[1, 3, 5]\n",
      "[3, 4, 6]\n",
      "[0, 5]\n",
      "[6]\n",
      "[4]\n",
      "[]\n",
      "[0]\n",
      "[4]\n",
      "[]\n",
      "[0]\n",
      "[5]\n",
      "[3]\n",
      "[]\n",
      "[0]\n",
      "[5]\n",
      "[]\n",
      "[0, 1, 6]\n",
      "[]\n",
      "[]\n",
      "[0]\n",
      "[5]\n",
      "[1]\n",
      "[4]\n",
      "[[False, False, True, False, False, False, False, False], [False, False, False, False, False, False, False, True], [False, False, False, True, False, False, False, False], [False, False, False, False, False, False, True, False], [True, False, False, False, False, False, False, False], [False, False, False, False, False, True, False, False], [False, True, False, False, False, False, False, False], [False, False, False, False, True, False, False, False]]\n",
      "[0, 1, 3]\n",
      "[]\n",
      "[]\n",
      "[0, 1]\n",
      "[4, 6]\n",
      "[]\n",
      "[4]\n",
      "[]\n",
      "[4, 6]\n",
      "[]\n",
      "[4]\n",
      "[]\n",
      "[0, 1, 5, 6, 7]\n",
      "[2, 4, 6, 7]\n",
      "[4, 5, 7]\n",
      "[1, 6]\n",
      "[7]\n",
      "[]\n",
      "[1]\n",
      "[]\n",
      "[1]\n",
      "[6]\n",
      "[4]\n",
      "[]\n",
      "[1, 5]\n",
      "[6]\n",
      "[]\n",
      "[1]\n",
      "[]\n",
      "[1, 7]\n",
      "[5]\n",
      "[2]\n",
      "[6]\n",
      "[]\n",
      "[1, 5]\n",
      "[6]\n",
      "[2]\n",
      "[5]\n",
      "[[False, False, False, True, False, False, False, False], [True, False, False, False, False, False, False, False], [False, False, False, False, True, False, False, False], [False, False, False, False, False, False, False, True], [False, True, False, False, False, False, False, False], [False, False, False, False, False, False, True, False], [False, False, True, False, False, False, False, False], [False, False, False, False, False, True, False, False]]\n",
      "[2]\n",
      "[6]\n",
      "[1]\n",
      "[[False, False, False, True, False, False, False, False], [True, False, False, False, False, False, False, False], [False, False, False, False, True, False, False, False], [False, False, False, False, False, False, False, True], [False, False, False, False, False, True, False, False], [False, False, True, False, False, False, False, False], [False, False, False, False, False, False, True, False], [False, True, False, False, False, False, False, False]]\n",
      "[1, 4]\n",
      "[5]\n",
      "[2, 7]\n",
      "[]\n",
      "[]\n",
      "[1, 2]\n",
      "[5, 7]\n",
      "[]\n",
      "[]\n",
      "[5, 7]\n",
      "[]\n",
      "[]\n",
      "[1, 4, 5]\n",
      "[4, 6]\n",
      "[2, 6]\n",
      "[]\n",
      "[]\n",
      "[2]\n",
      "[]\n",
      "[1, 2, 6]\n",
      "[5]\n",
      "[2]\n",
      "[]\n",
      "[5]\n",
      "[]\n",
      "[1]\n",
      "[]\n",
      "[1, 2]\n",
      "[6]\n",
      "[4]\n",
      "[]\n",
      "[6]\n",
      "[1]\n",
      "[]\n",
      "[4, 6, 7]\n",
      "[2, 7]\n",
      "[0, 5]\n",
      "[6]\n",
      "[]\n",
      "[]\n",
      "[0, 5]\n",
      "[2, 6]\n",
      "[5]\n",
      "[]\n",
      "[]\n",
      "[0, 2]\n",
      "[2]\n",
      "[6]\n",
      "[[False, False, False, True, False, False, False, False], [False, True, False, False, False, False, False, False], [False, False, False, False, True, False, False, False], [False, False, False, False, False, False, False, True], [False, False, False, False, False, True, False, False], [True, False, False, False, False, False, False, False], [False, False, True, False, False, False, False, False], [False, False, False, False, False, False, True, False]]\n",
      "[]\n",
      "[2, 4]\n",
      "[0, 5]\n",
      "[7]\n",
      "[4]\n",
      "[]\n",
      "[7]\n",
      "[0, 4]\n",
      "[4]\n",
      "[[False, False, False, True, False, False, False, False], [False, True, False, False, False, False, False, False], [False, False, False, False, False, False, True, False], [False, False, True, False, False, False, False, False], [False, False, False, False, False, True, False, False], [False, False, False, False, False, False, False, True], [True, False, False, False, False, False, False, False], [False, False, False, False, True, False, False, False]]\n",
      "[0]\n",
      "[[False, False, False, True, False, False, False, False], [False, True, False, False, False, False, False, False], [False, False, False, False, False, False, True, False], [False, False, True, False, False, False, False, False], [False, False, False, False, False, True, False, False], [False, False, False, False, False, False, False, True], [False, False, False, False, True, False, False, False], [True, False, False, False, False, False, False, False]]\n",
      "[0, 2]\n",
      "[7]\n",
      "[5]\n",
      "[2]\n",
      "[[False, False, False, True, False, False, False, False], [False, True, False, False, False, False, False, False], [False, False, False, False, False, False, True, False], [False, False, False, False, True, False, False, False], [True, False, False, False, False, False, False, False], [False, False, False, False, False, False, False, True], [False, False, False, False, False, True, False, False], [False, False, True, False, False, False, False, False]]\n",
      "[0, 7]\n",
      "[5]\n",
      "[]\n",
      "[5]\n",
      "[]\n",
      "[2, 4, 5]\n",
      "[0, 6]\n",
      "[6]\n",
      "[4]\n",
      "[]\n",
      "[]\n",
      "[0, 2, 6]\n",
      "[]\n",
      "[0]\n",
      "[5]\n",
      "[]\n",
      "[0]\n",
      "[2, 5]\n",
      "[5]\n",
      "[[False, False, False, True, False, False, False, False], [False, True, False, False, False, False, False, False], [False, False, False, False, False, False, False, True], [False, False, False, False, True, False, False, False], [False, False, False, False, False, False, True, False], [True, False, False, False, False, False, False, False], [False, False, True, False, False, False, False, False], [False, False, False, False, False, True, False, False]]\n",
      "[]\n",
      "[0, 2]\n",
      "[2, 6]\n",
      "[4]\n",
      "[6]\n",
      "[[False, False, False, True, False, False, False, False], [False, True, False, False, False, False, False, False], [False, False, False, False, False, False, False, True], [False, False, False, False, False, True, False, False], [True, False, False, False, False, False, False, False], [False, False, True, False, False, False, False, False], [False, False, False, False, True, False, False, False], [False, False, False, False, False, False, True, False]]\n",
      "[4]\n",
      "[]\n",
      "[0, 6]\n",
      "[]\n",
      "[]\n",
      "[0, 2, 7]\n",
      "[2, 4]\n",
      "[4, 6]\n",
      "[6, 7]\n",
      "[1]\n",
      "[]\n",
      "[1]\n",
      "[]\n",
      "[]\n",
      "[1, 6]\n",
      "[7]\n",
      "[2]\n",
      "[6]\n",
      "[[False, False, False, True, False, False, False, False], [False, False, False, False, False, True, False, False], [True, False, False, False, False, False, False, False], [False, False, False, False, True, False, False, False], [False, True, False, False, False, False, False, False], [False, False, False, False, False, False, False, True], [False, False, True, False, False, False, False, False], [False, False, False, False, False, False, True, False]]\n",
      "[]\n",
      "[4]\n",
      "[1, 6]\n",
      "[7]\n",
      "[]\n",
      "[0]\n",
      "[]\n",
      "[1, 2, 4]\n",
      "[4, 6]\n",
      "[0, 2, 6]\n",
      "[]\n",
      "[]\n",
      "[]\n",
      "[0, 2]\n",
      "[2]\n",
      "[4]\n",
      "[[False, False, False, True, False, False, False, False], [False, False, False, False, False, True, False, False], [False, False, False, False, False, False, False, True], [False, True, False, False, False, False, False, False], [False, False, False, False, False, False, True, False], [True, False, False, False, False, False, False, False], [False, False, True, False, False, False, False, False], [False, False, False, False, True, False, False, False]]\n",
      "[]\n",
      "[0, 4, 6]\n",
      "[6]\n",
      "[1, 4]\n",
      "[]\n",
      "[1]\n",
      "[[False, False, False, True, False, False, False, False], [False, False, False, False, False, True, False, False], [False, False, False, False, False, False, False, True], [False, False, True, False, False, False, False, False], [True, False, False, False, False, False, False, False], [False, False, False, False, False, False, True, False], [False, False, False, False, True, False, False, False], [False, True, False, False, False, False, False, False]]\n",
      "[6]\n",
      "[1]\n",
      "[]\n",
      "[]\n",
      "[0, 1, 6]\n",
      "[]\n",
      "[]\n",
      "[0]\n",
      "[2]\n",
      "[]\n",
      "[0, 2, 4]\n",
      "[2, 5, 7]\n",
      "[4, 5]\n",
      "[1, 7]\n",
      "[7]\n",
      "[]\n",
      "[]\n",
      "[1, 7]\n",
      "[]\n",
      "[]\n",
      "[1]\n",
      "[4]\n",
      "[7]\n",
      "[]\n",
      "[1, 4, 5]\n",
      "[4]\n",
      "[2]\n",
      "[]\n",
      "[1]\n",
      "[5]\n",
      "[2]\n",
      "[[False, False, False, True, False, False, False, False], [False, False, False, False, False, False, True, False], [True, False, False, False, False, False, False, False], [False, False, False, False, False, False, False, True], [False, False, False, False, True, False, False, False], [False, True, False, False, False, False, False, False], [False, False, False, False, False, True, False, False], [False, False, True, False, False, False, False, False]]\n",
      "[1]\n",
      "[]\n",
      "[5, 7]\n",
      "[1]\n",
      "[4]\n",
      "[0, 7]\n",
      "[]\n",
      "[]\n",
      "[1, 5]\n",
      "[4]\n",
      "[0]\n",
      "[5]\n",
      "[[False, False, False, True, False, False, False, False], [False, False, False, False, False, False, True, False], [False, False, True, False, False, False, False, False], [False, False, False, False, False, False, False, True], [False, True, False, False, False, False, False, False], [False, False, False, False, True, False, False, False], [True, False, False, False, False, False, False, False], [False, False, False, False, False, True, False, False]]\n",
      "[0, 1]\n",
      "[]\n",
      "[]\n",
      "[1, 2, 7]\n",
      "[5]\n",
      "[0]\n",
      "[2]\n",
      "[7]\n",
      "[[False, False, False, True, False, False, False, False], [False, False, False, False, False, False, True, False], [False, False, False, False, True, False, False, False], [False, True, False, False, False, False, False, False], [False, False, False, False, False, True, False, False], [True, False, False, False, False, False, False, False], [False, False, True, False, False, False, False, False], [False, False, False, False, False, False, False, True]]\n",
      "[0, 5]\n",
      "[5]\n",
      "[7]\n",
      "[1]\n",
      "[[False, False, False, True, False, False, False, False], [False, False, False, False, False, False, True, False], [False, False, False, False, True, False, False, False], [False, False, True, False, False, False, False, False], [True, False, False, False, False, False, False, False], [False, False, False, False, False, True, False, False], [False, False, False, False, False, False, False, True], [False, True, False, False, False, False, False, False]]\n",
      "[]\n",
      "[0, 1, 5]\n",
      "[]\n",
      "[]\n",
      "[0]\n",
      "[2]\n",
      "[]\n",
      "[0, 2, 4]\n",
      "[2, 4]\n",
      "[5, 6]\n",
      "[1]\n",
      "[6]\n",
      "[4]\n",
      "[[False, False, False, True, False, False, False, False], [False, False, False, False, False, False, False, True], [True, False, False, False, False, False, False, False], [False, False, True, False, False, False, False, False], [False, False, False, False, False, True, False, False], [False, True, False, False, False, False, False, False], [False, False, False, False, False, False, True, False], [False, False, False, False, True, False, False, False]]\n",
      "[1]\n",
      "[]\n",
      "[1, 6]\n",
      "[5]\n",
      "[]\n",
      "[1]\n",
      "[5]\n",
      "[2]\n",
      "[[False, False, False, True, False, False, False, False], [False, False, False, False, False, False, False, True], [True, False, False, False, False, False, False, False], [False, False, False, False, True, False, False, False], [False, False, False, False, False, False, True, False], [False, True, False, False, False, False, False, False], [False, False, False, False, False, True, False, False], [False, False, True, False, False, False, False, False]]\n",
      "[4]\n",
      "[1, 6]\n",
      "[]\n",
      "[0, 1]\n",
      "[5]\n",
      "[]\n",
      "[5]\n",
      "[]\n",
      "[1, 2]\n",
      "[5]\n",
      "[0, 2]\n",
      "[6]\n",
      "[]\n",
      "[6]\n",
      "[]\n",
      "[0, 5]\n",
      "[5, 6]\n",
      "[1]\n",
      "[]\n",
      "[1]\n",
      "[5]\n",
      "[[False, False, False, True, False, False, False, False], [False, False, False, False, False, False, False, True], [False, False, False, False, True, False, False, False], [False, False, True, False, False, False, False, False], [True, False, False, False, False, False, False, False], [False, False, False, False, False, False, True, False], [False, True, False, False, False, False, False, False], [False, False, False, False, False, True, False, False]]\n",
      "[]\n",
      "[0, 1, 2, 6, 7]\n",
      "[3, 5, 7]\n",
      "[5, 6]\n",
      "[2, 7]\n",
      "[]\n",
      "[1, 2]\n",
      "[6]\n",
      "[2]\n",
      "[[False, False, False, False, True, False, False, False], [True, False, False, False, False, False, False, False], [False, False, False, True, False, False, False, False], [False, False, False, False, False, True, False, False], [False, False, False, False, False, False, False, True], [False, True, False, False, False, False, False, False], [False, False, False, False, False, False, True, False], [False, False, True, False, False, False, False, False]]\n",
      "[6]\n",
      "[]\n",
      "[2]\n",
      "[5, 7]\n",
      "[1]\n",
      "[]\n",
      "[1]\n",
      "[]\n",
      "[3]\n",
      "[1, 6]\n",
      "[6, 7]\n",
      "[2]\n",
      "[]\n",
      "[2]\n",
      "[]\n",
      "[]\n",
      "[3, 5]\n",
      "[1, 6]\n",
      "[6]\n",
      "[2]\n",
      "[5]\n",
      "[[False, False, False, False, True, False, False, False], [True, False, False, False, False, False, False, False], [False, False, False, False, False, False, False, True], [False, False, False, True, False, False, False, False], [False, True, False, False, False, False, False, False], [False, False, False, False, False, False, True, False], [False, False, True, False, False, False, False, False], [False, False, False, False, False, True, False, False]]\n",
      "[2]\n",
      "[]\n",
      "[1, 2]\n",
      "[6]\n",
      "[]\n",
      "[6]\n",
      "[1]\n",
      "[3]\n",
      "[[False, False, False, False, True, False, False, False], [True, False, False, False, False, False, False, False], [False, False, False, False, False, False, False, True], [False, False, False, False, False, True, False, False], [False, False, True, False, False, False, False, False], [False, False, False, False, False, False, True, False], [False, True, False, False, False, False, False, False], [False, False, False, True, False, False, False, False]]\n",
      "[3, 5, 7]\n",
      "[0, 5, 6]\n",
      "[2, 6, 7]\n",
      "[7]\n",
      "[5]\n",
      "[]\n",
      "[]\n",
      "[]\n",
      "[2, 7]\n",
      "[]\n",
      "[2]\n",
      "[0]\n",
      "[6]\n",
      "[[False, False, False, False, True, False, False, False], [False, True, False, False, False, False, False, False], [False, False, False, True, False, False, False, False], [False, False, False, False, False, True, False, False], [False, False, False, False, False, False, False, True], [False, False, True, False, False, False, False, False], [True, False, False, False, False, False, False, False], [False, False, False, False, False, False, True, False]]\n",
      "[2]\n",
      "[7]\n",
      "[5]\n",
      "[0]\n",
      "[[False, False, False, False, True, False, False, False], [False, True, False, False, False, False, False, False], [False, False, False, True, False, False, False, False], [False, False, False, False, False, False, True, False], [False, False, True, False, False, False, False, False], [False, False, False, False, False, False, False, True], [False, False, False, False, False, True, False, False], [True, False, False, False, False, False, False, False]]\n",
      "[0, 2]\n",
      "[2, 6]\n",
      "[6, 7]\n",
      "[]\n",
      "[]\n",
      "[3]\n",
      "[7]\n",
      "[2]\n",
      "[[False, False, False, False, True, False, False, False], [False, True, False, False, False, False, False, False], [False, False, False, False, False, True, False, False], [True, False, False, False, False, False, False, False], [False, False, False, False, False, False, True, False], [False, False, False, True, False, False, False, False], [False, False, False, False, False, False, False, True], [False, False, True, False, False, False, False, False]]\n",
      "[6]\n",
      "[3]\n",
      "[0, 7]\n",
      "[]\n",
      "[]\n",
      "[0, 2, 5]\n",
      "[2, 3, 6]\n",
      "[6]\n",
      "[]\n",
      "[6]\n",
      "[2]\n",
      "[5]\n",
      "[[False, False, False, False, True, False, False, False], [False, True, False, False, False, False, False, False], [False, False, False, False, False, False, False, True], [True, False, False, False, False, False, False, False], [False, False, False, True, False, False, False, False], [False, False, False, False, False, False, True, False], [False, False, True, False, False, False, False, False], [False, False, False, False, False, True, False, False]]\n",
      "[3]\n",
      "[5]\n",
      "[]\n",
      "[6]\n",
      "[3]\n",
      "[0]\n",
      "[]\n",
      "[2, 3]\n",
      "[0, 6]\n",
      "[]\n",
      "[]\n",
      "[0, 6]\n",
      "[]\n",
      "[0]\n",
      "[]\n",
      "[0, 5, 7]\n",
      "[3, 5, 6]\n",
      "[1, 6, 7]\n",
      "[7]\n",
      "[5]\n",
      "[]\n",
      "[]\n",
      "[]\n",
      "[1, 3, 7]\n",
      "[]\n",
      "[1]\n",
      "[6]\n",
      "[]\n",
      "[1]\n",
      "[3, 6]\n",
      "[6]\n",
      "[[False, False, False, False, True, False, False, False], [False, False, True, False, False, False, False, False], [True, False, False, False, False, False, False, False], [False, False, False, False, False, True, False, False], [False, False, False, False, False, False, False, True], [False, True, False, False, False, False, False, False], [False, False, False, True, False, False, False, False], [False, False, False, False, False, False, True, False]]\n",
      "[]\n",
      "[1, 3]\n",
      "[5, 7]\n",
      "[]\n",
      "[5]\n",
      "[3]\n",
      "[[False, False, False, False, True, False, False, False], [False, False, True, False, False, False, False, False], [True, False, False, False, False, False, False, False], [False, False, False, False, False, False, True, False], [False, True, False, False, False, False, False, False], [False, False, False, False, False, False, False, True], [False, False, False, False, False, True, False, False], [False, False, False, True, False, False, False, False]]\n",
      "[1, 5, 7]\n",
      "[]\n",
      "[]\n",
      "[]\n",
      "[3]\n",
      "[1, 6]\n",
      "[7]\n",
      "[]\n",
      "[0]\n",
      "[]\n",
      "[3, 5]\n",
      "[1, 6]\n",
      "[]\n",
      "[0]\n",
      "[5]\n",
      "[1]\n",
      "[[False, False, False, False, True, False, False, False], [False, False, True, False, False, False, False, False], [False, False, False, False, False, False, False, True], [False, False, False, True, False, False, False, False], [False, False, False, False, False, False, True, False], [True, False, False, False, False, False, False, False], [False, False, False, False, False, True, False, False], [False, True, False, False, False, False, False, False]]\n",
      "[1, 3]\n",
      "[]\n",
      "[0, 1]\n",
      "[6]\n",
      "[]\n",
      "[6]\n",
      "[]\n",
      "[0, 1, 3]\n",
      "[2, 3, 5]\n",
      "[5, 7]\n",
      "[1, 7]\n",
      "[]\n",
      "[]\n",
      "[1, 5]\n",
      "[3]\n",
      "[]\n",
      "[3]\n",
      "[1]\n",
      "[[False, False, False, False, True, False, False, False], [False, False, False, False, False, False, True, False], [True, False, False, False, False, False, False, False], [False, False, True, False, False, False, False, False], [False, False, False, False, False, False, False, True], [False, False, False, False, False, True, False, False], [False, False, False, True, False, False, False, False], [False, True, False, False, False, False, False, False]]\n",
      "[1, 5, 7]\n",
      "[7]\n",
      "[2, 5]\n",
      "[]\n",
      "[2]\n",
      "[[False, False, False, False, True, False, False, False], [False, False, False, False, False, False, True, False], [True, False, False, False, False, False, False, False], [False, False, False, True, False, False, False, False], [False, True, False, False, False, False, False, False], [False, False, False, False, False, False, False, True], [False, False, False, False, False, True, False, False], [False, False, True, False, False, False, False, False]]\n",
      "[7]\n",
      "[2]\n",
      "[]\n",
      "[]\n",
      "[1, 7]\n",
      "[]\n",
      "[1]\n",
      "[3]\n",
      "[]\n",
      "[3, 5]\n",
      "[5, 7]\n",
      "[0, 7]\n",
      "[2]\n",
      "[]\n",
      "[2]\n",
      "[]\n",
      "[0]\n",
      "[2]\n",
      "[5]\n",
      "[[False, False, False, False, True, False, False, False], [False, False, False, False, False, False, True, False], [False, True, False, False, False, False, False, False], [False, False, False, True, False, False, False, False], [False, False, False, False, False, False, False, True], [True, False, False, False, False, False, False, False], [False, False, True, False, False, False, False, False], [False, False, False, False, False, True, False, False]]\n",
      "[2, 7]\n",
      "[0]\n",
      "[3, 7]\n",
      "[7]\n",
      "[[False, False, False, False, True, False, False, False], [False, False, False, False, False, False, True, False], [False, True, False, False, False, False, False, False], [False, False, False, False, False, True, False, False], [False, False, True, False, False, False, False, False], [True, False, False, False, False, False, False, False], [False, False, False, True, False, False, False, False], [False, False, False, False, False, False, False, True]]\n",
      "[3]\n",
      "[[False, False, False, False, True, False, False, False], [False, False, False, False, False, False, True, False], [False, True, False, False, False, False, False, False], [False, False, False, False, False, True, False, False], [False, False, True, False, False, False, False, False], [True, False, False, False, False, False, False, False], [False, False, False, False, False, False, False, True], [False, False, False, True, False, False, False, False]]\n",
      "[0]\n",
      "[3]\n",
      "[]\n",
      "[0, 5]\n",
      "[2, 7]\n",
      "[5, 7]\n",
      "[]\n",
      "[5]\n",
      "[1]\n",
      "[[False, False, False, False, True, False, False, False], [False, False, False, False, False, False, True, False], [False, False, False, True, False, False, False, False], [True, False, False, False, False, False, False, False], [False, False, True, False, False, False, False, False], [False, False, False, False, False, False, False, True], [False, False, False, False, False, True, False, False], [False, True, False, False, False, False, False, False]]\n",
      "[1, 5]\n",
      "[]\n",
      "[2]\n",
      "[]\n",
      "[2, 7]\n",
      "[]\n",
      "[1]\n",
      "[]\n",
      "[0, 1, 3, 5]\n",
      "[2, 3, 6]\n",
      "[5, 6]\n",
      "[1]\n",
      "[6]\n",
      "[]\n",
      "[1]\n",
      "[3]\n",
      "[]\n",
      "[1, 5, 6]\n",
      "[6]\n",
      "[]\n",
      "[2]\n",
      "[]\n",
      "[2]\n",
      "[5]\n",
      "[]\n",
      "[1, 3]\n",
      "[5]\n",
      "[]\n",
      "[1, 5]\n",
      "[]\n",
      "[]\n",
      "[3, 6]\n",
      "[5, 6]\n",
      "[0, 2]\n",
      "[]\n",
      "[]\n",
      "[0, 2]\n",
      "[]\n",
      "[]\n",
      "[2]\n",
      "[0, 5]\n",
      "[]\n",
      "[]\n",
      "[0, 6]\n",
      "[2, 6]\n",
      "[5]\n",
      "[1]\n",
      "[6]\n",
      "[[False, False, False, False, True, False, False, False], [False, False, False, False, False, False, False, True], [False, False, False, True, False, False, False, False], [True, False, False, False, False, False, False, False], [False, False, True, False, False, False, False, False], [False, False, False, False, False, True, False, False], [False, True, False, False, False, False, False, False], [False, False, False, False, False, False, True, False]]\n",
      "[1]\n",
      "[5]\n",
      "[2]\n",
      "[[False, False, False, False, True, False, False, False], [False, False, False, False, False, False, False, True], [False, False, False, True, False, False, False, False], [True, False, False, False, False, False, False, False], [False, False, False, False, False, False, True, False], [False, True, False, False, False, False, False, False], [False, False, False, False, False, True, False, False], [False, False, True, False, False, False, False, False]]\n",
      "[2]\n",
      "[5]\n",
      "[1]\n",
      "[]\n",
      "[0, 2, 3]\n",
      "[2, 6]\n",
      "[6]\n",
      "[]\n",
      "[1]\n",
      "[]\n",
      "[6]\n",
      "[1]\n",
      "[3]\n",
      "[]\n",
      "[1, 6]\n",
      "[6]\n",
      "[]\n",
      "[0]\n",
      "[]\n",
      "[0, 1, 2, 3, 7]\n",
      "[2, 4, 6]\n",
      "[4, 6, 7]\n",
      "[6, 7]\n",
      "[1, 3]\n",
      "[3]\n",
      "[]\n",
      "[]\n",
      "[1, 3]\n",
      "[3]\n",
      "[]\n",
      "[]\n",
      "[]\n",
      "[]\n",
      "[1, 6, 7]\n",
      "[7]\n",
      "[2]\n",
      "[6]\n",
      "[3]\n",
      "[[False, False, False, False, False, True, False, False], [True, False, False, False, False, False, False, False], [False, False, False, False, True, False, False, False], [False, True, False, False, False, False, False, False], [False, False, False, False, False, False, False, True], [False, False, True, False, False, False, False, False], [False, False, False, False, False, False, True, False], [False, False, False, True, False, False, False, False]]\n",
      "[]\n",
      "[]\n",
      "[1, 3, 4]\n",
      "[7]\n",
      "[2]\n",
      "[]\n",
      "[7]\n",
      "[2]\n",
      "[4]\n",
      "[]\n",
      "[2, 7]\n",
      "[7]\n",
      "[3]\n",
      "[]\n",
      "[1]\n",
      "[3]\n",
      "[]\n",
      "[4, 6]\n",
      "[0, 6, 7]\n",
      "[3, 7]\n",
      "[6]\n",
      "[2]\n",
      "[]\n",
      "[3]\n",
      "[]\n",
      "[0, 3]\n",
      "[2, 3]\n",
      "[7]\n",
      "[]\n",
      "[7]\n",
      "[]\n",
      "[]\n",
      "[0, 3]\n",
      "[2, 3, 6]\n",
      "[]\n",
      "[]\n",
      "[3]\n",
      "[]\n",
      "[6]\n",
      "[2]\n",
      "[]\n",
      "[0, 4]\n",
      "[2, 3, 7]\n",
      "[4, 7]\n",
      "[7]\n",
      "[3]\n",
      "[[False, False, False, False, False, True, False, False], [False, True, False, False, False, False, False, False], [False, False, False, False, False, False, True, False], [True, False, False, False, False, False, False, False], [False, False, True, False, False, False, False, False], [False, False, False, False, True, False, False, False], [False, False, False, False, False, False, False, True], [False, False, False, True, False, False, False, False]]\n",
      "[]\n",
      "[7]\n",
      "[4]\n",
      "[2]\n",
      "[[False, False, False, False, False, True, False, False], [False, True, False, False, False, False, False, False], [False, False, False, False, False, False, True, False], [True, False, False, False, False, False, False, False], [False, False, False, True, False, False, False, False], [False, False, False, False, False, False, False, True], [False, False, False, False, True, False, False, False], [False, False, True, False, False, False, False, False]]\n",
      "[4]\n",
      "[]\n",
      "[0, 2, 7]\n",
      "[7]\n",
      "[3]\n",
      "[]\n",
      "[7]\n",
      "[3]\n",
      "[]\n",
      "[]\n",
      "[0, 4, 6]\n",
      "[3, 6, 7]\n",
      "[6, 7]\n",
      "[4]\n",
      "[1]\n",
      "[]\n",
      "[4]\n",
      "[1]\n",
      "[]\n",
      "[3, 4]\n",
      "[1, 7]\n",
      "[]\n",
      "[]\n",
      "[1, 7]\n",
      "[]\n",
      "[1]\n",
      "[3]\n",
      "[[False, False, False, False, False, True, False, False], [False, False, True, False, False, False, False, False], [True, False, False, False, False, False, False, False], [False, False, False, False, False, False, True, False], [False, False, False, False, True, False, False, False], [False, False, False, False, False, False, False, True], [False, True, False, False, False, False, False, False], [False, False, False, True, False, False, False, False]]\n",
      "[3, 4]\n",
      "[1]\n",
      "[6]\n",
      "[4]\n",
      "[[False, False, False, False, False, True, False, False], [False, False, True, False, False, False, False, False], [True, False, False, False, False, False, False, False], [False, False, False, False, False, False, False, True], [False, False, False, True, False, False, False, False], [False, True, False, False, False, False, False, False], [False, False, False, False, False, False, True, False], [False, False, False, False, True, False, False, False]]\n",
      "[1]\n",
      "[3]\n",
      "[6]\n",
      "[[False, False, False, False, False, True, False, False], [False, False, True, False, False, False, False, False], [True, False, False, False, False, False, False, False], [False, False, False, False, False, False, False, True], [False, False, False, False, True, False, False, False], [False, True, False, False, False, False, False, False], [False, False, False, True, False, False, False, False], [False, False, False, False, False, False, True, False]]\n",
      "[1, 6, 7]\n",
      "[3, 7]\n",
      "[]\n",
      "[]\n",
      "[0, 3]\n",
      "[3]\n",
      "[1]\n",
      "[7]\n",
      "[[False, False, False, False, False, True, False, False], [False, False, True, False, False, False, False, False], [False, False, False, False, True, False, False, False], [False, False, False, False, False, False, True, False], [True, False, False, False, False, False, False, False], [False, False, False, True, False, False, False, False], [False, True, False, False, False, False, False, False], [False, False, False, False, False, False, False, True]]\n",
      "[]\n",
      "[0, 3]\n",
      "[3]\n",
      "[1, 6]\n",
      "[6]\n",
      "[[False, False, False, False, False, True, False, False], [False, False, True, False, False, False, False, False], [False, False, False, False, True, False, False, False], [False, False, False, False, False, False, False, True], [True, False, False, False, False, False, False, False], [False, False, False, True, False, False, False, False], [False, True, False, False, False, False, False, False], [False, False, False, False, False, False, True, False]]\n",
      "[]\n",
      "[]\n",
      "[1, 3]\n",
      "[3, 7]\n",
      "[7]\n",
      "[0]\n",
      "[4]\n",
      "[[False, False, False, False, False, True, False, False], [False, False, True, False, False, False, False, False], [False, False, False, False, False, False, True, False], [False, True, False, False, False, False, False, False], [False, False, False, True, False, False, False, False], [False, False, False, False, False, False, False, True], [True, False, False, False, False, False, False, False], [False, False, False, False, True, False, False, False]]\n",
      "[4]\n",
      "[0]\n",
      "[3]\n",
      "[[False, False, False, False, False, True, False, False], [False, False, True, False, False, False, False, False], [False, False, False, False, False, False, True, False], [False, True, False, False, False, False, False, False], [False, False, False, False, False, False, False, True], [False, False, False, False, True, False, False, False], [True, False, False, False, False, False, False, False], [False, False, False, True, False, False, False, False]]\n",
      "[0, 7]\n",
      "[4, 7]\n",
      "[1]\n",
      "[]\n",
      "[1, 4]\n",
      "[4]\n",
      "[[False, False, False, False, False, True, False, False], [False, False, True, False, False, False, False, False], [False, False, False, False, False, False, True, False], [False, False, False, True, False, False, False, False], [True, False, False, False, False, False, False, False], [False, False, False, False, False, False, False, True], [False, True, False, False, False, False, False, False], [False, False, False, False, True, False, False, False]]\n",
      "[]\n",
      "[4]\n",
      "[1]\n",
      "[]\n",
      "[0, 1, 6]\n",
      "[4, 6, 7]\n",
      "[7]\n",
      "[1]\n",
      "[6]\n",
      "[2]\n",
      "[[False, False, False, False, False, True, False, False], [False, False, False, True, False, False, False, False], [True, False, False, False, False, False, False, False], [False, False, False, False, True, False, False, False], [False, False, False, False, False, False, False, True], [False, True, False, False, False, False, False, False], [False, False, False, False, False, False, True, False], [False, False, True, False, False, False, False, False]]\n",
      "[4]\n",
      "[1, 2]\n",
      "[7]\n",
      "[]\n",
      "[7]\n",
      "[]\n",
      "[4]\n",
      "[1, 2, 6]\n",
      "[]\n",
      "[]\n",
      "[1]\n",
      "[]\n",
      "[4, 6, 7]\n",
      "[2, 7]\n",
      "[]\n",
      "[]\n",
      "[2, 4]\n",
      "[]\n",
      "[2]\n",
      "[0, 7]\n",
      "[]\n",
      "[]\n",
      "[2, 4]\n",
      "[6]\n",
      "[]\n",
      "[2, 6]\n",
      "[0]\n",
      "[]\n",
      "[0]\n",
      "[2]\n",
      "[[False, False, False, False, False, True, False, False], [False, False, False, True, False, False, False, False], [False, True, False, False, False, False, False, False], [False, False, False, False, False, False, False, True], [False, False, False, False, True, False, False, False], [False, False, False, False, False, False, True, False], [True, False, False, False, False, False, False, False], [False, False, True, False, False, False, False, False]]\n",
      "[0, 4]\n",
      "[2, 7]\n",
      "[4]\n",
      "[1, 7]\n",
      "[7]\n",
      "[[False, False, False, False, False, True, False, False], [False, False, False, True, False, False, False, False], [False, False, False, False, False, False, True, False], [True, False, False, False, False, False, False, False], [False, False, True, False, False, False, False, False], [False, False, False, False, True, False, False, False], [False, True, False, False, False, False, False, False], [False, False, False, False, False, False, False, True]]\n",
      "[]\n",
      "[1, 4]\n",
      "[4]\n",
      "[2]\n",
      "[[False, False, False, False, False, True, False, False], [False, False, False, True, False, False, False, False], [False, False, False, False, False, False, True, False], [True, False, False, False, False, False, False, False], [False, False, False, False, False, False, False, True], [False, True, False, False, False, False, False, False], [False, False, False, False, True, False, False, False], [False, False, True, False, False, False, False, False]]\n",
      "[1]\n",
      "[]\n",
      "[2, 7]\n",
      "[]\n",
      "[1]\n",
      "[]\n",
      "[0, 1, 2, 4]\n",
      "[3, 4, 6]\n",
      "[6]\n",
      "[2, 4]\n",
      "[]\n",
      "[1]\n",
      "[]\n",
      "[6]\n",
      "[1]\n",
      "[3]\n",
      "[]\n",
      "[3]\n",
      "[1]\n",
      "[]\n",
      "[3, 4, 6]\n",
      "[0, 6]\n",
      "[2, 6]\n",
      "[4]\n",
      "[]\n",
      "[4]\n",
      "[2]\n",
      "[[False, False, False, False, False, True, False, False], [False, False, False, False, False, False, False, True], [False, True, False, False, False, False, False, False], [False, False, False, True, False, False, False, False], [True, False, False, False, False, False, False, False], [False, False, False, False, False, False, True, False], [False, False, False, False, True, False, False, False], [False, False, True, False, False, False, False, False]]\n",
      "[2]\n",
      "[]\n",
      "[0, 2, 6]\n",
      "[]\n",
      "[]\n",
      "[]\n",
      "[0, 2]\n",
      "[2]\n",
      "[4]\n",
      "[]\n",
      "[]\n",
      "[0, 4, 6]\n",
      "[3, 6]\n",
      "[1, 6]\n",
      "[4]\n",
      "[]\n",
      "[4]\n",
      "[]\n",
      "[1, 4]\n",
      "[]\n",
      "[1]\n",
      "[]\n",
      "[6]\n",
      "[1]\n",
      "[3]\n",
      "[]\n",
      "[3]\n",
      "[1]\n",
      "[4]\n",
      "[]\n",
      "[0, 1, 6]\n",
      "[3]\n",
      "[6]\n",
      "[]\n",
      "[3]\n",
      "[6]\n",
      "[]\n",
      "[0, 3]\n",
      "[2]\n",
      "[]\n",
      "[]\n",
      "[0, 1, 2, 3, 4]\n",
      "[2, 3, 5, 7]\n",
      "[4, 5, 7]\n",
      "[1, 7]\n",
      "[3, 7]\n",
      "[]\n",
      "[]\n",
      "[3]\n",
      "[]\n",
      "[1, 7]\n",
      "[]\n",
      "[]\n",
      "[1, 5]\n",
      "[3]\n",
      "[]\n",
      "[3]\n",
      "[1]\n",
      "[4]\n",
      "[[False, False, False, False, False, False, True, False], [True, False, False, False, False, False, False, False], [False, False, True, False, False, False, False, False], [False, False, False, False, False, False, False, True], [False, False, False, False, False, True, False, False], [False, False, False, True, False, False, False, False], [False, True, False, False, False, False, False, False], [False, False, False, False, True, False, False, False]]\n",
      "[1, 5, 7]\n",
      "[4, 7]\n",
      "[2, 7]\n",
      "[]\n",
      "[]\n",
      "[2, 5]\n",
      "[]\n",
      "[2]\n",
      "[]\n",
      "[7]\n",
      "[2]\n",
      "[4]\n",
      "[]\n",
      "[4]\n",
      "[2]\n",
      "[]\n",
      "[1, 7]\n",
      "[4]\n",
      "[7]\n",
      "[3]\n",
      "[]\n",
      "[1, 4]\n",
      "[3]\n",
      "[]\n",
      "[]\n",
      "[1, 4, 5]\n",
      "[4]\n",
      "[2]\n",
      "[]\n",
      "[1]\n",
      "[3, 5]\n",
      "[]\n",
      "[2]\n",
      "[]\n",
      "[1]\n",
      "[]\n",
      "[3, 5, 7]\n",
      "[0, 5, 7]\n",
      "[7]\n",
      "[4]\n",
      "[2]\n",
      "[5]\n",
      "[[False, False, False, False, False, False, True, False], [False, True, False, False, False, False, False, False], [False, False, False, True, False, False, False, False], [True, False, False, False, False, False, False, False], [False, False, False, False, False, False, False, True], [False, False, False, False, True, False, False, False], [False, False, True, False, False, False, False, False], [False, False, False, False, False, True, False, False]]\n",
      "[0, 7]\n",
      "[2, 4]\n",
      "[4]\n",
      "[]\n",
      "[]\n",
      "[2, 4]\n",
      "[4]\n",
      "[]\n",
      "[]\n",
      "[0]\n",
      "[2, 4]\n",
      "[5]\n",
      "[]\n",
      "[]\n",
      "[0, 2, 7]\n",
      "[]\n",
      "[0]\n",
      "[3, 7]\n",
      "[7]\n",
      "[4]\n",
      "[[False, False, False, False, False, False, True, False], [False, True, False, False, False, False, False, False], [False, False, False, False, False, True, False, False], [False, False, True, False, False, False, False, False], [True, False, False, False, False, False, False, False], [False, False, False, True, False, False, False, False], [False, False, False, False, False, False, False, True], [False, False, False, False, True, False, False, False]]\n",
      "[3, 4]\n",
      "[]\n",
      "[]\n",
      "[0]\n",
      "[3, 4]\n",
      "[]\n",
      "[]\n",
      "[0, 2, 4, 5]\n",
      "[3]\n",
      "[]\n",
      "[0]\n",
      "[3]\n",
      "[]\n",
      "[0]\n",
      "[3]\n",
      "[5]\n",
      "[]\n",
      "[0, 3]\n",
      "[2]\n",
      "[4]\n",
      "[]\n",
      "[0]\n",
      "[4]\n",
      "[]\n",
      "[0, 5, 7]\n",
      "[5, 7]\n",
      "[1, 3, 7]\n",
      "[4]\n",
      "[]\n",
      "[]\n",
      "[4]\n",
      "[1]\n",
      "[3]\n",
      "[[False, False, False, False, False, False, True, False], [False, False, True, False, False, False, False, False], [True, False, False, False, False, False, False, False], [False, False, False, False, False, True, False, False], [False, False, False, False, False, False, False, True], [False, False, False, False, True, False, False, False], [False, True, False, False, False, False, False, False], [False, False, False, True, False, False, False, False]]\n",
      "[1, 3, 4]\n",
      "[4]\n",
      "[]\n",
      "[]\n",
      "[]\n",
      "[1, 7]\n",
      "[4]\n",
      "[0, 7]\n",
      "[3]\n",
      "[]\n",
      "[3]\n",
      "[]\n",
      "[0, 1, 4]\n",
      "[3, 4]\n",
      "[]\n",
      "[]\n",
      "[3, 4]\n",
      "[]\n",
      "[]\n",
      "[0]\n",
      "[3]\n",
      "[]\n",
      "[1, 5]\n",
      "[3, 4]\n",
      "[0, 5]\n",
      "[]\n",
      "[]\n",
      "[0]\n",
      "[5]\n",
      "[3]\n",
      "[[False, False, False, False, False, False, True, False], [False, False, True, False, False, False, False, False], [False, False, False, False, False, False, False, True], [False, True, False, False, False, False, False, False], [False, False, False, False, True, False, False, False], [True, False, False, False, False, False, False, False], [False, False, False, False, False, True, False, False], [False, False, False, True, False, False, False, False]]\n",
      "[0, 1, 3]\n",
      "[]\n",
      "[]\n",
      "[0]\n",
      "[4]\n",
      "[]\n",
      "[0, 1, 5, 7]\n",
      "[2, 4, 7]\n",
      "[4, 5, 7]\n",
      "[]\n",
      "[]\n",
      "[5]\n",
      "[1]\n",
      "[]\n",
      "[1, 7]\n",
      "[5]\n",
      "[2]\n",
      "[]\n",
      "[5]\n",
      "[2]\n",
      "[]\n",
      "[1, 4, 5]\n",
      "[4]\n",
      "[2]\n",
      "[]\n",
      "[2]\n",
      "[5]\n",
      "[]\n",
      "[2]\n",
      "[]\n",
      "[4, 7]\n",
      "[7]\n",
      "[0, 5]\n",
      "[2]\n",
      "[5]\n",
      "[[False, False, False, False, False, False, True, False], [False, False, False, True, False, False, False, False], [False, True, False, False, False, False, False, False], [False, False, False, False, True, False, False, False], [False, False, False, False, False, False, False, True], [True, False, False, False, False, False, False, False], [False, False, True, False, False, False, False, False], [False, False, False, False, False, True, False, False]]\n",
      "[2]\n",
      "[]\n",
      "[4, 5]\n",
      "[0, 2]\n",
      "[]\n",
      "[]\n",
      "[0, 2]\n",
      "[2]\n",
      "[4]\n",
      "[[False, False, False, False, False, False, True, False], [False, False, False, True, False, False, False, False], [False, True, False, False, False, False, False, False], [False, False, False, False, False, False, False, True], [False, False, False, False, False, True, False, False], [True, False, False, False, False, False, False, False], [False, False, True, False, False, False, False, False], [False, False, False, False, True, False, False, False]]\n",
      "[]\n",
      "[0, 2, 7]\n",
      "[4]\n",
      "[]\n",
      "[4]\n",
      "[]\n",
      "[1, 4]\n",
      "[4]\n",
      "[2]\n",
      "[]\n",
      "[0]\n",
      "[]\n",
      "[0, 2, 4]\n",
      "[4]\n",
      "[]\n",
      "[4]\n",
      "[]\n",
      "[1]\n",
      "[5]\n",
      "[2]\n",
      "[]\n",
      "[0, 1, 2, 7]\n",
      "[5, 7]\n",
      "[3]\n",
      "[]\n",
      "[3, 5]\n",
      "[]\n",
      "[2]\n",
      "[]\n",
      "[5, 7]\n",
      "[0]\n",
      "[2]\n",
      "[7]\n",
      "[]\n",
      "[0, 5]\n",
      "[2, 3]\n",
      "[]\n",
      "[]\n",
      "[2, 3]\n",
      "[]\n",
      "[]\n",
      "[0, 5, 7]\n",
      "[3, 5]\n",
      "[7]\n",
      "[]\n",
      "[3, 7]\n",
      "[1]\n",
      "[]\n",
      "[1]\n",
      "[3]\n",
      "[[False, False, False, False, False, False, True, False], [False, False, False, False, True, False, False, False], [False, False, True, False, False, False, False, False], [True, False, False, False, False, False, False, False], [False, False, False, False, False, True, False, False], [False, False, False, False, False, False, False, True], [False, True, False, False, False, False, False, False], [False, False, False, True, False, False, False, False]]\n",
      "[3]\n",
      "[]\n",
      "[3, 5]\n",
      "[]\n",
      "[3]\n",
      "[1]\n",
      "[]\n",
      "[0, 1, 5]\n",
      "[3]\n",
      "[5]\n",
      "[2]\n",
      "[]\n",
      "[3]\n",
      "[5]\n",
      "[2]\n",
      "[]\n",
      "[0, 3]\n",
      "[2]\n",
      "[]\n",
      "[]\n",
      "[0, 1, 2, 3, 4, 5]\n",
      "[2, 3, 4, 6]\n",
      "[5, 6]\n",
      "[1]\n",
      "[6]\n",
      "[4]\n",
      "[]\n",
      "[1]\n"
     ]
    },
    {
     "name": "stdout",
     "output_type": "stream",
     "text": [
      "[3]\n",
      "[]\n",
      "[1, 5, 6]\n",
      "[4, 6]\n",
      "[]\n",
      "[]\n",
      "[2]\n",
      "[]\n",
      "[2, 4]\n",
      "[5]\n",
      "[]\n",
      "[1]\n",
      "[]\n",
      "[1, 6]\n",
      "[5]\n",
      "[]\n",
      "[1]\n",
      "[3, 5]\n",
      "[]\n",
      "[2]\n",
      "[]\n",
      "[1, 3]\n",
      "[5]\n",
      "[]\n",
      "[1, 5]\n",
      "[]\n",
      "[]\n",
      "[3, 4, 6]\n",
      "[0, 5, 6]\n",
      "[2, 6]\n",
      "[4]\n",
      "[]\n",
      "[4]\n",
      "[2]\n",
      "[5]\n",
      "[[False, False, False, False, False, False, False, True], [False, True, False, False, False, False, False, False], [False, False, False, True, False, False, False, False], [True, False, False, False, False, False, False, False], [False, False, False, False, False, False, True, False], [False, False, False, False, True, False, False, False], [False, False, True, False, False, False, False, False], [False, False, False, False, False, True, False, False]]\n",
      "[0, 2]\n",
      "[4]\n",
      "[]\n",
      "[4]\n",
      "[]\n",
      "[0, 2]\n",
      "[]\n",
      "[]\n",
      "[0, 2, 6]\n",
      "[5]\n",
      "[3]\n",
      "[]\n",
      "[0, 5]\n",
      "[3, 6]\n",
      "[]\n",
      "[3]\n",
      "[5]\n",
      "[[False, False, False, False, False, False, False, True], [False, True, False, False, False, False, False, False], [False, False, False, False, True, False, False, False], [False, False, True, False, False, False, False, False], [True, False, False, False, False, False, False, False], [False, False, False, False, False, False, True, False], [False, False, False, True, False, False, False, False], [False, False, False, False, False, True, False, False]]\n",
      "[3]\n",
      "[]\n",
      "[0]\n",
      "[3]\n",
      "[5]\n",
      "[]\n",
      "[0, 2]\n",
      "[2, 5]\n",
      "[4]\n",
      "[]\n",
      "[]\n",
      "[0, 5]\n",
      "[]\n",
      "[]\n",
      "[0, 4, 6]\n",
      "[3, 5, 6]\n",
      "[1, 6]\n",
      "[4]\n",
      "[]\n",
      "[4]\n",
      "[]\n",
      "[1]\n",
      "[4]\n",
      "[6]\n",
      "[3]\n",
      "[[False, False, False, False, False, False, False, True], [False, False, True, False, False, False, False, False], [True, False, False, False, False, False, False, False], [False, False, False, False, False, True, False, False], [False, True, False, False, False, False, False, False], [False, False, False, False, True, False, False, False], [False, False, False, False, False, False, True, False], [False, False, False, True, False, False, False, False]]\n",
      "[1, 4]\n",
      "[5]\n",
      "[]\n",
      "[1]\n",
      "[5]\n",
      "[]\n",
      "[1, 6]\n",
      "[]\n",
      "[0, 1]\n",
      "[3, 5]\n",
      "[5]\n",
      "[]\n",
      "[]\n",
      "[3, 5]\n",
      "[5]\n",
      "[]\n",
      "[]\n",
      "[1, 3]\n",
      "[]\n",
      "[0, 1]\n",
      "[4]\n",
      "[]\n",
      "[4]\n",
      "[]\n",
      "[0, 1, 6]\n",
      "[2, 6]\n",
      "[4, 5]\n",
      "[1, 6]\n",
      "[]\n",
      "[]\n",
      "[1]\n",
      "[6]\n",
      "[4]\n",
      "[[False, False, False, False, False, False, False, True], [False, False, False, True, False, False, False, False], [True, False, False, False, False, False, False, False], [False, False, True, False, False, False, False, False], [False, False, False, False, False, True, False, False], [False, True, False, False, False, False, False, False], [False, False, False, False, False, False, True, False], [False, False, False, False, True, False, False, False]]\n",
      "[1, 4]\n",
      "[5]\n",
      "[2]\n",
      "[]\n",
      "[1]\n",
      "[5]\n",
      "[]\n",
      "[6]\n",
      "[2, 4]\n",
      "[0, 5]\n",
      "[]\n",
      "[]\n",
      "[0]\n",
      "[]\n",
      "[0, 2]\n",
      "[2, 5]\n",
      "[4, 5]\n",
      "[]\n",
      "[]\n",
      "[1]\n",
      "[4]\n",
      "[]\n",
      "[5]\n",
      "[1]\n",
      "[4]\n",
      "[]\n",
      "[0, 1, 2, 6]\n",
      "[3, 5]\n",
      "[5, 6]\n",
      "[]\n",
      "[]\n",
      "[]\n",
      "[3, 5]\n",
      "[0, 5, 6]\n",
      "[6]\n",
      "[]\n",
      "[]\n",
      "[]\n",
      "[0, 2]\n",
      "[6]\n",
      "[3]\n",
      "[]\n",
      "[6]\n",
      "[3]\n",
      "[]\n",
      "[0, 5]\n",
      "[5, 6]\n",
      "[1, 3]\n",
      "[]\n",
      "[]\n",
      "[1, 3]\n",
      "[5]\n",
      "[]\n",
      "[5]\n",
      "[]\n",
      "[]\n",
      "[0, 1, 3]\n",
      "[2, 5]\n",
      "[5]\n",
      "[]\n",
      "[1]\n",
      "[]\n",
      "[5]\n",
      "[]\n",
      "[0, 5]\n",
      "[]\n",
      "[]\n",
      "[0, 1, 2, 3]\n",
      "[2, 6]\n",
      "[4, 6]\n",
      "[6]\n",
      "[3]\n",
      "[]\n",
      "[]\n",
      "[1, 4]\n",
      "[]\n",
      "[]\n",
      "[6]\n",
      "[0, 4]\n",
      "[3]\n",
      "[]\n",
      "[0]\n",
      "[]\n",
      "[0, 6]\n",
      "[6]\n",
      "[3, 4]\n",
      "[]\n",
      "[]\n",
      "[1]\n",
      "[3]\n",
      "[]\n",
      "[0, 1, 6]\n",
      "[4, 6]\n",
      "[]\n",
      "[4]\n",
      "[2]\n",
      "[]\n",
      "[4, 6]\n",
      "[]\n",
      "[4]\n",
      "[2]\n",
      "[]\n",
      "[0, 4]\n",
      "[]\n",
      "[]\n"
     ]
    }
   ],
   "source": [
    "solve(board)"
   ]
  },
  {
   "cell_type": "code",
   "execution_count": null,
   "metadata": {},
   "outputs": [],
   "source": [
    "[[True, False, False, False, False, False, False, False], \n",
    " [False, False, False, False, False, True, False, False], \n",
    " [False, False, False, False, False, False, False, True], \n",
    " [False, False, True, False, False, False, False, False], \n",
    " [False, False, False, False, False, False, True, False], \n",
    " [False, False, False, True, False, False, False, False], \n",
    " [False, True, False, False, False, False, False, False], \n",
    " [False, False, False, False, True, False, False, False]]"
   ]
  },
  {
   "attachments": {
    "image.png": {
     "image/png": "[encoded data removed]"
    }
   },
   "cell_type": "markdown",
   "metadata": {},
   "source": [
    "![image.png](attachment:image.png)"
   ]
  },
  {
   "cell_type": "code",
   "execution_count": 93,
   "metadata": {},
   "outputs": [],
   "source": [
    "tup = (1,\"sandeep\", 4)"
   ]
  },
  {
   "cell_type": "code",
   "execution_count": 94,
   "metadata": {},
   "outputs": [
    {
     "data": {
      "text/plain": [
       "(1, 'sandeep', 4)"
      ]
     },
     "execution_count": 94,
     "metadata": {},
     "output_type": "execute_result"
    }
   ],
   "source": [
    "tup"
   ]
  },
  {
   "cell_type": "code",
   "execution_count": 95,
   "metadata": {},
   "outputs": [],
   "source": [
    "d = {\"name\":\"sandeep\"}"
   ]
  },
  {
   "cell_type": "code",
   "execution_count": 96,
   "metadata": {},
   "outputs": [
    {
     "data": {
      "text/plain": [
       "{'name': 'sandeep'}"
      ]
     },
     "execution_count": 96,
     "metadata": {},
     "output_type": "execute_result"
    }
   ],
   "source": [
    "d"
   ]
  },
  {
   "cell_type": "code",
   "execution_count": 97,
   "metadata": {},
   "outputs": [],
   "source": [
    "class MyClass:\n",
    "    i = 12345\n",
    "\n",
    "    def f(o):\n",
    "        return 'hello world'"
   ]
  },
  {
   "cell_type": "code",
   "execution_count": 98,
   "metadata": {},
   "outputs": [],
   "source": [
    "o1 = MyClass()"
   ]
  },
  {
   "cell_type": "code",
   "execution_count": 101,
   "metadata": {},
   "outputs": [
    {
     "data": {
      "text/plain": [
       "12345"
      ]
     },
     "execution_count": 101,
     "metadata": {},
     "output_type": "execute_result"
    }
   ],
   "source": [
    "o1.i"
   ]
  },
  {
   "cell_type": "code",
   "execution_count": 102,
   "metadata": {},
   "outputs": [],
   "source": [
    "o2 = MyClass()"
   ]
  },
  {
   "cell_type": "code",
   "execution_count": 105,
   "metadata": {},
   "outputs": [],
   "source": [
    "o2.i = 10"
   ]
  },
  {
   "cell_type": "code",
   "execution_count": 106,
   "metadata": {},
   "outputs": [
    {
     "data": {
      "text/plain": [
       "10"
      ]
     },
     "execution_count": 106,
     "metadata": {},
     "output_type": "execute_result"
    }
   ],
   "source": [
    "o2.i"
   ]
  },
  {
   "cell_type": "code",
   "execution_count": 107,
   "metadata": {},
   "outputs": [
    {
     "data": {
      "text/plain": [
       "12345"
      ]
     },
     "execution_count": 107,
     "metadata": {},
     "output_type": "execute_result"
    }
   ],
   "source": [
    "o1.i"
   ]
  },
  {
   "cell_type": "code",
   "execution_count": 116,
   "metadata": {},
   "outputs": [],
   "source": [
    "class Point:\n",
    "    x = 0\n",
    "    y = 0\n",
    "    def add(self, p):\n",
    "        self.x += p.x\n",
    "        self.y += p.y"
   ]
  },
  {
   "cell_type": "code",
   "execution_count": 117,
   "metadata": {},
   "outputs": [],
   "source": [
    "p1 = Point()\n",
    "p1.x = 10\n",
    "p1.y = 20"
   ]
  },
  {
   "cell_type": "code",
   "execution_count": 118,
   "metadata": {},
   "outputs": [],
   "source": [
    "p2 = Point()\n",
    "p2.x = 40\n",
    "p2.y = 50\n"
   ]
  },
  {
   "cell_type": "code",
   "execution_count": 119,
   "metadata": {},
   "outputs": [],
   "source": [
    "p1.add(p2)"
   ]
  },
  {
   "cell_type": "code",
   "execution_count": 120,
   "metadata": {},
   "outputs": [
    {
     "data": {
      "text/plain": [
       "50"
      ]
     },
     "execution_count": 120,
     "metadata": {},
     "output_type": "execute_result"
    }
   ],
   "source": [
    "p1.x"
   ]
  },
  {
   "cell_type": "code",
   "execution_count": 121,
   "metadata": {},
   "outputs": [
    {
     "data": {
      "text/plain": [
       "70"
      ]
     },
     "execution_count": 121,
     "metadata": {},
     "output_type": "execute_result"
    }
   ],
   "source": [
    "p1.y"
   ]
  },
  {
   "cell_type": "code",
   "execution_count": 124,
   "metadata": {},
   "outputs": [],
   "source": [
    "class Dog:\n",
    "    name = 'No Name Dog'\n",
    "    def bark(self):\n",
    "        print(f\"{self.name} is barking\")"
   ]
  },
  {
   "cell_type": "code",
   "execution_count": 125,
   "metadata": {},
   "outputs": [
    {
     "name": "stdout",
     "output_type": "stream",
     "text": [
      "No Name Dog is barking\n"
     ]
    }
   ],
   "source": [
    "tommy = Dog()\n",
    "tommy.bark()"
   ]
  },
  {
   "cell_type": "code",
   "execution_count": 126,
   "metadata": {},
   "outputs": [
    {
     "name": "stdout",
     "output_type": "stream",
     "text": [
      "Tommy is barking\n"
     ]
    }
   ],
   "source": [
    "tommy.name = 'Tommy'\n",
    "tommy.bark()"
   ]
  },
  {
   "cell_type": "code",
   "execution_count": 128,
   "metadata": {},
   "outputs": [
    {
     "name": "stdout",
     "output_type": "stream",
     "text": [
      "Jerry is barking\n"
     ]
    }
   ],
   "source": [
    "jerry = Dog()\n",
    "jerry.name = 'Jerry'\n",
    "jerry.bark()"
   ]
  },
  {
   "cell_type": "code",
   "execution_count": 129,
   "metadata": {},
   "outputs": [
    {
     "name": "stdout",
     "output_type": "stream",
     "text": [
      "Tommy is barking\n",
      "Jerry is barking\n"
     ]
    },
    {
     "data": {
      "text/plain": [
       "(None, None)"
      ]
     },
     "execution_count": 129,
     "metadata": {},
     "output_type": "execute_result"
    }
   ],
   "source": [
    "tommy.bark(), jerry.bark()"
   ]
  },
  {
   "cell_type": "code",
   "execution_count": null,
   "metadata": {},
   "outputs": [],
   "source": [
    "class Dog:\n",
    "    name = 'No Name Dog'\n",
    "    def __init__(self, name):\n",
    "        self.name = name\n",
    "    def bark(self):\n",
    "        print(f\"{self.name} is barking\")"
   ]
  },
  {
   "cell_type": "code",
   "execution_count": 164,
   "metadata": {},
   "outputs": [],
   "source": [
    "class Animal:\n",
    "    name = 'No name'\n",
    "    hunger = 10\n",
    "    def eat(self, food): #object level\n",
    "        self.hunger -= food\n",
    "        print(f\"{self.name} ate {food}. Now, hunger: {self.hunger}\")\n",
    "    def speak(): # class level\n",
    "        print(\".\")"
   ]
  },
  {
   "cell_type": "code",
   "execution_count": 165,
   "metadata": {},
   "outputs": [],
   "source": [
    "a = Animal()"
   ]
  },
  {
   "cell_type": "code",
   "execution_count": 166,
   "metadata": {},
   "outputs": [
    {
     "name": "stdout",
     "output_type": "stream",
     "text": [
      "No name ate 10. Now, hunger: 0\n"
     ]
    }
   ],
   "source": [
    "a.eat(10)"
   ]
  },
  {
   "cell_type": "code",
   "execution_count": 167,
   "metadata": {},
   "outputs": [
    {
     "data": {
      "text/plain": [
       "0"
      ]
     },
     "execution_count": 167,
     "metadata": {},
     "output_type": "execute_result"
    }
   ],
   "source": [
    "a.hunger"
   ]
  },
  {
   "cell_type": "code",
   "execution_count": 168,
   "metadata": {},
   "outputs": [],
   "source": [
    "b = Animal()"
   ]
  },
  {
   "cell_type": "code",
   "execution_count": 169,
   "metadata": {},
   "outputs": [
    {
     "data": {
      "text/plain": [
       "10"
      ]
     },
     "execution_count": 169,
     "metadata": {},
     "output_type": "execute_result"
    }
   ],
   "source": [
    "b.hunger"
   ]
  },
  {
   "cell_type": "code",
   "execution_count": 170,
   "metadata": {},
   "outputs": [
    {
     "ename": "TypeError",
     "evalue": "speak() takes 0 positional arguments but 1 was given",
     "output_type": "error",
     "traceback": [
      "\u001b[0;31m---------------------------------------------------------------------------\u001b[0m",
      "\u001b[0;31mTypeError\u001b[0m                                 Traceback (most recent call last)",
      "\u001b[0;32m<ipython-input-170-f2129e1a35b1>\u001b[0m in \u001b[0;36m<module>\u001b[0;34m\u001b[0m\n\u001b[0;32m----> 1\u001b[0;31m \u001b[0ma\u001b[0m\u001b[0;34m.\u001b[0m\u001b[0mspeak\u001b[0m\u001b[0;34m(\u001b[0m\u001b[0;34m)\u001b[0m \u001b[0;31m# speak(a)\u001b[0m\u001b[0;34m\u001b[0m\u001b[0;34m\u001b[0m\u001b[0m\n\u001b[0m",
      "\u001b[0;31mTypeError\u001b[0m: speak() takes 0 positional arguments but 1 was given"
     ]
    }
   ],
   "source": [
    "a.speak() # speak(a)"
   ]
  },
  {
   "cell_type": "code",
   "execution_count": 171,
   "metadata": {},
   "outputs": [
    {
     "name": "stdout",
     "output_type": "stream",
     "text": [
      ".\n"
     ]
    }
   ],
   "source": [
    "Animal.speak()"
   ]
  },
  {
   "cell_type": "code",
   "execution_count": 176,
   "metadata": {},
   "outputs": [
    {
     "name": "stdout",
     "output_type": "stream",
     "text": [
      "No name ate 100. Now, hunger: -90\n"
     ]
    }
   ],
   "source": [
    "a = Animal()\n",
    "Animal.eat(a, 100)"
   ]
  },
  {
   "cell_type": "code",
   "execution_count": 177,
   "metadata": {},
   "outputs": [
    {
     "name": "stdout",
     "output_type": "stream",
     "text": [
      "No name ate 100. Now, hunger: -90\n"
     ]
    }
   ],
   "source": [
    "b = Animal()\n",
    "b.eat(100)"
   ]
  },
  {
   "cell_type": "code",
   "execution_count": null,
   "metadata": {},
   "outputs": [],
   "source": [
    "class EightQueenSolver:\n",
    "    board = []\n",
    "    def __init__():\n",
    "        ...\n",
    "    def solve(self):\n",
    "        self.board.."
   ]
  },
  {
   "cell_type": "code",
   "execution_count": 223,
   "metadata": {},
   "outputs": [],
   "source": [
    "class Dog:\n",
    "    def __init__(self, name, breed, age):\n",
    "        self.name = name.upper()\n",
    "        self.breed = breed\n",
    "        self.age = age + 3\n",
    "    def bark(self):\n",
    "        print(f\"{self.name} is barking\")\n",
    "    def __repr__(s):\n",
    "        return f\"{s.name} / {s.age} / {s.breed}\""
   ]
  },
  {
   "cell_type": "code",
   "execution_count": 224,
   "metadata": {},
   "outputs": [
    {
     "data": {
      "text/plain": [
       "'TOMMY'"
      ]
     },
     "execution_count": 224,
     "metadata": {},
     "output_type": "execute_result"
    }
   ],
   "source": [
    "tommy = Dog('Tommy', 'p', 10)\n",
    "tommy.name"
   ]
  },
  {
   "cell_type": "code",
   "execution_count": 225,
   "metadata": {},
   "outputs": [
    {
     "data": {
      "text/plain": [
       "'p'"
      ]
     },
     "execution_count": 225,
     "metadata": {},
     "output_type": "execute_result"
    }
   ],
   "source": [
    "tommy.breed"
   ]
  },
  {
   "cell_type": "code",
   "execution_count": 226,
   "metadata": {},
   "outputs": [
    {
     "data": {
      "text/plain": [
       "13"
      ]
     },
     "execution_count": 226,
     "metadata": {},
     "output_type": "execute_result"
    }
   ],
   "source": [
    "tommy.age"
   ]
  },
  {
   "cell_type": "code",
   "execution_count": 227,
   "metadata": {},
   "outputs": [
    {
     "data": {
      "text/plain": [
       "TOMMY / 13 / p"
      ]
     },
     "execution_count": 227,
     "metadata": {},
     "output_type": "execute_result"
    }
   ],
   "source": [
    "tommy"
   ]
  },
  {
   "cell_type": "code",
   "execution_count": 228,
   "metadata": {},
   "outputs": [
    {
     "data": {
      "text/plain": [
       "'TOMMY / 13 / p'"
      ]
     },
     "execution_count": 228,
     "metadata": {},
     "output_type": "execute_result"
    }
   ],
   "source": [
    "str(tommy)"
   ]
  },
  {
   "cell_type": "code",
   "execution_count": 222,
   "metadata": {},
   "outputs": [
    {
     "data": {
      "text/plain": [
       "['__class__',\n",
       " '__delattr__',\n",
       " '__dict__',\n",
       " '__dir__',\n",
       " '__doc__',\n",
       " '__eq__',\n",
       " '__format__',\n",
       " '__ge__',\n",
       " '__getattribute__',\n",
       " '__gt__',\n",
       " '__hash__',\n",
       " '__init__',\n",
       " '__init_subclass__',\n",
       " '__le__',\n",
       " '__lt__',\n",
       " '__module__',\n",
       " '__ne__',\n",
       " '__new__',\n",
       " '__reduce__',\n",
       " '__reduce_ex__',\n",
       " '__repr__',\n",
       " '__setattr__',\n",
       " '__sizeof__',\n",
       " '__str__',\n",
       " '__subclasshook__',\n",
       " '__weakref__',\n",
       " 'age',\n",
       " 'bark',\n",
       " 'breed',\n",
       " 'name']"
      ]
     },
     "execution_count": 222,
     "metadata": {},
     "output_type": "execute_result"
    }
   ],
   "source": [
    "dir(tommy)"
   ]
  },
  {
   "cell_type": "code",
   "execution_count": 253,
   "metadata": {},
   "outputs": [],
   "source": [
    "class Animal:\n",
    "    name = 'No name'\n",
    "    hunger = 10\n",
    "    def eat(self, food): #object level\n",
    "        self.hunger -= food\n",
    "        print(f\"{self.name} ate {food}. Now, hunger: {self.hunger}\")\n",
    "    def speak(self):\n",
    "        print(None)"
   ]
  },
  {
   "cell_type": "code",
   "execution_count": 256,
   "metadata": {},
   "outputs": [],
   "source": [
    "class Dog(Animal):\n",
    "    def __init__(self, name, breed, age):\n",
    "        self.name = name.upper()\n",
    "        self.breed = breed\n",
    "        self.age = age + 3\n",
    "    def bark(self):\n",
    "        print(f\"{self.name} is barking\")\n",
    "    def speak(self):\n",
    "        self.bark()\n",
    "    def __repr__(s):\n",
    "        return f\"{s.name} / {s.age} / {s.breed}\""
   ]
  },
  {
   "cell_type": "code",
   "execution_count": 257,
   "metadata": {},
   "outputs": [],
   "source": [
    "# Inheritance"
   ]
  },
  {
   "cell_type": "code",
   "execution_count": 258,
   "metadata": {},
   "outputs": [],
   "source": [
    "d = Dog('Tommy', 'B', 10)"
   ]
  },
  {
   "cell_type": "code",
   "execution_count": 259,
   "metadata": {},
   "outputs": [
    {
     "data": {
      "text/plain": [
       "'TOMMY'"
      ]
     },
     "execution_count": 259,
     "metadata": {},
     "output_type": "execute_result"
    }
   ],
   "source": [
    "d.name"
   ]
  },
  {
   "cell_type": "code",
   "execution_count": 260,
   "metadata": {},
   "outputs": [
    {
     "data": {
      "text/plain": [
       "10"
      ]
     },
     "execution_count": 260,
     "metadata": {},
     "output_type": "execute_result"
    }
   ],
   "source": [
    "d.hunger"
   ]
  },
  {
   "cell_type": "code",
   "execution_count": 261,
   "metadata": {},
   "outputs": [
    {
     "name": "stdout",
     "output_type": "stream",
     "text": [
      "TOMMY ate 5. Now, hunger: 5\n"
     ]
    }
   ],
   "source": [
    "d.eat(5)"
   ]
  },
  {
   "cell_type": "code",
   "execution_count": 262,
   "metadata": {},
   "outputs": [
    {
     "ename": "TypeError",
     "evalue": "speak() missing 1 required positional argument: 'self'",
     "output_type": "error",
     "traceback": [
      "\u001b[0;31m---------------------------------------------------------------------------\u001b[0m",
      "\u001b[0;31mTypeError\u001b[0m                                 Traceback (most recent call last)",
      "\u001b[0;32m<ipython-input-262-3553febd85a6>\u001b[0m in \u001b[0;36m<module>\u001b[0;34m\u001b[0m\n\u001b[0;32m----> 1\u001b[0;31m \u001b[0mDog\u001b[0m\u001b[0;34m.\u001b[0m\u001b[0mspeak\u001b[0m\u001b[0;34m(\u001b[0m\u001b[0;34m)\u001b[0m\u001b[0;34m\u001b[0m\u001b[0;34m\u001b[0m\u001b[0m\n\u001b[0m",
      "\u001b[0;31mTypeError\u001b[0m: speak() missing 1 required positional argument: 'self'"
     ]
    }
   ],
   "source": [
    "Dog.speak()"
   ]
  },
  {
   "cell_type": "code",
   "execution_count": 263,
   "metadata": {},
   "outputs": [],
   "source": [
    "class Cat(Animal):\n",
    "    def __init__(self, name, owner, age):\n",
    "        self.name = name.upper()\n",
    "        self.owner = owner\n",
    "        self.age = age + 1\n",
    "    def purr(self):\n",
    "        print(f\"{self.name} is purring\")\n",
    "    def speak(self):\n",
    "        self.purr()"
   ]
  },
  {
   "cell_type": "code",
   "execution_count": 264,
   "metadata": {},
   "outputs": [
    {
     "data": {
      "text/plain": [
       "<__main__.Cat at 0x7fa7eec31dd8>"
      ]
     },
     "execution_count": 264,
     "metadata": {},
     "output_type": "execute_result"
    }
   ],
   "source": [
    "c = Cat('tom', 'SG', 1)\n",
    "c"
   ]
  },
  {
   "cell_type": "code",
   "execution_count": 265,
   "metadata": {},
   "outputs": [
    {
     "data": {
      "text/plain": [
       "TOMMY / 13 / B"
      ]
     },
     "execution_count": 265,
     "metadata": {},
     "output_type": "execute_result"
    }
   ],
   "source": [
    "d "
   ]
  },
  {
   "cell_type": "code",
   "execution_count": 266,
   "metadata": {},
   "outputs": [
    {
     "name": "stdout",
     "output_type": "stream",
     "text": [
      "TOM ate 10. Now, hunger: 0\n",
      "TOM is purring\n",
      "TOMMY ate 10. Now, hunger: -5\n",
      "TOMMY is barking\n"
     ]
    }
   ],
   "source": [
    "animals = [c, d]\n",
    "for animal in animals:\n",
    "    animal.eat(10)\n",
    "    if isinstance(animal, Dog):\n",
    "        animal.bark()\n",
    "    else:\n",
    "        animal.purr()"
   ]
  },
  {
   "cell_type": "code",
   "execution_count": 267,
   "metadata": {},
   "outputs": [
    {
     "data": {
      "text/plain": [
       "(__main__.Cat, __main__.Dog)"
      ]
     },
     "execution_count": 267,
     "metadata": {},
     "output_type": "execute_result"
    }
   ],
   "source": [
    "type(c), type(d)"
   ]
  },
  {
   "cell_type": "code",
   "execution_count": 250,
   "metadata": {},
   "outputs": [
    {
     "data": {
      "text/plain": [
       "True"
      ]
     },
     "execution_count": 250,
     "metadata": {},
     "output_type": "execute_result"
    }
   ],
   "source": []
  },
  {
   "cell_type": "code",
   "execution_count": 268,
   "metadata": {},
   "outputs": [
    {
     "name": "stdout",
     "output_type": "stream",
     "text": [
      "TOM ate 10. Now, hunger: -10\n",
      "TOM is purring\n",
      "TOMMY ate 10. Now, hunger: -15\n",
      "TOMMY is barking\n"
     ]
    }
   ],
   "source": [
    "animals = [c, d]\n",
    "for animal in animals:\n",
    "    animal.eat(10)\n",
    "    animal.speak()"
   ]
  },
  {
   "cell_type": "code",
   "execution_count": 270,
   "metadata": {},
   "outputs": [
    {
     "name": "stdout",
     "output_type": "stream",
     "text": [
      "__main__\n"
     ]
    }
   ],
   "source": [
    "print(__name__)"
   ]
  },
  {
   "cell_type": "code",
   "execution_count": 273,
   "metadata": {},
   "outputs": [],
   "source": [
    "class Node:\n",
    "    def __init__(self, val):\n",
    "        self.data = val\n",
    "        self.L = None\n",
    "        self.R = None"
   ]
  },
  {
   "cell_type": "code",
   "execution_count": 274,
   "metadata": {},
   "outputs": [],
   "source": [
    "root = Node(10)"
   ]
  },
  {
   "cell_type": "code",
   "execution_count": 275,
   "metadata": {},
   "outputs": [
    {
     "data": {
      "text/plain": [
       "10"
      ]
     },
     "execution_count": 275,
     "metadata": {},
     "output_type": "execute_result"
    }
   ],
   "source": [
    "root.data"
   ]
  },
  {
   "cell_type": "code",
   "execution_count": 276,
   "metadata": {},
   "outputs": [],
   "source": [
    "_1 = Node(-1)\n",
    "_2 = Node(-30)"
   ]
  },
  {
   "cell_type": "code",
   "execution_count": 277,
   "metadata": {},
   "outputs": [],
   "source": [
    "root.L = _1\n",
    "root.R = _2"
   ]
  },
  {
   "cell_type": "code",
   "execution_count": 279,
   "metadata": {},
   "outputs": [
    {
     "data": {
      "text/plain": [
       "10"
      ]
     },
     "execution_count": 279,
     "metadata": {},
     "output_type": "execute_result"
    }
   ],
   "source": [
    "root.data"
   ]
  },
  {
   "cell_type": "code",
   "execution_count": 280,
   "metadata": {},
   "outputs": [
    {
     "data": {
      "text/plain": [
       "-1"
      ]
     },
     "execution_count": 280,
     "metadata": {},
     "output_type": "execute_result"
    }
   ],
   "source": [
    "root.L.data"
   ]
  },
  {
   "cell_type": "code",
   "execution_count": 281,
   "metadata": {},
   "outputs": [
    {
     "data": {
      "text/plain": [
       "-30"
      ]
     },
     "execution_count": 281,
     "metadata": {},
     "output_type": "execute_result"
    }
   ],
   "source": [
    "root.R.data"
   ]
  },
  {
   "cell_type": "code",
   "execution_count": 282,
   "metadata": {},
   "outputs": [],
   "source": [
    "_1.L = Node(15)\n",
    "_1.R = Node(20)"
   ]
  },
  {
   "cell_type": "code",
   "execution_count": 283,
   "metadata": {},
   "outputs": [
    {
     "data": {
      "text/plain": [
       "<__main__.Node at 0x7fa7eebc1668>"
      ]
     },
     "execution_count": 283,
     "metadata": {},
     "output_type": "execute_result"
    }
   ],
   "source": [
    "root"
   ]
  },
  {
   "cell_type": "code",
   "execution_count": 284,
   "metadata": {},
   "outputs": [
    {
     "data": {
      "text/plain": [
       "10"
      ]
     },
     "execution_count": 284,
     "metadata": {},
     "output_type": "execute_result"
    }
   ],
   "source": [
    "root.data"
   ]
  },
  {
   "cell_type": "code",
   "execution_count": 287,
   "metadata": {},
   "outputs": [
    {
     "data": {
      "text/plain": [
       "-1"
      ]
     },
     "execution_count": 287,
     "metadata": {},
     "output_type": "execute_result"
    }
   ],
   "source": [
    "root.L.data"
   ]
  },
  {
   "cell_type": "code",
   "execution_count": 288,
   "metadata": {},
   "outputs": [
    {
     "data": {
      "text/plain": [
       "15"
      ]
     },
     "execution_count": 288,
     "metadata": {},
     "output_type": "execute_result"
    }
   ],
   "source": [
    "root.L.L.data"
   ]
  },
  {
   "cell_type": "code",
   "execution_count": null,
   "metadata": {},
   "outputs": [],
   "source": [
    "root.L.R.data"
   ]
  },
  {
   "cell_type": "code",
   "execution_count": null,
   "metadata": {},
   "outputs": [],
   "source": [
    "root.printtree() "
   ]
  },
  {
   "cell_type": "code",
   "execution_count": 289,
   "metadata": {},
   "outputs": [],
   "source": [
    "class Node:\n",
    "    def __init__(self, val):\n",
    "        self.data = val\n",
    "        self.L = None\n",
    "        self.R = None\n",
    "    def printtree(self):\n",
    "        if self.L != None:\n",
    "            self.L.printtree()\n",
    "        print(self.data)\n",
    "        if self.R != None:\n",
    "            self.R.printtree()\n",
    "    def minval(self):\n",
    "        # TODO: \n",
    "    def maxval(self):\n",
    "        # TODO:"
   ]
  },
  {
   "cell_type": "code",
   "execution_count": 290,
   "metadata": {},
   "outputs": [],
   "source": [
    "root = Node(10)\n",
    "_1 = Node(-1)\n",
    "_1.L = Node(15)\n",
    "_1.R = Node(20)\n",
    "\n",
    "_2 = Node(-30)\n",
    "root.L = _1\n",
    "root.R = _2\n"
   ]
  },
  {
   "cell_type": "code",
   "execution_count": 291,
   "metadata": {},
   "outputs": [
    {
     "name": "stdout",
     "output_type": "stream",
     "text": [
      "15\n",
      "-1\n",
      "20\n",
      "10\n",
      "-30\n"
     ]
    }
   ],
   "source": [
    "root.printtree()"
   ]
  },
  {
   "cell_type": "code",
   "execution_count": null,
   "metadata": {},
   "outputs": [],
   "source": [
    "# A decision Tree is a tool to help you make decision"
   ]
  },
  {
   "cell_type": "code",
   "execution_count": null,
   "metadata": {},
   "outputs": [],
   "source": [
    "# Create a decision tree to select or reject a job offer.\n",
    "# A job offer has criterias: salary=456, distance=45, cofee=1, is nightshift\n",
    "# Every Node is either a decision Yes or No\n",
    "# Or the node boundary: \n",
    "    criteria - salary\n",
    "    value   - 1000\n",
    "# You go to left side of the node, if criteria <= value\n",
    "# You go to the fight of the node, if criteria > value\n",
    "\n",
    "dt = DecisionTreeNode()\n",
    "dt.boundary = \"salary\"\n",
    "dr.boundary_value = 1000\n",
    "dt.left = NO()\n",
    "minimal_job = DecisionTreeNode()\n",
    "dt.right = minimal_job\n",
    "minimal_job.boundary = 'distance'\n",
    "minimal_job.boundary_value = 40\n",
    "minimal_job.left = YES()\n",
    "minimal_job.right = NO()\n",
    "...\n",
    "...\n",
    "\n",
    "job_description = {\n",
    "    \"salary\": 1000,\n",
    "    \"distance\": 45,\n",
    "    \"coffe\": 1\n",
    "}\n",
    "job_dt.check(job_desciption)\n"
   ]
  }
 ],
 "metadata": {
  "kernelspec": {
   "display_name": "Python 3",
   "language": "python",
   "name": "python3"
  },
  "language_info": {
   "codemirror_mode": {
    "name": "ipython",
    "version": 3
   },
   "file_extension": ".py",
   "mimetype": "text/x-python",
   "name": "python",
   "nbconvert_exporter": "python",
   "pygments_lexer": "ipython3",
   "version": "3.6.8"
  },
  "toc": {
   "base_numbering": 1,
   "nav_menu": {},
   "number_sections": true,
   "sideBar": true,
   "skip_h1_title": false,
   "title_cell": "Table of Contents",
   "title_sidebar": "Contents",
   "toc_cell": false,
   "toc_position": {},
   "toc_section_display": true,
   "toc_window_display": false
  }
 },
 "nbformat": 4,
 "nbformat_minor": 2
}
