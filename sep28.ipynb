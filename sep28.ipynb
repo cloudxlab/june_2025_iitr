{
 "cells": [
  {
   "cell_type": "code",
   "execution_count": 1,
   "id": "1e0daf54",
   "metadata": {},
   "outputs": [],
   "source": [
    "# Class / Objects\n",
    "\n",
    "# Sorting Algorithms\n",
    "\n",
    "# Regular Expression"
   ]
  },
  {
   "cell_type": "code",
   "execution_count": 3,
   "id": "4b685a87",
   "metadata": {},
   "outputs": [
    {
     "data": {
      "text/plain": [
       "[-1, 1, 3, 3, 5, 10]"
      ]
     },
     "execution_count": 3,
     "metadata": {},
     "output_type": "execute_result"
    }
   ],
   "source": [
    "# Sorting Algorithms\n",
    "\n",
    "arr = [1, 3, -1, 5, 3, 10]\n",
    "arr.sort()\n",
    "arr"
   ]
  },
  {
   "cell_type": "code",
   "execution_count": null,
   "id": "f3275e20",
   "metadata": {},
   "outputs": [],
   "source": [
    "#[1, 3, -1, 5, 3, 10]\n",
    "\n",
    "# find minimim recursivelive\n"
   ]
  },
  {
   "cell_type": "code",
   "execution_count": null,
   "id": "f3ac4229",
   "metadata": {},
   "outputs": [],
   "source": [
    "[-1, 1, 3, 3, 5, 10]"
   ]
  },
  {
   "cell_type": "markdown",
   "id": "66b8b0fd",
   "metadata": {},
   "source": [
    "Assignment: Code your own version of sorting.\n",
    "\n",
    " Assignment: Look at the Binary Search Tree animation and code it.\n",
    "https://yongdanielliang.github.io/animation/web/BST.html\n",
    "\n",
    " Look at Merge Sort, code it\n",
    "https://visualgo.net/en/sorting?slide=1\n",
    "\n",
    " Look at quick sort , code it\n",
    "https://yongdanielliang.github.io/animation/web/QuickSortNew.html\n"
   ]
  },
  {
   "cell_type": "code",
   "execution_count": null,
   "id": "c15e05b3",
   "metadata": {},
   "outputs": [],
   "source": [
    "# def mysort(arr):\n",
    "#     for i in range(len(arr)):\n",
    "#         for j in range(i+1, len(arr)):\n",
    "#            if arr[j] < arr[i]:\n",
    "#                arr[i], arr[j] = arr[j], arr[i]"
   ]
  },
  {
   "cell_type": "code",
   "execution_count": 5,
   "id": "e4ad7f67",
   "metadata": {},
   "outputs": [
    {
     "name": "stdout",
     "output_type": "stream",
     "text": [
      "[-1, 1, 3, 3, 5, 10]\n"
     ]
    }
   ],
   "source": [
    "arr = [1, 3, -1, 5, 3, 10]\n",
    "mysort(arr)\n",
    "print(arr)"
   ]
  },
  {
   "cell_type": "code",
   "execution_count": null,
   "id": "afce786f",
   "metadata": {},
   "outputs": [],
   "source": [
    "# N-1 + N-2 + N- 3 + .... + 3 + 2 + 1 + 0\n",
    "# N * (N - 1) / 2\n",
    "\n",
    "# O(N**2)\n"
   ]
  },
  {
   "cell_type": "code",
   "execution_count": null,
   "id": "babc1833",
   "metadata": {},
   "outputs": [],
   "source": [
    "BST\n"
   ]
  }
 ],
 "metadata": {
  "kernelspec": {
   "display_name": ".venv",
   "language": "python",
   "name": "python3"
  },
  "language_info": {
   "codemirror_mode": {
    "name": "ipython",
    "version": 3
   },
   "file_extension": ".py",
   "mimetype": "text/x-python",
   "name": "python",
   "nbconvert_exporter": "python",
   "pygments_lexer": "ipython3",
   "version": "3.9.6"
  }
 },
 "nbformat": 4,
 "nbformat_minor": 5
}
