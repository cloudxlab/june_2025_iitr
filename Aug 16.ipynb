{
 "cells": [
  {
   "cell_type": "markdown",
   "metadata": {},
   "source": [
    "+ Python basic statements\n",
    "+ Conditions and If-else\n",
    "+ Functions\n",
    "+ Recursion\n",
    "+ Array - how to define and set a value?"
   ]
  },
  {
   "cell_type": "markdown",
   "metadata": {},
   "source": [
    "+ While\n",
    "+ Binary Search"
   ]
  },
  {
   "cell_type": "code",
   "execution_count": 3,
   "metadata": {},
   "outputs": [],
   "source": [
    "Q: SD"
   ]
  },
  {
   "cell_type": "code",
   "execution_count": 9,
   "metadata": {},
   "outputs": [],
   "source": [
    "def total_for(A):\n",
    "    sm = 0\n",
    "    for e in A:\n",
    "        sm += e\n",
    "    return sm"
   ]
  },
  {
   "cell_type": "code",
   "execution_count": 22,
   "metadata": {},
   "outputs": [],
   "source": [
    "def total_while(A):\n",
    "    sm = 0\n",
    "    i = 0\n",
    "    while i < len(A):\n",
    "        e = A[i]\n",
    "#         print(\"adding \", i, e, sm)\n",
    "        sm += e\n",
    "        i += 1\n",
    "    return sm"
   ]
  },
  {
   "cell_type": "code",
   "execution_count": 23,
   "metadata": {},
   "outputs": [
    {
     "data": {
      "text/plain": [
       "3"
      ]
     },
     "execution_count": 23,
     "metadata": {},
     "output_type": "execute_result"
    }
   ],
   "source": [
    "total_while([1,2])"
   ]
  },
  {
   "cell_type": "code",
   "execution_count": null,
   "metadata": {},
   "outputs": [],
   "source": [
    "def total_while(A):"
   ]
  },
  {
   "cell_type": "code",
   "execution_count": 8,
   "metadata": {},
   "outputs": [],
   "source": [
    "# arr = [1,2,3,4,]\n",
    "mean_func([1,2,3,4,])"
   ]
  },
  {
   "cell_type": "code",
   "execution_count": 56,
   "metadata": {},
   "outputs": [],
   "source": [
    "def mytotal(A, indent=''):\n",
    "    print(f\"{indent}mytotal({A})\")\n",
    "    ret = 0\n",
    "    if len(A) > 0:\n",
    "        ret = A[0] + mytotal(A[1:], indent + '   ')\n",
    "    print(f\"{indent}Returning: {ret} for total({A})\")\n",
    "    return ret"
   ]
  },
  {
   "cell_type": "code",
   "execution_count": 57,
   "metadata": {},
   "outputs": [
    {
     "name": "stdout",
     "output_type": "stream",
     "text": [
      "mytotal([])\n",
      "Returning: 0 for total([])\n"
     ]
    },
    {
     "data": {
      "text/plain": [
       "0"
      ]
     },
     "execution_count": 57,
     "metadata": {},
     "output_type": "execute_result"
    }
   ],
   "source": [
    "mytotal([])"
   ]
  },
  {
   "cell_type": "code",
   "execution_count": 58,
   "metadata": {},
   "outputs": [
    {
     "name": "stdout",
     "output_type": "stream",
     "text": [
      "mytotal([1])\n",
      "   mytotal([])\n",
      "   Returning: 0 for total([])\n",
      "Returning: 1 for total([1])\n"
     ]
    },
    {
     "data": {
      "text/plain": [
       "1"
      ]
     },
     "execution_count": 58,
     "metadata": {},
     "output_type": "execute_result"
    }
   ],
   "source": [
    "mytotal([1])"
   ]
  },
  {
   "cell_type": "code",
   "execution_count": 62,
   "metadata": {},
   "outputs": [
    {
     "name": "stdout",
     "output_type": "stream",
     "text": [
      "mytotal([1, 2, 3])\n",
      "   mytotal([2, 3])\n",
      "      mytotal([3])\n",
      "         mytotal([])\n",
      "         Returning: 0 for total([])\n",
      "      Returning: 3 for total([3])\n",
      "   Returning: 5 for total([2, 3])\n",
      "Returning: 6 for total([1, 2, 3])\n",
      "[2, 3, 7, 8, 8]\n"
     ]
    }
   ],
   "source": [
    "mytotal([1, 2, 3])\n",
    "print(A)"
   ]
  },
  {
   "cell_type": "code",
   "execution_count": 61,
   "metadata": {
    "scrolled": true
   },
   "outputs": [
    {
     "name": "stdout",
     "output_type": "stream",
     "text": [
      "[2, 3, 7, 8, 8]\n",
      "[3, 7, 8, 8]\n"
     ]
    }
   ],
   "source": [
    "A = [1,2,3, 7,8,8]\n",
    "A = A[1:]\n",
    "print(A)\n",
    "print(A[1:])"
   ]
  },
  {
   "cell_type": "code",
   "execution_count": null,
   "metadata": {},
   "outputs": [],
   "source": [
    "mymin([1]) -> 1\n",
    "mymin([1,2]) -> 1 -> smaller of 1 and mymin([2])\n",
    "mymin([-1,1,2]) -> 1 -> smaller of -1 and mymin([1,2])"
   ]
  },
  {
   "cell_type": "code",
   "execution_count": 71,
   "metadata": {},
   "outputs": [],
   "source": [
    "def mymin2(x, y):\n",
    "    if x < y:\n",
    "        return x\n",
    "    return y"
   ]
  },
  {
   "cell_type": "code",
   "execution_count": 73,
   "metadata": {},
   "outputs": [
    {
     "data": {
      "text/plain": [
       "-3"
      ]
     },
     "execution_count": 73,
     "metadata": {},
     "output_type": "execute_result"
    }
   ],
   "source": [
    "mymin2(-1, -3)"
   ]
  },
  {
   "cell_type": "code",
   "execution_count": 88,
   "metadata": {},
   "outputs": [],
   "source": [
    "def mymin(A):\n",
    "    print(\"Calling with \", A)\n",
    "    if len(A) == 1:\n",
    "        return A[0]\n",
    "    \n",
    "    A_1 = mymin(A[1:])\n",
    "    return mymin2(A[0], A_1)"
   ]
  },
  {
   "cell_type": "code",
   "execution_count": 89,
   "metadata": {},
   "outputs": [
    {
     "name": "stdout",
     "output_type": "stream",
     "text": [
      "Calling with  [1, 2, 3, 2]\n",
      "Calling with  [2, 3, 2]\n",
      "Calling with  [3, 2]\n",
      "Calling with  [2]\n"
     ]
    },
    {
     "data": {
      "text/plain": [
       "1"
      ]
     },
     "execution_count": 89,
     "metadata": {},
     "output_type": "execute_result"
    }
   ],
   "source": [
    "mymin([1,2,3,2])"
   ]
  },
  {
   "cell_type": "code",
   "execution_count": 75,
   "metadata": {},
   "outputs": [],
   "source": [
    "def mymax2(x, y):\n",
    "    if x > y:\n",
    "        return x\n",
    "    return y"
   ]
  },
  {
   "cell_type": "code",
   "execution_count": 76,
   "metadata": {},
   "outputs": [
    {
     "data": {
      "text/plain": [
       "5"
      ]
     },
     "execution_count": 76,
     "metadata": {},
     "output_type": "execute_result"
    }
   ],
   "source": [
    "mymax2(4,5)"
   ]
  },
  {
   "cell_type": "code",
   "execution_count": 77,
   "metadata": {},
   "outputs": [],
   "source": [
    "def mymax(A):\n",
    "    if len(A) == 1:\n",
    "        return A[0]\n",
    "    \n",
    "    A_1 = mymax(A[1:])\n",
    "    return mymax2(A[0], A_1)"
   ]
  },
  {
   "cell_type": "code",
   "execution_count": 78,
   "metadata": {},
   "outputs": [
    {
     "data": {
      "text/plain": [
       "7"
      ]
     },
     "execution_count": 78,
     "metadata": {},
     "output_type": "execute_result"
    }
   ],
   "source": [
    "mymax([4,5,6,7])"
   ]
  },
  {
   "cell_type": "code",
   "execution_count": 119,
   "metadata": {},
   "outputs": [],
   "source": [
    "def myreduce(A, f):\n",
    "    if len(A) == 1:\n",
    "        return A[0]\n",
    "    else:\n",
    "        A_1 = myreduce(A[1:], f)\n",
    "        return f(A[0], A_1)"
   ]
  },
  {
   "cell_type": "code",
   "execution_count": 86,
   "metadata": {},
   "outputs": [
    {
     "data": {
      "text/plain": [
       "3"
      ]
     },
     "execution_count": 86,
     "metadata": {},
     "output_type": "execute_result"
    }
   ],
   "source": [
    "myreduce([1,2,3], mymax2)"
   ]
  },
  {
   "cell_type": "code",
   "execution_count": 87,
   "metadata": {},
   "outputs": [
    {
     "data": {
      "text/plain": [
       "1"
      ]
     },
     "execution_count": 87,
     "metadata": {},
     "output_type": "execute_result"
    }
   ],
   "source": [
    "myreduce([1,2,3], mymin2)"
   ]
  },
  {
   "cell_type": "code",
   "execution_count": 91,
   "metadata": {},
   "outputs": [],
   "source": [
    "# Compute sum using myreduce?\n",
    "def add2(x, y):\n",
    "    return x + y"
   ]
  },
  {
   "cell_type": "code",
   "execution_count": 92,
   "metadata": {},
   "outputs": [
    {
     "data": {
      "text/plain": [
       "15"
      ]
     },
     "execution_count": 92,
     "metadata": {},
     "output_type": "execute_result"
    }
   ],
   "source": [
    "myreduce([1,2,3,4,5], add2)"
   ]
  },
  {
   "cell_type": "code",
   "execution_count": 93,
   "metadata": {},
   "outputs": [
    {
     "data": {
      "text/plain": [
       "40"
      ]
     },
     "execution_count": 93,
     "metadata": {},
     "output_type": "execute_result"
    }
   ],
   "source": [
    "myreduce([1,2,3,4,5,7,8,10], add2)"
   ]
  },
  {
   "cell_type": "code",
   "execution_count": 94,
   "metadata": {},
   "outputs": [],
   "source": [
    "# calculate multiplication?\n",
    "def pd2(x, y):\n",
    "    return x*y"
   ]
  },
  {
   "cell_type": "code",
   "execution_count": 95,
   "metadata": {},
   "outputs": [
    {
     "data": {
      "text/plain": [
       "6"
      ]
     },
     "execution_count": 95,
     "metadata": {},
     "output_type": "execute_result"
    }
   ],
   "source": [
    "myreduce([1,2,3], pd2)"
   ]
  },
  {
   "cell_type": "code",
   "execution_count": 96,
   "metadata": {},
   "outputs": [],
   "source": [
    "# calculate the distance in n dimensions\n",
    "def pyth(x, y):\n",
    "    return (x*x + y*y)**0.5"
   ]
  },
  {
   "cell_type": "code",
   "execution_count": 97,
   "metadata": {},
   "outputs": [
    {
     "data": {
      "text/plain": [
       "5.0"
      ]
     },
     "execution_count": 97,
     "metadata": {},
     "output_type": "execute_result"
    }
   ],
   "source": [
    "pyth(3, 4)"
   ]
  },
  {
   "cell_type": "code",
   "execution_count": 98,
   "metadata": {},
   "outputs": [
    {
     "data": {
      "text/plain": [
       "5.0"
      ]
     },
     "execution_count": 98,
     "metadata": {},
     "output_type": "execute_result"
    }
   ],
   "source": [
    "myreduce([3, 4], pyth)"
   ]
  },
  {
   "cell_type": "code",
   "execution_count": 102,
   "metadata": {},
   "outputs": [
    {
     "data": {
      "text/plain": [
       "11.224972160321824"
      ]
     },
     "execution_count": 102,
     "metadata": {},
     "output_type": "execute_result"
    }
   ],
   "source": [
    "myreduce([4, 5, 6, 7], pyth)"
   ]
  },
  {
   "cell_type": "code",
   "execution_count": 101,
   "metadata": {},
   "outputs": [
    {
     "data": {
      "text/plain": [
       "11.224972160321824"
      ]
     },
     "execution_count": 101,
     "metadata": {},
     "output_type": "execute_result"
    }
   ],
   "source": [
    "(4*4 + 5*5 + 6*6 + 7*7)**.5 # Norm"
   ]
  },
  {
   "cell_type": "code",
   "execution_count": 105,
   "metadata": {},
   "outputs": [],
   "source": [
    "def mean(x, y):\n",
    "    return (x + y)/2"
   ]
  },
  {
   "cell_type": "code",
   "execution_count": 106,
   "metadata": {},
   "outputs": [
    {
     "data": {
      "text/plain": [
       "4.875"
      ]
     },
     "execution_count": 106,
     "metadata": {},
     "output_type": "execute_result"
    }
   ],
   "source": [
    "myreduce([4, 5, 6, 7], mean)"
   ]
  },
  {
   "cell_type": "markdown",
   "metadata": {},
   "source": [
    "# Associative and commutative\n",
    "\n",
    "f(x, y) -> f(y, x)\n",
    "\n",
    "f(x, y, z) -> f(f(x, y) + f(z))\n",
    "\n",
    "\n",
    "x + y = y + x\n",
    "\n",
    "x + (y + z) = (x + y) + z\n"
   ]
  },
  {
   "cell_type": "code",
   "execution_count": 110,
   "metadata": {},
   "outputs": [
    {
     "data": {
      "text/plain": [
       "22"
      ]
     },
     "execution_count": 110,
     "metadata": {},
     "output_type": "execute_result"
    }
   ],
   "source": [
    "myreduce([4, 5, 6, 7], add2)"
   ]
  },
  {
   "cell_type": "code",
   "execution_count": 117,
   "metadata": {},
   "outputs": [
    {
     "data": {
      "text/plain": [
       "(22, 4)"
      ]
     },
     "execution_count": 117,
     "metadata": {},
     "output_type": "execute_result"
    }
   ],
   "source": [
    "A = [(4,1), (5,1), (6,1), (7, 1)]\n",
    "# find sum and count in a single pass using reduce\n",
    "\n",
    "# [(1,1), (2, 1)] -> (3, 2)\n",
    "# [(4,1), (5, 1), (6, 1)] -> 15, 3\n",
    "\n",
    "def add_sm(f, s):\n",
    "    sm = f[0] + s[0]\n",
    "    total = f[1] + s[1]\n",
    "    return sm, total\n",
    "myreduce(A, add_sm)"
   ]
  },
  {
   "cell_type": "code",
   "execution_count": 115,
   "metadata": {},
   "outputs": [
    {
     "data": {
      "text/plain": [
       "[1, 2]"
      ]
     },
     "execution_count": 115,
     "metadata": {},
     "output_type": "execute_result"
    }
   ],
   "source": [
    "A = [1,2,3]\n",
    "A[:-1]"
   ]
  },
  {
   "cell_type": "code",
   "execution_count": 118,
   "metadata": {},
   "outputs": [],
   "source": [
    "def myreduce_end(A, f):\n",
    "    if len(A) == 1:\n",
    "        return A[-1]\n",
    "    else:\n",
    "        A_1 = myreduce(A[:-1], f)\n",
    "        return f(A[-1], A_1)"
   ]
  },
  {
   "cell_type": "code",
   "execution_count": 122,
   "metadata": {},
   "outputs": [
    {
     "data": {
      "text/plain": [
       "(22, 4)"
      ]
     },
     "execution_count": 122,
     "metadata": {},
     "output_type": "execute_result"
    }
   ],
   "source": [
    "from functools import reduce\n",
    "reduce(add_sm, A)"
   ]
  },
  {
   "cell_type": "code",
   "execution_count": null,
   "metadata": {},
   "outputs": [],
   "source": [
    "# Apache spark - reduce\n",
    "# Nvidia / GPU process - reduce\n"
   ]
  },
  {
   "cell_type": "code",
   "execution_count": 123,
   "metadata": {},
   "outputs": [],
   "source": [
    "# reduce > for > while\n",
    "# Safety wise, reduce is best\n",
    "# Versatiliy wise while is best"
   ]
  },
  {
   "cell_type": "code",
   "execution_count": 129,
   "metadata": {},
   "outputs": [],
   "source": [
    "def mymap(A, f):\n",
    "    new_arr = []\n",
    "    for e in A:\n",
    "        new_el = f(e)\n",
    "        new_arr.append(new_el)\n",
    "    return new_arr"
   ]
  },
  {
   "cell_type": "code",
   "execution_count": 130,
   "metadata": {},
   "outputs": [
    {
     "data": {
      "text/plain": [
       "[2, 4, 6, 8]"
      ]
     },
     "execution_count": 130,
     "metadata": {},
     "output_type": "execute_result"
    }
   ],
   "source": [
    "A = [1,2,3,4]\n",
    "# double all elements\n",
    "def dbl(x):\n",
    "    return x*2\n",
    "mymap(A, dbl)"
   ]
  },
  {
   "cell_type": "code",
   "execution_count": 132,
   "metadata": {},
   "outputs": [
    {
     "data": {
      "text/plain": [
       "[1, 4, 9, 16]"
      ]
     },
     "execution_count": 132,
     "metadata": {},
     "output_type": "execute_result"
    }
   ],
   "source": [
    "# double all elements\n",
    "def sq(x):\n",
    "    return x*x\n",
    "mymap(A, sq)"
   ]
  },
  {
   "cell_type": "code",
   "execution_count": 136,
   "metadata": {},
   "outputs": [
    {
     "name": "stdout",
     "output_type": "stream",
     "text": [
      "After map:  [(1, 1), (2, 1), (3, 1), (4, 1)]\n",
      "Sum: 10, Count: 4\n",
      "Mean:  2.5\n"
     ]
    }
   ],
   "source": [
    "A = [1,2,3, 4] #-> [(1,1), (2, 3), 3, 4]\n",
    "\n",
    "def to_tuple(x):\n",
    "    return (x , 1)\n",
    "A = mymap(A, to_tuple)\n",
    "print(\"After map: \", A)\n",
    "\n",
    "def add_sm(f, s):\n",
    "    sm = f[0] + s[0]\n",
    "    total = f[1] + s[1]\n",
    "    return sm, total\n",
    "sm, count = myreduce(A, add_sm)\n",
    "\n",
    "print(f\"Sum: {sm}, Count: {count}\")\n",
    "print(\"Mean: \", sm/count)\n"
   ]
  },
  {
   "cell_type": "code",
   "execution_count": 146,
   "metadata": {},
   "outputs": [
    {
     "name": "stdout",
     "output_type": "stream",
     "text": [
      "After map:  <map object at 0x7fa57090f278>\n",
      "Sum: 10, Count: 4\n",
      "Mean:  2.5\n"
     ]
    }
   ],
   "source": [
    "A = [1,2,3, 4]\n",
    "\n",
    "def to_tuple(x):\n",
    "    return (x , 1)\n",
    "A = map(to_tuple, A)\n",
    "print(\"After map: \", A)\n",
    "\n",
    "def add_sm(f, s):\n",
    "    sm = f[0] + s[0]\n",
    "    total = f[1] + s[1]\n",
    "    return sm, total\n",
    "\n",
    "sm, count = reduce(add_sm, A)\n",
    "\n",
    "print(f\"Sum: {sm}, Count: {count}\")\n",
    "print(\"Mean: \", sm/count)\n"
   ]
  },
  {
   "cell_type": "code",
   "execution_count": 147,
   "metadata": {},
   "outputs": [
    {
     "data": {
      "text/plain": [
       "3.125"
      ]
     },
     "execution_count": 147,
     "metadata": {},
     "output_type": "execute_result"
    }
   ],
   "source": [
    "A = [1,2,3, 4]\n",
    "def add2(x, y):\n",
    "    return (x+y)/2\n",
    "reduce(add2, A)"
   ]
  },
  {
   "cell_type": "markdown",
   "metadata": {},
   "source": [
    "# Dot product\n",
    "X = [1,2]\n",
    "Y = [5, 6]\n",
    "dot(X, Y) = 1*5+2*6\n",
    "\n",
    "X = [1,2, 3]\n",
    "Y = [5, 6, 5]\n",
    "dot(X, Y) = 1*5+2*6 + 3*5\n",
    "\n"
   ]
  },
  {
   "cell_type": "code",
   "execution_count": 151,
   "metadata": {},
   "outputs": [],
   "source": [
    "\n",
    "def mydot(X, Y):\n",
    "    if len(X) == 0:\n",
    "        return 0\n",
    "    ret = mydot(X[1:], Y[1:])\n",
    "    return X[0]*Y[0] + ret\n"
   ]
  },
  {
   "cell_type": "code",
   "execution_count": 152,
   "metadata": {},
   "outputs": [
    {
     "data": {
      "text/plain": [
       "17"
      ]
     },
     "execution_count": 152,
     "metadata": {},
     "output_type": "execute_result"
    }
   ],
   "source": [
    "X = [1,2]\n",
    "Y = [5, 6]\n",
    "mydot(X, Y)"
   ]
  },
  {
   "cell_type": "code",
   "execution_count": 157,
   "metadata": {},
   "outputs": [],
   "source": [
    "# for loop\n",
    "\n",
    "def mydot_for(X, Y):\n",
    "    tot = 0\n",
    "    for i, x in enumerate(X):\n",
    "        y = Y[i]\n",
    "        tot += x*y\n",
    "    return tot"
   ]
  },
  {
   "cell_type": "code",
   "execution_count": 158,
   "metadata": {},
   "outputs": [
    {
     "data": {
      "text/plain": [
       "17"
      ]
     },
     "execution_count": 158,
     "metadata": {},
     "output_type": "execute_result"
    }
   ],
   "source": [
    "X = [1,2]\n",
    "Y = [5, 6]\n",
    "mydot_for(X, Y)"
   ]
  },
  {
   "cell_type": "code",
   "execution_count": 159,
   "metadata": {},
   "outputs": [
    {
     "name": "stdout",
     "output_type": "stream",
     "text": [
      "0 4\n",
      "1 5\n",
      "2 6\n"
     ]
    }
   ],
   "source": [
    "A = [4,5,6]\n",
    "for i, c in enumerate(A):\n",
    "    print(i, c)"
   ]
  },
  {
   "cell_type": "code",
   "execution_count": 160,
   "metadata": {},
   "outputs": [
    {
     "name": "stdout",
     "output_type": "stream",
     "text": [
      "0 Sandeep\n",
      "1 GK\n",
      "2 nigam\n",
      "3 Ashutosh\n"
     ]
    }
   ],
   "source": [
    "A = [\"Sandeep\", \"GK\", \"nigam\", \"Ashutosh\"]\n",
    "for i, c in enumerate(A):\n",
    "    print(i, c)"
   ]
  },
  {
   "cell_type": "code",
   "execution_count": 161,
   "metadata": {},
   "outputs": [],
   "source": [
    "# while loop\n",
    "\n",
    "def mydot_while(X, Y):\n",
    "    i = 0\n",
    "    tot = 0\n",
    "    while i < len(X):\n",
    "        tot = tot + X[i] * Y[i]\n",
    "        i += 1\n",
    "    return tot"
   ]
  },
  {
   "cell_type": "code",
   "execution_count": 162,
   "metadata": {},
   "outputs": [
    {
     "data": {
      "text/plain": [
       "17"
      ]
     },
     "execution_count": 162,
     "metadata": {},
     "output_type": "execute_result"
    }
   ],
   "source": [
    "X = [1,2]\n",
    "Y = [5, 6]\n",
    "mydot_while(X, Y)"
   ]
  },
  {
   "cell_type": "code",
   "execution_count": 166,
   "metadata": {},
   "outputs": [],
   "source": [
    "XY = list(zip(X, Y))"
   ]
  },
  {
   "cell_type": "code",
   "execution_count": 167,
   "metadata": {},
   "outputs": [
    {
     "data": {
      "text/plain": [
       "[(1, 5), (2, 6)]"
      ]
     },
     "execution_count": 167,
     "metadata": {},
     "output_type": "execute_result"
    }
   ],
   "source": [
    "XY"
   ]
  },
  {
   "cell_type": "code",
   "execution_count": 179,
   "metadata": {},
   "outputs": [
    {
     "data": {
      "text/plain": [
       "12"
      ]
     },
     "execution_count": 179,
     "metadata": {},
     "output_type": "execute_result"
    }
   ],
   "source": [
    "XY = [(1, 5), (2, 6)] # 1*5 + 2*6\n",
    "\n",
    "# use reduce to compute dot produce\n",
    "def dot2(dp, e2):\n",
    "    return dp + e2[0]*e2[1]\n",
    "e1, e2 = XY\n",
    "dot2(0, e2)"
   ]
  },
  {
   "cell_type": "code",
   "execution_count": 189,
   "metadata": {},
   "outputs": [
    {
     "name": "stdout",
     "output_type": "stream",
     "text": [
      "[(1, 5), (2, 6), (3, 5)]\n"
     ]
    }
   ],
   "source": [
    "X = [1,2, 3]\n",
    "Y = [5, 6, 5]\n",
    "XY = list(zip(X, Y))\n",
    "print(XY)"
   ]
  },
  {
   "cell_type": "code",
   "execution_count": 199,
   "metadata": {},
   "outputs": [
    {
     "data": {
      "text/plain": [
       "32"
      ]
     },
     "execution_count": 199,
     "metadata": {},
     "output_type": "execute_result"
    }
   ],
   "source": [
    "def pd(tup): # (1,2) -> 1*2\n",
    "    return tup[0]*tup[1]\n",
    "\n",
    "def sm(x, y): # 1, 2 -> 3\n",
    "    return x+y\n",
    "\n",
    "mult = map(pd, XY) # [(1,5), (2, 6), (3, 5)] -> [5, 12, 15]\n",
    "reduce(sm, mult)"
   ]
  },
  {
   "cell_type": "code",
   "execution_count": 196,
   "metadata": {},
   "outputs": [
    {
     "data": {
      "text/plain": [
       "[2, 4, 6, 8]"
      ]
     },
     "execution_count": 196,
     "metadata": {},
     "output_type": "execute_result"
    }
   ],
   "source": [
    "list(map(lambda x: x*2, [1,2,3,4]))"
   ]
  },
  {
   "cell_type": "code",
   "execution_count": 200,
   "metadata": {},
   "outputs": [],
   "source": [
    "# Code myzip\n",
    "\n",
    "# myzip([1,2, ...], [5, 6, ...])\n",
    "#[(1, 5), (2, 6), ...]\n",
    "\n",
    "def myzip(X, Y): \n",
    "    XY = []\n",
    "    for i in range(len(X)):\n",
    "        new_e = (X[i], Y[i])\n",
    "        XY.append(new_e)\n",
    "    return XY"
   ]
  },
  {
   "cell_type": "code",
   "execution_count": 202,
   "metadata": {},
   "outputs": [
    {
     "data": {
      "text/plain": [
       "[(1, 'Sandeep'), (2, 'GK'), (3, 'A')]"
      ]
     },
     "execution_count": 202,
     "metadata": {},
     "output_type": "execute_result"
    }
   ],
   "source": [
    "myzip([1,2,3], [\"Sandeep\", \"GK\", \"A\"])"
   ]
  },
  {
   "cell_type": "code",
   "execution_count": null,
   "metadata": {},
   "outputs": [],
   "source": []
  }
 ],
 "metadata": {
  "kernelspec": {
   "display_name": "Python 3",
   "language": "python",
   "name": "python3"
  },
  "language_info": {
   "codemirror_mode": {
    "name": "ipython",
    "version": 3
   },
   "file_extension": ".py",
   "mimetype": "text/x-python",
   "name": "python",
   "nbconvert_exporter": "python",
   "pygments_lexer": "ipython3",
   "version": "3.6.8"
  },
  "toc": {
   "base_numbering": 1,
   "nav_menu": {},
   "number_sections": true,
   "sideBar": true,
   "skip_h1_title": false,
   "title_cell": "Table of Contents",
   "title_sidebar": "Contents",
   "toc_cell": false,
   "toc_position": {},
   "toc_section_display": true,
   "toc_window_display": false
  }
 },
 "nbformat": 4,
 "nbformat_minor": 2
}
