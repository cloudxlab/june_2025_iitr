{
 "cells": [
  {
   "cell_type": "markdown",
   "id": "9eed954d",
   "metadata": {},
   "source": [
    "https://pandas.pydata.org/docs/getting_started/intro_tutorials/02_read_write.html#min-tut-02-read-write\n"
   ]
  },
  {
   "cell_type": "markdown",
   "id": "3fb77613",
   "metadata": {},
   "source": [
    "Machine Learning:\n",
    "\n",
    "https://scikit-learn.org/stable/\n"
   ]
  },
  {
   "cell_type": "markdown",
   "id": "3230a779",
   "metadata": {},
   "source": [
    "https://numpy.org/"
   ]
  },
  {
   "cell_type": "markdown",
   "id": "49e191be",
   "metadata": {},
   "source": [
    "https://joblib.readthedocs.io/en/stable/"
   ]
  },
  {
   "cell_type": "markdown",
   "id": "8a05d70e",
   "metadata": {},
   "source": [
    "Deep Learning:\n",
    "\n",
    "https://www.tensorflow.org/ or https://pytorch.org/get-started/locally/"
   ]
  },
  {
   "cell_type": "code",
   "execution_count": null,
   "id": "5c4f1dfe",
   "metadata": {},
   "outputs": [],
   "source": []
  },
  {
   "cell_type": "code",
   "execution_count": null,
   "id": "938094a5",
   "metadata": {},
   "outputs": [
    {
     "data": {
      "text/plain": [
       "'291872_12_'"
      ]
     },
     "execution_count": 4,
     "metadata": {},
     "output_type": "execute_result"
    }
   ],
   "source": [
    "\n",
    "colname = \"dlsjd*1213\"\n",
    "def clean_col(colname):\n",
    "    new_col = []\n",
    "    is_prev_spl = False\n",
    "    for c in colname:\n",
    "        if c.isalnum() or c == '_':\n",
    "            new_col.append(c)\n",
    "            is_prev_spl = False\n",
    "        else:\n",
    "            if not is_prev_spl:\n",
    "                new_col.append('_')\n",
    "                is_prev_spl = True\n",
    "    return \"\".join(new_col)\n",
    "clean_col(\"291872**12...\")"
   ]
  },
  {
   "cell_type": "code",
   "execution_count": null,
   "id": "ab703d35",
   "metadata": {},
   "outputs": [
    {
     "data": {
      "text/plain": [
       "'291872_12_'"
      ]
     },
     "execution_count": 3,
     "metadata": {},
     "output_type": "execute_result"
    }
   ],
   "source": [
    "import re\n",
    "\n",
    "\n",
    "re.sub('[^a-zA-Z0-9]+', \"_\", \"291872**12...\")"
   ]
  },
  {
   "cell_type": "markdown",
   "id": "13069ff5",
   "metadata": {},
   "source": [
    "\n",
    "[abc] -> any single character in the list\n",
    "\n",
    ". -> any character\n",
    "\n",
    "df[^abc] -> df followed by everything other than a or b c.\n",
    "\n",
    "df[\\[] -> to comment out the meaning of special charcs we use \\\n",
    "another example of comment: [ \\t\\-] , [\\\\]\n",
    "\n",
    "\\t -> tab\n",
    "\\n -> new line\n",
    "\\\\ -> \\\n",
    "\\- -> -\n",
    "\\w -> [A-Za-z0-9] - alpha number\n",
    "\\W -> not alpha num\n",
    "\n",
    "[a-z] -> character ranges\n",
    "[^a-z] -> not\n",
    "\n",
    "alphanum non-alphanum alphanum\n",
    "^ -> begining of line\n",
    "$ -> end of the line\n",
    "\n",
    "+ -> 1 or more of preceding character\n",
    "* -> 0 or more\n",
    "() -> for capturing\n",
    "{4} -> match 4 times\n",
    "[0-9]{2,4} -> match 2 to 4 digits\n",
    "\n",
    " [0-9]+[ \\t-]*[0-9]+[ \\t-]*[0-9]+[ \\t-]*[0-9]+[ \\t-]*\n",
    "\n",
    "\n",
    "(([a-z]+)[^a-z]+([a-z]+))\n",
    "$3.$2@myco.com\\t$1\n",
    "\n",
    "\n",
    "\n",
    "^([0-9]{4}[ \\- \\t]*){3}[0-9]{4}\n"
   ]
  },
  {
   "cell_type": "code",
   "execution_count": 10,
   "id": "6880ed3e",
   "metadata": {},
   "outputs": [
    {
     "name": "stdout",
     "output_type": "stream",
     "text": [
      "sandeep giri\n",
      "abhishek singh\n",
      "\n"
     ]
    }
   ],
   "source": [
    "import re\n",
    "\n",
    "text = '''sandeep giri\n",
    "abhishek singh\n",
    "'''\n",
    "print(text)\n",
    "\n",
    "result = re.findall('([a-z]+)[ ]([a-z]+)', text)"
   ]
  },
  {
   "cell_type": "code",
   "execution_count": 20,
   "id": "a4f7f7a0",
   "metadata": {},
   "outputs": [
    {
     "data": {
      "text/plain": [
       "<re.Match object; span=(0, 12), match='sandeep giri'>"
      ]
     },
     "execution_count": 20,
     "metadata": {},
     "output_type": "execute_result"
    }
   ],
   "source": [
    "result = re.search('([a-z]+)[ ]([a-z]+)', text)\n",
    "result"
   ]
  },
  {
   "cell_type": "code",
   "execution_count": 21,
   "id": "2050ecc4",
   "metadata": {},
   "outputs": [
    {
     "data": {
      "text/plain": [
       "<re.Match object; span=(0, 12), match='sandeep giri'>"
      ]
     },
     "execution_count": 21,
     "metadata": {},
     "output_type": "execute_result"
    }
   ],
   "source": [
    "re.match('([a-z]+)[ ]([a-z]+)', text)"
   ]
  },
  {
   "cell_type": "code",
   "execution_count": 12,
   "id": "7b88d6ed",
   "metadata": {},
   "outputs": [
    {
     "data": {
      "text/plain": [
       "('sandeep', 'giri')"
      ]
     },
     "execution_count": 12,
     "metadata": {},
     "output_type": "execute_result"
    }
   ],
   "source": [
    "result[0]\n"
   ]
  },
  {
   "cell_type": "code",
   "execution_count": 13,
   "id": "6d280281",
   "metadata": {},
   "outputs": [
    {
     "data": {
      "text/plain": [
       "('abhishek', 'singh')"
      ]
     },
     "execution_count": 13,
     "metadata": {},
     "output_type": "execute_result"
    }
   ],
   "source": [
    "result[1]"
   ]
  },
  {
   "cell_type": "markdown",
   "id": "63f5659f",
   "metadata": {},
   "source": [
    "<!-- Given a string of text replace all characters which are not alpha numerics and _ with _.  -->\n",
    "\n",
    "\n"
   ]
  },
  {
   "cell_type": "code",
   "execution_count": 16,
   "id": "a6403e89",
   "metadata": {},
   "outputs": [
    {
     "data": {
      "text/plain": [
       "'_dkshjkfhds_ABCDD'"
      ]
     },
     "execution_count": 16,
     "metadata": {},
     "output_type": "execute_result"
    }
   ],
   "source": [
    "re.sub('[^a-zA-Z]+','_', '098dkshjkfhds1928719271920ABCDD')"
   ]
  },
  {
   "cell_type": "code",
   "execution_count": 17,
   "id": "5d82a22a",
   "metadata": {},
   "outputs": [
    {
     "name": "stdout",
     "output_type": "stream",
     "text": [
      "Help on function sub in module re:\n",
      "\n",
      "sub(pattern, repl, string, count=0, flags=0)\n",
      "    Return the string obtained by replacing the leftmost\n",
      "    non-overlapping occurrences of the pattern in string by the\n",
      "    replacement repl.  repl can be either a string or a callable;\n",
      "    if a string, backslash escapes in it are processed.  If it is\n",
      "    a callable, it's passed the Match object and must return\n",
      "    a replacement string to be used.\n",
      "\n"
     ]
    }
   ],
   "source": [
    "help(re.sub)"
   ]
  },
  {
   "cell_type": "code",
   "execution_count": 18,
   "id": "9b27a4b4",
   "metadata": {},
   "outputs": [
    {
     "name": "stdout",
     "output_type": "stream",
     "text": [
      "Help on function search in module re:\n",
      "\n",
      "search(pattern, string, flags=0)\n",
      "    Scan through string looking for a match to the pattern, returning\n",
      "    a Match object, or None if no match was found.\n",
      "\n"
     ]
    }
   ],
   "source": [
    "help(re.search)"
   ]
  },
  {
   "cell_type": "code",
   "execution_count": 22,
   "id": "637e5733",
   "metadata": {},
   "outputs": [
    {
     "name": "stdout",
     "output_type": "stream",
     "text": [
      "Help on function match in module re:\n",
      "\n",
      "match(pattern, string, flags=0)\n",
      "    Try to apply the pattern at the start of the string, returning\n",
      "    a Match object, or None if no match was found.\n",
      "\n"
     ]
    }
   ],
   "source": [
    "help(re.match)"
   ]
  },
  {
   "cell_type": "code",
   "execution_count": 24,
   "id": "013e161e",
   "metadata": {},
   "outputs": [
    {
     "data": {
      "text/plain": [
       "['sandeep', 'giri']"
      ]
     },
     "execution_count": 24,
     "metadata": {},
     "output_type": "execute_result"
    }
   ],
   "source": [
    "re.split(\"[ \\t\\-]+\", 'sandeep giri')"
   ]
  },
  {
   "cell_type": "code",
   "execution_count": null,
   "id": "8a208b68",
   "metadata": {},
   "outputs": [],
   "source": []
  }
 ],
 "metadata": {
  "kernelspec": {
   "display_name": ".venv",
   "language": "python",
   "name": "python3"
  },
  "language_info": {
   "codemirror_mode": {
    "name": "ipython",
    "version": 3
   },
   "file_extension": ".py",
   "mimetype": "text/x-python",
   "name": "python",
   "nbconvert_exporter": "python",
   "pygments_lexer": "ipython3",
   "version": "3.9.6"
  }
 },
 "nbformat": 4,
 "nbformat_minor": 5
}
