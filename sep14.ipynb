{
 "cells": [
  {
   "cell_type": "code",
   "execution_count": null,
   "metadata": {},
   "outputs": [],
   "source": [
    "s1 = 'abcde'\n",
    "s2 = ''\n",
    "s3 = ''\n",
    "s4 = ''\n",
    "s = []\n",
    "for letter1 in s1:\n",
    "    s2 = s1.replace(letter1, '')\n",
    "    #print(s2)\n",
    "    for letter2 in s2:\n",
    "        #print(s2)\n",
    "        s3 = s2.replace(letter2, '')\n",
    "        for letter3 in s3:\n",
    "            #print(s3)\n",
    "            s4 = s3.replace(letter3, '')\n",
    "            for letter4 in s4:\n",
    "                #print(s3)\n",
    "                s5 = s4.replace(letter3, '')\n",
    "                print(letter1 + letter2 + letter3 + letter4 + letter5)"
   ]
  },
  {
   "cell_type": "code",
   "execution_count": 62,
   "metadata": {},
   "outputs": [
    {
     "name": "stdout",
     "output_type": "stream",
     "text": [
      "Total Tasks:  [(['a', 'b'], 'de'), (['a', 'b', 'e'], 'hhh')]\n",
      "(['a', 'b', 'e'], 'hhh')\n",
      "['a', 'b', 'e']\n",
      "hhh\n",
      "new tasks [(['a', 'b'], 'de')]\n"
     ]
    }
   ],
   "source": [
    "tasks = [\n",
    "    (['a','b'], 'de'), \n",
    "    (['a','b','e'], 'hhh')\n",
    "]\n",
    "print(\"Total Tasks: \", tasks)\n",
    "current = tasks.pop()\n",
    "print(current)\n",
    "letters, s1 = current\n",
    "print(letters)\n",
    "print(s1)\n",
    "print(\"new tasks\", tasks)"
   ]
  },
  {
   "cell_type": "code",
   "execution_count": 56,
   "metadata": {},
   "outputs": [],
   "source": [
    "# Breath First Search\n",
    "def pploop(s):\n",
    "    tasks = [([], s)] # database\n",
    "    while len(tasks) > 0:\n",
    "        print('current tasks: ', tasks)\n",
    "        letters, s1 = tasks.pop()\n",
    "        if len(s1) == 0:\n",
    "            print(\"P:\", letters)\n",
    "        for letter1 in s1:\n",
    "            s2 = s1.replace(letter1, '')\n",
    "            letters1 = letters.copy()\n",
    "            letters1.append(letter1)\n",
    "            new_task = letters1, s2\n",
    "            tasks.append(new_task)"
   ]
  },
  {
   "cell_type": "code",
   "execution_count": 51,
   "metadata": {},
   "outputs": [
    {
     "name": "stdout",
     "output_type": "stream",
     "text": [
      "current tasks:  [([], 'abc')]\n",
      "current tasks:  [(['a'], 'bc'), (['b'], 'ac'), (['c'], 'ab')]\n",
      "current tasks:  [(['a'], 'bc'), (['b'], 'ac'), (['c', 'a'], 'b'), (['c', 'b'], 'a')]\n",
      "current tasks:  [(['a'], 'bc'), (['b'], 'ac'), (['c', 'a'], 'b'), (['c', 'b', 'a'], '')]\n",
      "P: ['c', 'b', 'a']\n",
      "current tasks:  [(['a'], 'bc'), (['b'], 'ac'), (['c', 'a'], 'b')]\n",
      "current tasks:  [(['a'], 'bc'), (['b'], 'ac'), (['c', 'a', 'b'], '')]\n",
      "P: ['c', 'a', 'b']\n",
      "current tasks:  [(['a'], 'bc'), (['b'], 'ac')]\n",
      "current tasks:  [(['a'], 'bc'), (['b', 'a'], 'c'), (['b', 'c'], 'a')]\n",
      "current tasks:  [(['a'], 'bc'), (['b', 'a'], 'c'), (['b', 'c', 'a'], '')]\n",
      "P: ['b', 'c', 'a']\n",
      "current tasks:  [(['a'], 'bc'), (['b', 'a'], 'c')]\n",
      "current tasks:  [(['a'], 'bc'), (['b', 'a', 'c'], '')]\n",
      "P: ['b', 'a', 'c']\n",
      "current tasks:  [(['a'], 'bc')]\n",
      "current tasks:  [(['a', 'b'], 'c'), (['a', 'c'], 'b')]\n",
      "current tasks:  [(['a', 'b'], 'c'), (['a', 'c', 'b'], '')]\n",
      "P: ['a', 'c', 'b']\n",
      "current tasks:  [(['a', 'b'], 'c')]\n",
      "current tasks:  [(['a', 'b', 'c'], '')]\n",
      "P: ['a', 'b', 'c']\n"
     ]
    }
   ],
   "source": [
    "pploop('abc')"
   ]
  },
  {
   "cell_type": "code",
   "execution_count": null,
   "metadata": {},
   "outputs": [],
   "source": [
    "letters = []\n",
    "letters.append('a')\n",
    "print(letters)\n",
    "letters.append('b')\n",
    "print(letters)\n",
    "letters.pop()\n",
    "print(letters)\n",
    "letters.append('c')\n",
    "print(letters)"
   ]
  },
  {
   "cell_type": "code",
   "execution_count": null,
   "metadata": {},
   "outputs": [],
   "source": [
    "s = \"abcd\"\n",
    "\n",
    "def print_perms(s):\n",
    "    result = []\n",
    "    _print_perms([], s, result)\n",
    "    return result\n",
    "    \n",
    "def _print_perms(letters, s, result):\n",
    "    print(f\"----- _print_perms ({letters}, {s})\", )\n",
    "    if len(s) == 0:\n",
    "        r = ''.join(letters)\n",
    "        result.append(r)\n",
    "        print(\"P:\" + r)\n",
    "        return\n",
    "    for letter in s:\n",
    "        s1 = s.replace(letter, '')\n",
    "        print(f'letter:{letter}, s1:{s1}, s:{s}')\n",
    "        letters.append(letter)\n",
    "        _print_perms(letters, s1, result)\n",
    "        letters.pop()"
   ]
  },
  {
   "cell_type": "code",
   "execution_count": null,
   "metadata": {},
   "outputs": [],
   "source": [
    "s = 'ab'\n",
    "s1 = s.replace('a', '')\n",
    "print(f's:{s}, s1:{s1}')"
   ]
  },
  {
   "cell_type": "code",
   "execution_count": null,
   "metadata": {
    "scrolled": true
   },
   "outputs": [],
   "source": [
    "r = print_perms('abc')"
   ]
  },
  {
   "cell_type": "code",
   "execution_count": null,
   "metadata": {},
   "outputs": [],
   "source": [
    "r"
   ]
  },
  {
   "cell_type": "code",
   "execution_count": 64,
   "metadata": {},
   "outputs": [],
   "source": [
    "# Model Based learning"
   ]
  },
  {
   "cell_type": "code",
   "execution_count": null,
   "metadata": {},
   "outputs": [],
   "source": [
    "Q: convert out logic linear regression problem to class.\n",
    "    \n",
    "class TwoDPointLine:\n",
    "    ....\n",
    "\n",
    "X = [[1], [2]] # instances\n",
    "y = [5, 6] # labels\n",
    "model = TwoPointLine()\n",
    "model.fit(X, y) #learnt from data, parameters = m, c\n",
    "model.predict([[3], [4], [5]]) #[7, 8, 9] # using the parameters m, c ->> predicting y\n"
   ]
  },
  {
   "cell_type": "code",
   "execution_count": null,
   "metadata": {},
   "outputs": [],
   "source": [
    "    \n",
    "class ThreePointPlane:\n",
    "    ....\n",
    "\n",
    "X = [[1, 2], [2, 4], [6, 7]]\n",
    "y = [5, 6, 10] # m1*x1 + m2*x2 + c,\n",
    "model = ThreePointPlane()\n",
    "model.fit(X, y) #  m1, m2, c == ?\n",
    "model.predict([[3,5]])\n",
    "\n"
   ]
  },
  {
   "cell_type": "code",
   "execution_count": 63,
   "metadata": {},
   "outputs": [
    {
     "ename": "SyntaxError",
     "evalue": "invalid syntax (<ipython-input-63-159ec9622cc0>, line 2)",
     "output_type": "error",
     "traceback": [
      "\u001b[0;36m  File \u001b[0;32m\"<ipython-input-63-159ec9622cc0>\"\u001b[0;36m, line \u001b[0;32m2\u001b[0m\n\u001b[0;31m    ....\u001b[0m\n\u001b[0m        ^\u001b[0m\n\u001b[0;31mSyntaxError\u001b[0m\u001b[0;31m:\u001b[0m invalid syntax\n"
     ]
    }
   ],
   "source": [
    "    \n",
    "class NPointsHyperplane:\n",
    "    ....\n",
    "\n",
    "X = [\n",
    "        [1, 2, ....], \n",
    "        [2, 4, ...,\n",
    "        [6, 7, ...]\n",
    "    ] # take n numbers of features\n",
    "y = [5, 6, 10] # m1*x1 + m2*x2 + m3*x3 + m4*x4 + ... + c,\n",
    "model = ThreePointPlane()\n",
    "model.fit(X, y)\n",
    "model.predict([[3,5, ...]]) #inference\n"
   ]
  },
  {
   "cell_type": "code",
   "execution_count": null,
   "metadata": {},
   "outputs": [],
   "source": [
    "# instance based learning"
   ]
  },
  {
   "cell_type": "code",
   "execution_count": null,
   "metadata": {},
   "outputs": [],
   "source": [
    "class NN:\n",
    "    ...\n",
    "    \n",
    "model = NN() # nearest neighbours to consult == 1\n",
    "\n",
    "X = [[1, 2], [2, 4], [6, 7]]\n",
    "y = [5, 6, 10]\n",
    " \n",
    "model.fit(X, y) # it does nothing, it just stored this data\n",
    "model.predict([1.1, 2]) # find the X nearest to this point and returns the corresponding y - 5\n"
   ]
  },
  {
   "cell_type": "code",
   "execution_count": null,
   "metadata": {},
   "outputs": [],
   "source": [
    "class kNN:\n",
    "    ...\n",
    "    \n",
    "model = kNN(2) # nearest neighbours to consult == 2 == k\n",
    "\n",
    "X = [[1, 2], [2, 4], [6, 7]]\n",
    "y = [5, 6, 10]\n",
    "\n",
    "model.fit(X, y) # it does nothing, it just stored this data\n",
    "model.predict([1.1, 2]) # it is going to consult k nearest neighbours and return the average\n"
   ]
  },
  {
   "cell_type": "code",
   "execution_count": 65,
   "metadata": {},
   "outputs": [
    {
     "ename": "SyntaxError",
     "evalue": "unexpected EOF while parsing (<ipython-input-65-2d53a57ad131>, line 4)",
     "output_type": "error",
     "traceback": [
      "\u001b[0;36m  File \u001b[0;32m\"<ipython-input-65-2d53a57ad131>\"\u001b[0;36m, line \u001b[0;32m4\u001b[0m\n\u001b[0;31m    # return False if n doesnt exist in lst\u001b[0m\n\u001b[0m                                           ^\u001b[0m\n\u001b[0;31mSyntaxError\u001b[0m\u001b[0;31m:\u001b[0m unexpected EOF while parsing\n"
     ]
    }
   ],
   "source": [
    "# Q: Given a list of sorted numbers [1, 3, 5, 7, 8, 10, 15]. \n",
    "def binary_search(lst, n):\n",
    "    # returns True if n exists in lst\n",
    "    # return False if n doesnt exist in lst"
   ]
  },
  {
   "cell_type": "code",
   "execution_count": 66,
   "metadata": {},
   "outputs": [
    {
     "data": {
      "text/plain": [
       "True"
      ]
     },
     "execution_count": 66,
     "metadata": {},
     "output_type": "execute_result"
    }
   ],
   "source": [
    "5 in [1, 3, 5, 7, 8, 10, 15] # O(n), Can you make it fast by utilizing the sortedness."
   ]
  }
 ],
 "metadata": {
  "kernelspec": {
   "display_name": "Python 3",
   "language": "python",
   "name": "python3"
  },
  "language_info": {
   "codemirror_mode": {
    "name": "ipython",
    "version": 3
   },
   "file_extension": ".py",
   "mimetype": "text/x-python",
   "name": "python",
   "nbconvert_exporter": "python",
   "pygments_lexer": "ipython3",
   "version": "3.6.8"
  },
  "toc": {
   "base_numbering": 1,
   "nav_menu": {},
   "number_sections": true,
   "sideBar": true,
   "skip_h1_title": false,
   "title_cell": "Table of Contents",
   "title_sidebar": "Contents",
   "toc_cell": false,
   "toc_position": {},
   "toc_section_display": true,
   "toc_window_display": false
  }
 },
 "nbformat": 4,
 "nbformat_minor": 2
}
