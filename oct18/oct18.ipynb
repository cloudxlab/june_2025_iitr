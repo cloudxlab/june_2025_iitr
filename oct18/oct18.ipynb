{
 "cells": [
  {
   "cell_type": "code",
   "execution_count": 17,
   "id": "cb12d1b0",
   "metadata": {},
   "outputs": [
    {
     "ename": "IndentationError",
     "evalue": "unexpected indent (1249317696.py, line 5)",
     "output_type": "error",
     "traceback": [
      "\u001b[0;36m  Cell \u001b[0;32mIn[17], line 5\u001b[0;36m\u001b[0m\n\u001b[0;31m    [a-zA-Z0-9_\\-\\.]+@([a-zA-Z0-9\\-]+\\.)*[a-zA-Z0-9\\-]+\u001b[0m\n\u001b[0m    ^\u001b[0m\n\u001b[0;31mIndentationError\u001b[0m\u001b[0;31m:\u001b[0m unexpected indent\n"
     ]
    }
   ],
   "source": [
    "# Write a regular expression match email address\n",
    "\n",
    "\n",
    "\n",
    " [a-zA-Z0-9_\\-\\.]+@([a-zA-Z0-9\\-]+\\.)*[a-zA-Z0-9\\-]+\n",
    "[a-zA-Z0-9_\\-\\.]+@([a-zA-Z0-9\\-]+)(\\.[a-zA-Z0-9\\-]+)*\n",
    "\n",
    "xyz@abc.pqr\n",
    "xyz@abc.\n",
    "pqr.\n",
    "ef.\n",
    "gh. \n",
    "hi\n",
    "\n"
   ]
  },
  {
   "cell_type": "code",
   "execution_count": null,
   "id": "1fc8b75f",
   "metadata": {},
   "outputs": [],
   "source": [
    "import re"
   ]
  },
  {
   "cell_type": "code",
   "execution_count": null,
   "id": "c51f1182",
   "metadata": {},
   "outputs": [],
   "source": [
    "f = open('mbox-short.txt')\n",
    "for line in f:\n",
    "    m = re.findall(r'([a-zA-Z0-9_\\-\\.]+@([a-zA-Z0-9\\-]+\\.)*[a-zA-Z0-9\\-]+)', line)\n",
    "    if m:\n",
    "        print(m[0][0])\n",
    "f.close()"
   ]
  },
  {
   "cell_type": "code",
   "execution_count": null,
   "id": "b2d36220",
   "metadata": {},
   "outputs": [],
   "source": [
    "\n",
    "with open('mbox-short.txt') as f: \n",
    "    for line in f:\n",
    "        m = re.findall(r'([a-zA-Z0-9_\\-\\.]+@([a-zA-Z0-9\\-]+\\.)*[a-zA-Z0-9\\-]+)', line)\n",
    "        if m:\n",
    "            print(m[0][0])\n"
   ]
  },
  {
   "cell_type": "code",
   "execution_count": null,
   "id": "e286e773",
   "metadata": {},
   "outputs": [],
   "source": [
    "EMAIL_REG = r'([a-zA-Z0-9_\\-\\.]+@([a-zA-Z0-9\\-]+\\.)*[a-zA-Z0-9\\-]+)'\n",
    "\n",
    "with open('mbox-short.txt') as f: \n",
    "    for line in f:\n",
    "        m = re.findall(EMAIL_REG, line)\n",
    "        if m:\n",
    "            print(m[0][0])\n"
   ]
  },
  {
   "cell_type": "code",
   "execution_count": null,
   "id": "822059ae",
   "metadata": {},
   "outputs": [],
   "source": [
    "EMAIL_REG = r'([a-zA-Z0-9_\\-\\.]+@([a-zA-Z0-9\\-]+\\.)*[a-zA-Z0-9\\-]+)'\n",
    "\n",
    "with open('mbox-short.txt') as f: \n",
    "    for line in f:\n",
    "        m = re.findall(EMAIL_REG, line)\n",
    "        if m:\n",
    "            print(m[0][0])\n"
   ]
  },
  {
   "cell_type": "code",
   "execution_count": null,
   "id": "6571a165",
   "metadata": {},
   "outputs": [],
   "source": [
    "EMAIL_REG = r'([a-zA-Z0-9_\\-\\.]+@([a-zA-Z0-9\\-]+\\.)*[a-zA-Z0-9\\-]+)'\n",
    "\n",
    "with open('mbox-short.txt') as f: \n",
    "    lines = f.readlines() # f.read()\n",
    "    for line in lines:\n",
    "        m = re.findall(EMAIL_REG, line)\n",
    "        if m:\n",
    "            print(m[0][0])\n"
   ]
  },
  {
   "cell_type": "code",
   "execution_count": null,
   "id": "d2527cd7",
   "metadata": {},
   "outputs": [],
   "source": [
    "EMAIL_REG = r'([a-zA-Z0-9_\\-\\.]+@([a-zA-Z0-9\\-]+\\.)*[a-zA-Z0-9\\-]+)'\n",
    "\n",
    "with open('mbox-short.txt') as f: \n",
    "    text = f.read() # memory intensive\n",
    "    for line in text.split('\\n'):\n",
    "        m = re.findall(EMAIL_REG, line)\n",
    "        if m:\n",
    "            print(m[0][0])\n"
   ]
  },
  {
   "cell_type": "code",
   "execution_count": 25,
   "id": "632a8a7a",
   "metadata": {},
   "outputs": [
    {
     "name": "stdout",
     "output_type": "stream",
     "text": [
      "[sakai] svn commit: r39772 - content/branches/sakai_2-5-x/content-impl/impl/src/java/org/sakaiproject/content/impl\n",
      "\n",
      "[sakai] svn commit: r39771 - in bspace/site-manage/sakai_2-4-x/site-manage-tool/tool/src: bundle java/org/sakaiproject/site/tool\n",
      "\n",
      "[sakai] svn commit: r39770 - site-manage/branches/sakai_2-5-x/site-manage-tool/tool/src/webapp/vm/sitesetup\n",
      "\n",
      "[sakai] svn commit: r39769 - in gradebook/trunk/app/ui/src: java/org/sakaiproject/tool/gradebook/ui/helpers/beans java/org/sakaiproject/tool/gradebook/ui/helpers/producers webapp/WEB-INF webapp/WEB-INF/bundle\n",
      "\n",
      "[sakai] svn commit: r39766 - site-manage/branches/sakai_2-4-x/site-manage-tool/tool/src/java/org/sakaiproject/site/tool\n",
      "\n",
      "[sakai] svn commit: r39765 - in gradebook/trunk/app: business/src/java/org/sakaiproject/tool/gradebook/business business/src/java/org/sakaiproject/tool/gradebook/business/impl ui ui/src/java/org/sakaiproject/tool/gradebook/ui/helpers/beans ui/src/java/org/sakaiproject/tool/gradebook/ui/helpers/entity ui/src/java/org/sakaiproject/tool/gradebook/ui/helpers/params ui/src/java/org/sakaiproject/tool/gradebook/ui/helpers/producers ui/src/webapp/WEB-INF ui/src/webapp/WEB-INF/bundle ui/src/webapp/content/templates\n",
      "\n",
      "[sakai] svn commit: r39764 - in msgcntr/trunk/messageforums-app/src/java/org/sakaiproject/tool/messageforums: . ui\n",
      "\n",
      "[sakai] svn commit: r39763 - in msgcntr/trunk: messageforums-api/src/bundle/org/sakaiproject/api/app/messagecenter/bundle messageforums-app/src/java/org/sakaiproject/tool/messageforums\n",
      "\n",
      "[sakai] svn commit: r39762 - web/trunk/web-tool/tool/src/bundle\n",
      "\n",
      "[sakai] svn commit: r39761 - site/trunk/site-tool/tool/src/bundle\n",
      "\n",
      "[sakai] svn commit: r39760 - in site-manage/trunk/site-manage-tool/tool/src: java/org/sakaiproject/site/tool webapp/vm/sitesetup\n",
      "\n",
      "[sakai] svn commit: r39759 - mailarchive/trunk/mailarchive-tool/tool/src/bundle\n",
      "\n",
      "[sakai] svn commit: r39758 - in gradebook/trunk: app/business/src/java/org/sakaiproject/tool/gradebook/business/impl service/api/src/java/org/sakaiproject/service/gradebook/shared service/impl/src/java/org/sakaiproject/component/gradebook\n",
      "\n",
      "[sakai] svn commit: r39757 - in assignment/trunk: assignment-impl/impl/src/java/org/sakaiproject/assignment/impl assignment-tool/tool/src/webapp/vm/assignment\n",
      "\n",
      "[sakai] svn commit: r39756 - in component/branches/SAK-12166/component-api/component/src/java/org/sakaiproject/component: impl impl/spring/support impl/spring/support/dynamic impl/support util\n",
      "\n",
      "[sakai] svn commit: r39755 - in sam/branches/SAK-12065: samigo-api/src/java/org/sakaiproject/tool/assessment/shared/api/grading samigo-app/src/java/org/sakaiproject/tool/assessment/ui/bean/evaluation samigo-app/src/java/org/sakaiproject/tool/assessment/ui/listener/evaluation samigo-services/src/java/org/sakaiproject/tool/assessment/facade samigo-services/src/java/org/sakaiproject/tool/assessment/integration/helper/ifc samigo-services/src/java/org/sakaiproject/tool/assessment/integration/helper/integrated samigo-services/src/java/org/sakaiproject/tool/assessment/integration/helper/standalone samigo-services/src/java/org/sakaiproject/tool/assessment/shared/impl/grading\n",
      "\n",
      "[sakai] svn commit: r39754 - in polls/branches/sakai_2-5-x: . tool tool/src/java/org/sakaiproject/poll/tool tool/src/java/org/sakaiproject/poll/tool/evolvers tool/src/webapp/WEB-INF\n",
      "\n",
      "[sakai] svn commit: r39753 - in polls/trunk: . tool tool/src/java/org/sakaiproject/poll/tool tool/src/java/org/sakaiproject/poll/tool/evolvers tool/src/webapp/WEB-INF\n",
      "\n",
      "[sakai] svn commit: r39752 - in podcasts/branches/sakai_2-5-x/podcasts-app/src/webapp: css podcasts\n",
      "\n",
      "[sakai] svn commit: r39751 - in podcasts/branches/sakai_2-5-x/podcasts-app/src/webapp: css images podcasts\n",
      "\n",
      "[sakai] svn commit: r39750 - event/branches/SAK-6216/event-util/util/src/java/org/sakaiproject/util\n",
      "\n",
      "[sakai] svn commit: r39749 - in bspace/site-manage/sakai_2-4-x/site-manage-tool/tool/src: bundle webapp/vm/sitesetup\n",
      "\n",
      "[sakai] svn commit: r39746 - in bspace/site-manage/sakai_2-4-x/site-manage-tool/tool/src: bundle webapp/vm/sitesetup\n",
      "\n",
      "[sakai] svn commit: r39745 - providers/trunk/cm/cm-authz-provider/src/java/org/sakaiproject/coursemanagement/impl/provider\n",
      "\n",
      "[sakai] svn commit: r39744 - oncourse/branches/oncourse_OPC_122007\n",
      "\n",
      "[sakai] svn commit: r39743 - gradebook/branches/oncourse_2-4-2/app/ui/src/java/org/sakaiproject/tool/gradebook/ui\n",
      "\n",
      "[sakai] svn commit: r39742 - gradebook/branches/oncourse_2-4-2/app/ui/src/java/org/sakaiproject/tool/gradebook/ui\n",
      "\n"
     ]
    }
   ],
   "source": [
    "SUBJ_RE = r'^((subject:)([ ]*)(.+))$'\n",
    "with open('mbox-short.txt') as f: \n",
    "    for line in f:\n",
    "        m = re.match(SUBJ_RE, line, re.IGNORECASE | re.DOTALL)\n",
    "        if m:\n",
    "            # print(\"LINE: \", line)\n",
    "            print(m.groups()[-1])\n",
    "        # else:\n",
    "            # print(\"NOT FOUND: \", line)"
   ]
  },
  {
   "cell_type": "code",
   "execution_count": 23,
   "id": "249a7eb0",
   "metadata": {},
   "outputs": [
    {
     "name": "stdout",
     "output_type": "stream",
     "text": [
      "Help on function match in module re:\n",
      "\n",
      "match(pattern, string, flags=0)\n",
      "    Try to apply the pattern at the start of the string, returning\n",
      "    a Match object, or None if no match was found.\n",
      "\n"
     ]
    }
   ],
   "source": [
    "help(re.match)"
   ]
  },
  {
   "cell_type": "code",
   "execution_count": null,
   "id": "8035e8bb",
   "metadata": {},
   "outputs": [],
   "source": [
    "READ = 1 # 0001\n",
    "WRITE = 2 # 0010\n",
    "EXECUTE = 4 # 0100\n",
    "DELETE = 8 # 1000"
   ]
  },
  {
   "cell_type": "code",
   "execution_count": 28,
   "id": "8256d569",
   "metadata": {},
   "outputs": [
    {
     "data": {
      "text/plain": [
       "3"
      ]
     },
     "execution_count": 28,
     "metadata": {},
     "output_type": "execute_result"
    }
   ],
   "source": [
    "READ  | WRITE\n"
   ]
  },
  {
   "cell_type": "code",
   "execution_count": 29,
   "id": "9154a442",
   "metadata": {},
   "outputs": [
    {
     "data": {
      "text/plain": [
       "7"
      ]
     },
     "execution_count": 29,
     "metadata": {},
     "output_type": "execute_result"
    }
   ],
   "source": [
    "READ  | WRITE | EXECUTE"
   ]
  },
  {
   "cell_type": "code",
   "execution_count": 32,
   "id": "88fbc567",
   "metadata": {},
   "outputs": [
    {
     "data": {
      "text/plain": [
       "15"
      ]
     },
     "execution_count": 32,
     "metadata": {},
     "output_type": "execute_result"
    }
   ],
   "source": [
    "READ  | WRITE | EXECUTE | DELETE"
   ]
  },
  {
   "cell_type": "code",
   "execution_count": 33,
   "id": "03fe793f",
   "metadata": {},
   "outputs": [
    {
     "data": {
      "text/plain": [
       "14"
      ]
     },
     "execution_count": 33,
     "metadata": {},
     "output_type": "execute_result"
    }
   ],
   "source": [
    "WRITE | EXECUTE | DELETE"
   ]
  },
  {
   "cell_type": "code",
   "execution_count": 34,
   "id": "8492d2c1",
   "metadata": {},
   "outputs": [
    {
     "data": {
      "text/plain": [
       "5"
      ]
     },
     "execution_count": 34,
     "metadata": {},
     "output_type": "execute_result"
    }
   ],
   "source": [
    "READ | EXECUTE"
   ]
  },
  {
   "cell_type": "code",
   "execution_count": 35,
   "id": "725dd6d9",
   "metadata": {},
   "outputs": [],
   "source": [
    "from enum import IntFlag, auto\n",
    "class Color(IntFlag):\n",
    "    RED = auto()\n",
    "    GREEN = auto()\n",
    "    BLUE = auto()"
   ]
  },
  {
   "cell_type": "code",
   "execution_count": 37,
   "id": "4cecdeac",
   "metadata": {},
   "outputs": [
    {
     "data": {
      "text/plain": [
       "True"
      ]
     },
     "execution_count": 37,
     "metadata": {},
     "output_type": "execute_result"
    }
   ],
   "source": [
    "Color.RED | Color.GREEN == Color.GREEN|Color.RED"
   ]
  },
  {
   "cell_type": "code",
   "execution_count": 38,
   "id": "84c8a239",
   "metadata": {},
   "outputs": [
    {
     "data": {
      "text/plain": [
       "False"
      ]
     },
     "execution_count": 38,
     "metadata": {},
     "output_type": "execute_result"
    }
   ],
   "source": [
    "Color.RED | Color.GREEN == Color.RED"
   ]
  },
  {
   "cell_type": "markdown",
   "id": "ba36a94e",
   "metadata": {},
   "source": [
    "Regex:\n",
    "\n",
    "    - Find the average X-DSPAM-Confidence\n",
    "    - print domain<tab>counts. Basically find out the counts of emails sent or recieved per domain. \n",
    "        Or simply find the counts of each domain in all emails."
   ]
  },
  {
   "cell_type": "markdown",
   "id": "bdd6654f",
   "metadata": {},
   "source": []
  },
  {
   "cell_type": "code",
   "execution_count": 2,
   "id": "eeebe6aa",
   "metadata": {},
   "outputs": [
    {
     "name": "stdout",
     "output_type": "stream",
     "text": [
      "1910\n"
     ]
    }
   ],
   "source": [
    "with open('./mbox-short.txt') as f: \n",
    "    print(len(f.readlines()))"
   ]
  },
  {
   "cell_type": "code",
   "execution_count": 3,
   "id": "362265da",
   "metadata": {},
   "outputs": [
    {
     "name": "stdout",
     "output_type": "stream",
     "text": [
      "1910\n"
     ]
    }
   ],
   "source": [
    "with open('/Users/sandeepgiri/projects/june_2025_iitr/mbox-short.txt') as f: \n",
    "    print(len(f.readlines()))"
   ]
  },
  {
   "cell_type": "code",
   "execution_count": 4,
   "id": "2a8dfe0d",
   "metadata": {},
   "outputs": [
    {
     "data": {
      "text/plain": [
       "['Aug10.ipynb',\n",
       " 'sep21.ipynb',\n",
       " 'Jul 27.ipynb',\n",
       " 'sep6.ipynb',\n",
       " 'sep27.ipynb',\n",
       " 'Aug 16.ipynb',\n",
       " 'oct18.ipynb',\n",
       " 'requirements.txt',\n",
       " 'Aug30.ipynb',\n",
       " 'mbox-short.txt',\n",
       " 'Exercises.md',\n",
       " 'Jul 26.ipynb',\n",
       " 'sep20.ipynb',\n",
       " 'oct4.ipynb',\n",
       " 'sep7.ipynb',\n",
       " 'Aug31.ipynb',\n",
       " 'oct5_sep28_bst.ipynb',\n",
       " 'prompt.md',\n",
       " 'Aug 17.ipynb',\n",
       " 'Aug3.ipynb',\n",
       " 'Jul 20.ipynb',\n",
       " 'README.md',\n",
       " 'test_reg.txt',\n",
       " 'Aug24.ipynb',\n",
       " 'Exercises',\n",
       " 'july_31_catchup_xtra.ipynb',\n",
       " '.venv',\n",
       " 'Aug9.ipynb',\n",
       " 'sep13.ipynb',\n",
       " 'Exercises_notes.md',\n",
       " 'oct11.ipynb',\n",
       " '.ipynb_checkpoints',\n",
       " 'binary_search_project',\n",
       " 'sep14.ipynb',\n",
       " '.git',\n",
       " 'data',\n",
       " 'Aug23.ipynb',\n",
       " 'oct12.ipynb',\n",
       " '1. Intro.ipynb']"
      ]
     },
     "execution_count": 4,
     "metadata": {},
     "output_type": "execute_result"
    }
   ],
   "source": [
    "import os\n",
    "os.listdir()"
   ]
  },
  {
   "cell_type": "code",
   "execution_count": null,
   "id": "5290973d",
   "metadata": {},
   "outputs": [],
   "source": [
    "def merge(A, B):\n",
    "    i, j = 0, 0\n",
    "    result = []\n",
    "    while i < len(A) and j < len(B):\n",
    "        if A[i] < B[j]:\n",
    "            result.append(A[i])\n",
    "            i += 1\n",
    "        else:\n",
    "            result.append(B[j])\n",
    "            j += 1\n",
    "    if len(A) != i:\n",
    "        result.extend(A[i:])\n",
    "    if len(B) != j:\n",
    "        result.extend(B[j:])\n",
    "    return result\n",
    "    "
   ]
  },
  {
   "cell_type": "code",
   "execution_count": 9,
   "id": "8b546e14",
   "metadata": {},
   "outputs": [
    {
     "data": {
      "text/plain": [
       "[1, 3, 4]"
      ]
     },
     "execution_count": 9,
     "metadata": {},
     "output_type": "execute_result"
    }
   ],
   "source": [
    "A = [1,3,4]\n",
    "B = []\n",
    "merge(A, B)"
   ]
  },
  {
   "cell_type": "code",
   "execution_count": 10,
   "id": "658e7076",
   "metadata": {},
   "outputs": [],
   "source": [
    "def merge_sort(A):\n",
    "    if len(A) < 2:\n",
    "        return A\n",
    "    l = len(A)//2 # l = 6\n",
    "    A1, A2 = A[:l], A[l:] #0,1,2 <> 3, 4, 5\n",
    "    A1 = merge_sort(A1)\n",
    "    A2 = merge_sort(A2)\n",
    "    return merge(A1, A2)"
   ]
  },
  {
   "cell_type": "code",
   "execution_count": 11,
   "id": "3b21df71",
   "metadata": {},
   "outputs": [
    {
     "data": {
      "text/plain": [
       "[-10, -4, -1, 1, 1, 2, 2, 8, 9, 9, 10, 22]"
      ]
     },
     "execution_count": 11,
     "metadata": {},
     "output_type": "execute_result"
    }
   ],
   "source": [
    "merge_sort([1, 2, -1, 2, 1, 8, 9, 9, 10, -10, 22, -4])"
   ]
  },
  {
   "cell_type": "code",
   "execution_count": 14,
   "id": "a283c59a",
   "metadata": {},
   "outputs": [
    {
     "name": "stdout",
     "output_type": "stream",
     "text": [
      "[-2, 4, 5, 7, 10]\n"
     ]
    }
   ],
   "source": [
    "# NIgam\n",
    "\n",
    "# merge sort Nigam - \n",
    "def merge_sort(S1, S2):\n",
    "    # this function expects two sorted arrays as input\n",
    "    # it returns merging the sorted arrays in order and returning it\n",
    "    result = []\n",
    "    index1 = 0\n",
    "    index2 = 0\n",
    "    while index1 != len(S1)  and index2 != len(S2) :        \n",
    "            if S1[index1] < S2[index2]:\n",
    "                result.append(S1[index1])\n",
    "                index1 = index1 + 1 \n",
    "            elif S1[index1] == S2[index2]:\n",
    "                result.append(S1[index1])\n",
    "                index1 += 1                \n",
    "                result.append(S2[index2])\n",
    "                index2 += 1 \n",
    "            elif S1[index1] > S2[index2]:\n",
    "                result.append(S2[index2])\n",
    "                index2 = index2 + 1   \n",
    "                \n",
    "    if index1 == len(S1) and index2 < len(S2):\n",
    "            while index2 != len(S2):\n",
    "                result.append(S2[index2])\n",
    "                index2 = index2 + 1\n",
    "    if index2 == len(S2)  and index1 < len(S1):\n",
    "            while index1 != len(S1):\n",
    "                result.append(S1[index1])\n",
    "                index1 = index1 + 1           \n",
    "    return result\n",
    "def split_merge(S):\n",
    "    n = len(S)\n",
    "    half = 1   \n",
    "    \n",
    "    while half < n:\n",
    "        result = []\n",
    "        for i in range(0, n, 2*half):\n",
    "            left = S[i:i+half]\n",
    "            right = S[i+half:i+2*half]\n",
    "            result.extend(merge_sort(left, right))\n",
    "        S = result\n",
    "        half *= 2\n",
    "    return S\n",
    "            \n",
    "print(split_merge([10, 4, -2, 7, 5]))"
   ]
  },
  {
   "cell_type": "markdown",
   "id": "b0f07483",
   "metadata": {},
   "source": [
    "\n",
    "![MergeSort](Merge-sort-example-300px.gif \"MergeSort\")"
   ]
  },
  {
   "cell_type": "markdown",
   "id": "d6018f6f",
   "metadata": {},
   "source": [
    "Q: Two files containing numbers. Each of these files are sorted. Merge these two files and create a third file which contains sorted numbers.\n",
    "Each file could be 100 GB. Your computer would have a RAM 4 GB."
   ]
  },
  {
   "cell_type": "code",
   "execution_count": null,
   "id": "b1c7a649",
   "metadata": {},
   "outputs": [],
   "source": [
    "# sort -m -S 0\n",
    "\n",
    "with  open('f1') as f1, open('f2') as f2, open('f3', 'w+') as f3:\n",
    "    l1 = f1.readline()\n",
    "    l2 = f2.readline()\n",
    "    while len(l1) > 0 and len(l2) > 0: #o(n)\n",
    "        if int(l1) < int(l2):\n",
    "            f3.write(l1)\n",
    "            l1 = f1.readline()\n",
    "        else:\n",
    "            f3.write(l2)\n",
    "            l2 = f2.readline()\n",
    "    \n",
    "    while len(l1) != 0:\n",
    "        f3.write(l1)\n",
    "        l1 = f1.readline()\n",
    "    while len(l2) != 0:\n",
    "        f3.write(l2)\n",
    "        l2 = f2.readline()\n"
   ]
  },
  {
   "cell_type": "markdown",
   "id": "ba038cf9",
   "metadata": {},
   "source": []
  },
  {
   "cell_type": "code",
   "execution_count": 25,
   "id": "b16b6864",
   "metadata": {},
   "outputs": [
    {
     "data": {
      "text/plain": [
       "True"
      ]
     },
     "execution_count": 25,
     "metadata": {},
     "output_type": "execute_result"
    }
   ],
   "source": [
    "\"2\" > \"10\""
   ]
  },
  {
   "cell_type": "code",
   "execution_count": 24,
   "id": "25a8b3f0",
   "metadata": {},
   "outputs": [
    {
     "data": {
      "text/plain": [
       "True"
      ]
     },
     "execution_count": 24,
     "metadata": {},
     "output_type": "execute_result"
    }
   ],
   "source": [
    "2 < 10"
   ]
  },
  {
   "cell_type": "code",
   "execution_count": null,
   "id": "b227dec1",
   "metadata": {},
   "outputs": [],
   "source": [
    "d1 = open(\"f1\").read().split()\n",
    "d2 = open(\"f2\").read().split()\n",
    "res = d1.extend(d2)\n",
    "d1.sort(key=int) # nlog(n)\n",
    "with  open('f1') as f1, open('f2') as f2, open('f3.txt', 'w+') as f3:\n",
    "    txt = \"\\n\".join(d1)\n",
    "    f3.write(txt)"
   ]
  },
  {
   "cell_type": "code",
   "execution_count": null,
   "id": "c5c672aa",
   "metadata": {},
   "outputs": [],
   "source": [
    "# Counting sort."
   ]
  },
  {
   "cell_type": "code",
   "execution_count": null,
   "id": "466b1c94",
   "metadata": {},
   "outputs": [],
   "source": [
    "# You have an array of 0s and 1s and associated data. Take zeros to beginging and 1s to end.\n",
    "# Do not use extra memory. in-place sort.\n",
    "\n",
    "arr = [(0, \"sandeep\"), (1, \"nigam\"), (0, 'Ashutosh'), (1, 'shukant')]\n",
    "result = [(0, \"sandeep\"),(0, 'Ashutosh'), (1, \"nigam\"), (1, 'shukant')]\n",
    "\n",
    "# Solve the dutch flag problem same way: https://www.geeksforgeeks.org/dsa/sort-an-array-of-0s-1s-and-2s/\n",
    "# 0 to left and non-zero right\n",
    "# non-zero -> 1st to the left and 2 to the right\n",
    "\n",
    "[0, 1, 2,0, 1, 2]\n",
    "[0, 0, 1, 2, 1, 2]\n"
   ]
  },
  {
   "cell_type": "code",
   "execution_count": null,
   "id": "9e6f105c",
   "metadata": {},
   "outputs": [],
   "source": [
    "class Color:\n",
    "    RED = 1\n",
    "    BLUE = 2\n",
    "    GREEN = 4\n",
    "    "
   ]
  },
  {
   "cell_type": "code",
   "execution_count": 38,
   "id": "20c21022",
   "metadata": {},
   "outputs": [
    {
     "data": {
      "text/plain": [
       "2"
      ]
     },
     "execution_count": 38,
     "metadata": {},
     "output_type": "execute_result"
    }
   ],
   "source": [
    "Color.BLUE\n"
   ]
  },
  {
   "cell_type": "code",
   "execution_count": 39,
   "id": "ec615b61",
   "metadata": {},
   "outputs": [],
   "source": [
    "class Customer:\n",
    "    id = -1\n",
    "    name = ''\n",
    "    age = 0\n",
    "    "
   ]
  },
  {
   "cell_type": "code",
   "execution_count": 40,
   "id": "ef9c593e",
   "metadata": {},
   "outputs": [],
   "source": [
    "cust1 = Customer()\n",
    "cust2 = Customer()"
   ]
  },
  {
   "cell_type": "code",
   "execution_count": 41,
   "id": "546ab04d",
   "metadata": {},
   "outputs": [],
   "source": [
    "cust1.id = 10\n",
    "cust1.name = 'Sandeep'"
   ]
  },
  {
   "cell_type": "code",
   "execution_count": 42,
   "id": "9ff5a025",
   "metadata": {},
   "outputs": [],
   "source": [
    "cust2.id = 11\n",
    "cust2.name = 'Nigam'"
   ]
  },
  {
   "cell_type": "code",
   "execution_count": 43,
   "id": "5f103db1",
   "metadata": {},
   "outputs": [
    {
     "data": {
      "text/plain": [
       "<__main__.Customer at 0x1072fca00>"
      ]
     },
     "execution_count": 43,
     "metadata": {},
     "output_type": "execute_result"
    }
   ],
   "source": [
    "cust1"
   ]
  },
  {
   "cell_type": "code",
   "execution_count": 44,
   "id": "b07c5e5d",
   "metadata": {},
   "outputs": [
    {
     "data": {
      "text/plain": [
       "<__main__.Customer at 0x10737ebe0>"
      ]
     },
     "execution_count": 44,
     "metadata": {},
     "output_type": "execute_result"
    }
   ],
   "source": [
    "cust2"
   ]
  },
  {
   "cell_type": "code",
   "execution_count": 45,
   "id": "5b1c6365",
   "metadata": {},
   "outputs": [],
   "source": [
    "class Customer:\n",
    "    id = -1\n",
    "    name = ''\n",
    "    age = 0\n",
    "    def __init__(self, id, name, age):\n",
    "        self.id = id\n",
    "        self.name = name\n",
    "        self.age = age"
   ]
  },
  {
   "cell_type": "code",
   "execution_count": 46,
   "id": "c3a2c20e",
   "metadata": {},
   "outputs": [],
   "source": [
    "c1 = Customer(1,'S', 10)\n",
    "c2 = Customer(2,'G', 40)"
   ]
  },
  {
   "cell_type": "code",
   "execution_count": 49,
   "id": "17e6bf87",
   "metadata": {},
   "outputs": [
    {
     "data": {
      "text/plain": [
       "1"
      ]
     },
     "execution_count": 49,
     "metadata": {},
     "output_type": "execute_result"
    }
   ],
   "source": [
    "c1.id\n"
   ]
  },
  {
   "cell_type": "code",
   "execution_count": 50,
   "id": "67e522e1",
   "metadata": {},
   "outputs": [
    {
     "data": {
      "text/plain": [
       "2"
      ]
     },
     "execution_count": 50,
     "metadata": {},
     "output_type": "execute_result"
    }
   ],
   "source": [
    "c2.id"
   ]
  },
  {
   "cell_type": "code",
   "execution_count": 56,
   "id": "7d233c91",
   "metadata": {},
   "outputs": [],
   "source": [
    "class Customer:\n",
    "    id = -1\n",
    "    name = ''\n",
    "    age = 0\n",
    "    def __init__(self, id, name, age):\n",
    "        self.id = id\n",
    "        self.name = name\n",
    "        self.age = age\n",
    "    def __repr__(self):\n",
    "        return f'[{self.id, self.name, self.age}]'\n",
    "    def is_minor(self):\n",
    "        if self.age < 13:\n",
    "            return True\n",
    "        else:\n",
    "            return False"
   ]
  },
  {
   "cell_type": "code",
   "execution_count": 57,
   "id": "87abffa9",
   "metadata": {},
   "outputs": [],
   "source": [
    "c1 = Customer(1,'S', 10)\n",
    "c2 = Customer(2,'G', 40)"
   ]
  },
  {
   "cell_type": "code",
   "execution_count": 58,
   "id": "0253d6e1",
   "metadata": {},
   "outputs": [
    {
     "data": {
      "text/plain": [
       "[(1, 'S', 10)]"
      ]
     },
     "execution_count": 58,
     "metadata": {},
     "output_type": "execute_result"
    }
   ],
   "source": [
    "c1"
   ]
  },
  {
   "cell_type": "code",
   "execution_count": 59,
   "id": "09b1c528",
   "metadata": {},
   "outputs": [
    {
     "data": {
      "text/plain": [
       "[(2, 'G', 40)]"
      ]
     },
     "execution_count": 59,
     "metadata": {},
     "output_type": "execute_result"
    }
   ],
   "source": [
    "c2"
   ]
  },
  {
   "cell_type": "code",
   "execution_count": 60,
   "id": "637bdd79",
   "metadata": {},
   "outputs": [
    {
     "data": {
      "text/plain": [
       "True"
      ]
     },
     "execution_count": 60,
     "metadata": {},
     "output_type": "execute_result"
    }
   ],
   "source": [
    "c1.is_minor()"
   ]
  },
  {
   "cell_type": "code",
   "execution_count": 62,
   "id": "696c650b",
   "metadata": {},
   "outputs": [
    {
     "data": {
      "text/plain": [
       "False"
      ]
     },
     "execution_count": 62,
     "metadata": {},
     "output_type": "execute_result"
    }
   ],
   "source": [
    "c2.is_minor()"
   ]
  },
  {
   "cell_type": "code",
   "execution_count": null,
   "id": "368af14f",
   "metadata": {},
   "outputs": [],
   "source": []
  }
 ],
 "metadata": {
  "kernelspec": {
   "display_name": ".venv",
   "language": "python",
   "name": "python3"
  },
  "language_info": {
   "codemirror_mode": {
    "name": "ipython",
    "version": 3
   },
   "file_extension": ".py",
   "mimetype": "text/x-python",
   "name": "python",
   "nbconvert_exporter": "python",
   "pygments_lexer": "ipython3",
   "version": "3.9.6"
  }
 },
 "nbformat": 4,
 "nbformat_minor": 5
}
