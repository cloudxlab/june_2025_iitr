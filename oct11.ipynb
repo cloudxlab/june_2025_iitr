{
 "cells": [
  {
   "cell_type": "markdown",
   "id": "ae6dee40",
   "metadata": {},
   "source": [
    "https://docs.djangoproject.com/en/5.2/intro/tutorial01/\n",
    "https://chatgpt.com/share/68ea7797-a290-8010-87aa-14e48f37666c\n",
    " \n",
    "Nigam (Oct 11, 2025, 11:57 AM)\n",
    "can we have a 5 minutes break after we have finished this discussion.\n",
    " \n",
    "You (Oct 11, 2025, 11:57 AM)\n",
    "5 mins break.\n",
    " \n",
    "You (Oct 11, 2025, 12:27 PM)\n",
    "https://pyquest.io/\n",
    " \n",
    "You (Oct 11, 2025, 1:07 PM)\n",
    "https://www.youtube.com/watch?v=YvtpaVoncxQ"
   ]
  }
 ],
 "metadata": {
  "language_info": {
   "name": "python"
  }
 },
 "nbformat": 4,
 "nbformat_minor": 5
}
