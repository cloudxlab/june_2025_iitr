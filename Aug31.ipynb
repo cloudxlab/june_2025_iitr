{
 "cells": [
  {
   "cell_type": "code",
   "execution_count": 3,
   "metadata": {},
   "outputs": [],
   "source": [
    "import math"
   ]
  },
  {
   "cell_type": "code",
   "execution_count": 16,
   "metadata": {},
   "outputs": [],
   "source": [
    "# Ashutosh Mishra (Aug 31, 2025, 10:40 AM)\n",
    "#Compute Root Mean Squared Error -- Lists are the same length\n",
    "def compute_rmse(lst1, lst2):\n",
    "    sq_diffs = 0\n",
    "    \n",
    "    for i in range(len(lst1)):\n",
    "        sq_diffs += (lst1[i] - lst2[i]) ** 2\n",
    "    \n",
    "    rmse = math.sqrt(sq_diffs/len(lst1))\n",
    "    return rmse"
   ]
  },
  {
   "cell_type": "code",
   "execution_count": 27,
   "metadata": {},
   "outputs": [],
   "source": [
    "# Ashutosh Mishra (Aug 31, 2025, 10:40 AM)\n",
    "#Compute Root Mean Squared Error -- Lists are the same length\n",
    "def compute_mse(lst1, lst2):\n",
    "    sq_diffs = 0\n",
    "    \n",
    "    for i in range(len(lst1)):\n",
    "        sq_diffs += (lst1[i] - lst2[i]) ** 2\n",
    "    \n",
    "    rmse = sq_diffs/len(lst1)\n",
    "    return rmse"
   ]
  },
  {
   "cell_type": "code",
   "execution_count": null,
   "metadata": {},
   "outputs": [],
   "source": []
  },
  {
   "cell_type": "code",
   "execution_count": 17,
   "metadata": {},
   "outputs": [
    {
     "data": {
      "text/plain": [
       "1.4142135623730951"
      ]
     },
     "execution_count": 17,
     "metadata": {},
     "output_type": "execute_result"
    }
   ],
   "source": [
    "compute_rmse([2, 3, 4], [3, 1, 5])"
   ]
  },
  {
   "cell_type": "code",
   "execution_count": 18,
   "metadata": {},
   "outputs": [],
   "source": [
    "def compute_mae(actual, predicted):\n",
    "    diff = 0\n",
    "    for i in range(len(actual)):\n",
    "        diff += abs(actual[i] - predicted[i])\n",
    "    return diff/len(actual)"
   ]
  },
  {
   "cell_type": "code",
   "execution_count": 19,
   "metadata": {},
   "outputs": [
    {
     "name": "stdout",
     "output_type": "stream",
     "text": [
      "MAE: 0.3333333333333333, MSE: 0.5773502691896257\n"
     ]
    }
   ],
   "source": [
    "actual = [2, 3, 4]\n",
    "predicted = [2, 3, 5]\n",
    "mae = compute_mae(actual, predicted)\n",
    "mse = compute_rmse(actual, predicted)\n",
    "print(f\"MAE: {mae}, MSE: {mse}\")"
   ]
  },
  {
   "cell_type": "code",
   "execution_count": 28,
   "metadata": {},
   "outputs": [
    {
     "name": "stdout",
     "output_type": "stream",
     "text": [
      "MAE: 0.6666666666666666, MSE: 0.6666666666666666, RMSE: 0.816496580927726\n"
     ]
    }
   ],
   "source": [
    "actual = [2, 3, 4]\n",
    "predicted = [2, 4, 5]\n",
    "mae = compute_mae(actual, predicted)\n",
    "rmse = compute_rmse(actual, predicted)\n",
    "mse = compute_mse(actual, predicted)\n",
    "print(f\"MAE: {mae}, MSE: {mse}, RMSE: {rmse}\")"
   ]
  },
  {
   "cell_type": "code",
   "execution_count": 29,
   "metadata": {},
   "outputs": [
    {
     "name": "stdout",
     "output_type": "stream",
     "text": [
      "MAE: 16665.666666666668, MSE: 833200005.6666666, RMSE: 28865.204064178495\n"
     ]
    }
   ],
   "source": [
    "actual = [2, 3, 4]\n",
    "predicted = [2, 4, 50000]\n",
    "mae = compute_mae(actual, predicted)\n",
    "rmse = compute_rmse(actual, predicted)\n",
    "mse = compute_mse(actual, predicted)\n",
    "print(f\"MAE: {mae}, MSE: {mse}, RMSE: {rmse}\")"
   ]
  },
  {
   "cell_type": "code",
   "execution_count": 30,
   "metadata": {},
   "outputs": [
    {
     "name": "stdout",
     "output_type": "stream",
     "text": [
      "MAE: 1.0, MSE: 1.0, RMSE: 1.0\n"
     ]
    }
   ],
   "source": [
    "actual = [2, 3, 4]\n",
    "predicted = [3, 4, 5]\n",
    "mae = compute_mae(actual, predicted)\n",
    "rmse = compute_rmse(actual, predicted)\n",
    "mse = compute_mse(actual, predicted)\n",
    "print(f\"MAE: {mae}, MSE: {mse}, RMSE: {rmse}\")"
   ]
  },
  {
   "cell_type": "code",
   "execution_count": 31,
   "metadata": {
    "scrolled": true
   },
   "outputs": [
    {
     "name": "stdout",
     "output_type": "stream",
     "text": [
      "MAE: 1.0, MSE: 3.0, RMSE: 1.7320508075688772\n"
     ]
    }
   ],
   "source": [
    "actual = [2, 3, 4]\n",
    "predicted = [2, 3, 7]\n",
    "mae = compute_mae(actual, predicted)\n",
    "rmse = compute_rmse(actual, predicted)\n",
    "mse = compute_mse(actual, predicted)\n",
    "print(f\"MAE: {mae}, MSE: {mse}, RMSE: {rmse}\")"
   ]
  },
  {
   "cell_type": "code",
   "execution_count": 32,
   "metadata": {},
   "outputs": [],
   "source": [
    "# Shubham Sharma (Aug 31, 2025, 10:46 AM)\n",
    "def compute_rmse(actual, predicted):\n",
    "    squared_errors = [(a - p) ** 2 for a, p in zip(actual, predicted)]\n",
    "    avg_squared_errors = sum(squared_errors) / len(actual)\n",
    "    rmse = math.sqrt(avg_squared_errors)\n",
    "    return rmse"
   ]
  },
  {
   "cell_type": "code",
   "execution_count": 33,
   "metadata": {},
   "outputs": [
    {
     "name": "stdout",
     "output_type": "stream",
     "text": [
      "MAE: 0.0, MSE: 0.0, RMSE: 0.0\n"
     ]
    }
   ],
   "source": [
    "actual = [2, 3, 4]\n",
    "predicted = [2, 3, 4]\n",
    "mae = compute_mae(actual, predicted)\n",
    "rmse = compute_rmse(actual, predicted)\n",
    "mse = compute_mse(actual, predicted)\n",
    "print(f\"MAE: {mae}, MSE: {mse}, RMSE: {rmse}\")"
   ]
  },
  {
   "cell_type": "markdown",
   "metadata": {},
   "source": [
    "MAE - human consumption\n",
    "    - increases linearly\n",
    "    - whether you make the change in one value by 3 or make change of 1.0 in three values it same.\n",
    "    \n",
    "MSE - algorithms - gradient descent\n",
    "    - it increase tremendously wrt difference\n"
   ]
  },
  {
   "cell_type": "markdown",
   "metadata": {},
   "source": [
    "# Q: Djikstra - https://www.cs.utexas.edu/~EWD/transcriptions/EWD03xx/EWD340.html"
   ]
  },
  {
   "cell_type": "code",
   "execution_count": null,
   "metadata": {},
   "outputs": [],
   "source": [
    "# Doubt:\n",
    "For sorting, we use key function."
   ]
  },
  {
   "cell_type": "code",
   "execution_count": 36,
   "metadata": {},
   "outputs": [
    {
     "data": {
      "text/plain": [
       "['read', 'the', 'cat', 'dear', 'act']"
      ]
     },
     "execution_count": 36,
     "metadata": {},
     "output_type": "execute_result"
    }
   ],
   "source": [
    "arr = 'read the cat dear act'.split()\n",
    "arr"
   ]
  },
  {
   "cell_type": "code",
   "execution_count": 55,
   "metadata": {},
   "outputs": [],
   "source": [
    "def mykey(word):\n",
    "    print(f\"called on {word}\")\n",
    "    return ''.join(sorted(word))"
   ]
  },
  {
   "cell_type": "code",
   "execution_count": 56,
   "metadata": {},
   "outputs": [
    {
     "data": {
      "text/plain": [
       "['a', 'c', 't']"
      ]
     },
     "execution_count": 56,
     "metadata": {},
     "output_type": "execute_result"
    }
   ],
   "source": [
    "sorted('cat')"
   ]
  },
  {
   "cell_type": "code",
   "execution_count": 39,
   "metadata": {},
   "outputs": [
    {
     "data": {
      "text/plain": [
       "[-2, 1, 3]"
      ]
     },
     "execution_count": 39,
     "metadata": {},
     "output_type": "execute_result"
    }
   ],
   "source": [
    "sorted([1,-2,3])"
   ]
  },
  {
   "cell_type": "code",
   "execution_count": 57,
   "metadata": {},
   "outputs": [
    {
     "name": "stdout",
     "output_type": "stream",
     "text": [
      "called on cat\n"
     ]
    },
    {
     "data": {
      "text/plain": [
       "'act'"
      ]
     },
     "execution_count": 57,
     "metadata": {},
     "output_type": "execute_result"
    }
   ],
   "source": [
    "mykey('cat')"
   ]
  },
  {
   "cell_type": "code",
   "execution_count": 58,
   "metadata": {},
   "outputs": [
    {
     "name": "stdout",
     "output_type": "stream",
     "text": [
      "called on act\n"
     ]
    },
    {
     "data": {
      "text/plain": [
       "'act'"
      ]
     },
     "execution_count": 58,
     "metadata": {},
     "output_type": "execute_result"
    }
   ],
   "source": [
    "mykey('act')"
   ]
  },
  {
   "cell_type": "code",
   "execution_count": 59,
   "metadata": {},
   "outputs": [
    {
     "name": "stdout",
     "output_type": "stream",
     "text": [
      "called on read\n"
     ]
    },
    {
     "data": {
      "text/plain": [
       "'ader'"
      ]
     },
     "execution_count": 59,
     "metadata": {},
     "output_type": "execute_result"
    }
   ],
   "source": [
    "mykey('read')"
   ]
  },
  {
   "cell_type": "code",
   "execution_count": 60,
   "metadata": {},
   "outputs": [
    {
     "name": "stdout",
     "output_type": "stream",
     "text": [
      "called on dear\n"
     ]
    },
    {
     "data": {
      "text/plain": [
       "'ader'"
      ]
     },
     "execution_count": 60,
     "metadata": {},
     "output_type": "execute_result"
    }
   ],
   "source": [
    "mykey('dear')"
   ]
  },
  {
   "cell_type": "code",
   "execution_count": 61,
   "metadata": {},
   "outputs": [
    {
     "data": {
      "text/plain": [
       "['the', 'dear', 'of', 'the', 'jungle', 'read', 'the', 'cat', 'dear', 'act']"
      ]
     },
     "execution_count": 61,
     "metadata": {},
     "output_type": "execute_result"
    }
   ],
   "source": [
    "arr = 'the dear of the jungle read the cat dear act'.split()\n",
    "arr"
   ]
  },
  {
   "cell_type": "code",
   "execution_count": 62,
   "metadata": {},
   "outputs": [
    {
     "data": {
      "text/plain": [
       "['the', 'dear', 'of', 'the', 'jungle', 'read', 'the', 'cat', 'dear', 'act']"
      ]
     },
     "execution_count": 62,
     "metadata": {},
     "output_type": "execute_result"
    }
   ],
   "source": [
    "arr"
   ]
  },
  {
   "cell_type": "code",
   "execution_count": 63,
   "metadata": {},
   "outputs": [],
   "source": [
    "arr.sort()"
   ]
  },
  {
   "cell_type": "code",
   "execution_count": 64,
   "metadata": {},
   "outputs": [
    {
     "data": {
      "text/plain": [
       "['act', 'cat', 'dear', 'dear', 'jungle', 'of', 'read', 'the', 'the', 'the']"
      ]
     },
     "execution_count": 64,
     "metadata": {},
     "output_type": "execute_result"
    }
   ],
   "source": [
    "arr"
   ]
  },
  {
   "cell_type": "code",
   "execution_count": 69,
   "metadata": {},
   "outputs": [
    {
     "name": "stdout",
     "output_type": "stream",
     "text": [
      "called on act\n",
      "called on cat\n",
      "called on dear\n",
      "called on dear\n",
      "called on read\n",
      "called on jungle\n",
      "called on the\n",
      "called on the\n",
      "called on the\n",
      "called on of\n"
     ]
    }
   ],
   "source": [
    "arr.sort(key=mykey)"
   ]
  },
  {
   "cell_type": "code",
   "execution_count": 54,
   "metadata": {},
   "outputs": [
    {
     "data": {
      "text/plain": [
       "['act', 'cat', 'dear', 'dear', 'read', 'jungle', 'the', 'the', 'the', 'of']"
      ]
     },
     "execution_count": 54,
     "metadata": {},
     "output_type": "execute_result"
    }
   ],
   "source": [
    "arr"
   ]
  },
  {
   "cell_type": "code",
   "execution_count": 66,
   "metadata": {},
   "outputs": [],
   "source": [
    "def interest(p, r, t):\n",
    "    return p*r*t/100"
   ]
  },
  {
   "cell_type": "code",
   "execution_count": 67,
   "metadata": {},
   "outputs": [
    {
     "data": {
      "text/plain": [
       "1840.0"
      ]
     },
     "execution_count": 67,
     "metadata": {},
     "output_type": "execute_result"
    }
   ],
   "source": [
    "interest(p=400, r=46, t=10)"
   ]
  },
  {
   "cell_type": "code",
   "execution_count": 71,
   "metadata": {},
   "outputs": [],
   "source": [
    "def printer(x):\n",
    "    if type(x) == int:\n",
    "        print(f\"INT: {x}\")\n",
    "    else:\n",
    "        print(f\"*{x}*\")"
   ]
  },
  {
   "cell_type": "code",
   "execution_count": 73,
   "metadata": {},
   "outputs": [
    {
     "name": "stdout",
     "output_type": "stream",
     "text": [
      "INT: 4\n"
     ]
    }
   ],
   "source": [
    "printer(4)"
   ]
  },
  {
   "cell_type": "code",
   "execution_count": 74,
   "metadata": {},
   "outputs": [
    {
     "name": "stdout",
     "output_type": "stream",
     "text": [
      "*4.0*\n"
     ]
    }
   ],
   "source": [
    "printer(4.0)"
   ]
  },
  {
   "cell_type": "code",
   "execution_count": 75,
   "metadata": {},
   "outputs": [],
   "source": [
    "def pretty_printer(arr, pf):\n",
    "    for e in arr:\n",
    "        pf(e)"
   ]
  },
  {
   "cell_type": "code",
   "execution_count": 76,
   "metadata": {},
   "outputs": [
    {
     "name": "stdout",
     "output_type": "stream",
     "text": [
      "INT: 2\n",
      "*2.0*\n",
      "*sandeep*\n"
     ]
    }
   ],
   "source": [
    "pretty_printer([2, 2.0, \"sandeep\"], printer)"
   ]
  },
  {
   "cell_type": "code",
   "execution_count": 83,
   "metadata": {},
   "outputs": [
    {
     "data": {
      "text/plain": [
       "function"
      ]
     },
     "execution_count": 83,
     "metadata": {},
     "output_type": "execute_result"
    }
   ],
   "source": [
    "type(pretty_printer)\n"
   ]
  },
  {
   "cell_type": "code",
   "execution_count": null,
   "metadata": {},
   "outputs": [],
   "source": [
    "# You have a list of customers: Jack, John, Vikas"
   ]
  },
  {
   "cell_type": "code",
   "execution_count": 84,
   "metadata": {},
   "outputs": [],
   "source": [
    "customers = [\"Jack\", \"John\", \"Vikas\"]"
   ]
  },
  {
   "cell_type": "code",
   "execution_count": 85,
   "metadata": {},
   "outputs": [
    {
     "ename": "SyntaxError",
     "evalue": "invalid syntax (<ipython-input-85-5b1a3a8ab558>, line 1)",
     "output_type": "error",
     "traceback": [
      "\u001b[0;36m  File \u001b[0;32m\"<ipython-input-85-5b1a3a8ab558>\"\u001b[0;36m, line \u001b[0;32m1\u001b[0m\n\u001b[0;31m    each customer has got an id and first name, last name\u001b[0m\n\u001b[0m                ^\u001b[0m\n\u001b[0;31mSyntaxError\u001b[0m\u001b[0;31m:\u001b[0m invalid syntax\n"
     ]
    }
   ],
   "source": [
    "# each customer has got an id , first name, last name"
   ]
  },
  {
   "cell_type": "code",
   "execution_count": 88,
   "metadata": {},
   "outputs": [],
   "source": [
    "customers = [\n",
    "    (1, \"Jack\", 'G'),\n",
    "    (2, \"John\", 'Last'),\n",
    "    (3, \"Vikas\", 'S'),\n",
    "]"
   ]
  },
  {
   "cell_type": "code",
   "execution_count": null,
   "metadata": {},
   "outputs": [],
   "source": [
    "customers = [\n",
    "    {\"id\":1, \"fname\":\"Jack\", \"lname\":'G'},\n",
    "    {\"id\":2, \"fname\":\"John\", \"lname\":'Last'},\n",
    "    {\"id\":3, \"fname\":\"Vikas\", \"lname\":'S'}\n",
    "]"
   ]
  },
  {
   "cell_type": "code",
   "execution_count": null,
   "metadata": {},
   "outputs": [],
   "source": [
    "customers = {\n",
    "    1: (1, \"Jack\", 'G'),\n",
    "    2: (2, \"John\", 'Last'),\n",
    "    3: (3, \"Vikas\", 'S')\n",
    "}"
   ]
  },
  {
   "cell_type": "code",
   "execution_count": 91,
   "metadata": {},
   "outputs": [],
   "source": [
    "customers = [\n",
    "    (1, \"Jack\", 'G'),\n",
    "    (2, \"John\", 'Last'),\n",
    "    (3, \"Vikas\", 'S'),\n",
    "]\n",
    "fname_customers = {}\n",
    "for c in customers:\n",
    "    if c[1] in fname_customers:\n",
    "        fname_customers[c[1]].append(c)\n",
    "    else:\n",
    "    fname_customersname_customers[c[1]] = [c]\n",
    "    "
   ]
  },
  {
   "cell_type": "code",
   "execution_count": 92,
   "metadata": {},
   "outputs": [
    {
     "data": {
      "text/plain": [
       "{'Jack': [(1, 'Jack', 'G')],\n",
       " 'John': [(2, 'John', 'Last')],\n",
       " 'Vikas': [(3, 'Vikas', 'S')]}"
      ]
     },
     "execution_count": 92,
     "metadata": {},
     "output_type": "execute_result"
    }
   ],
   "source": [
    "fname_customers"
   ]
  },
  {
   "cell_type": "code",
   "execution_count": 94,
   "metadata": {},
   "outputs": [
    {
     "data": {
      "text/plain": [
       "139661252256320"
      ]
     },
     "execution_count": 94,
     "metadata": {},
     "output_type": "execute_result"
    }
   ],
   "source": [
    "id(fname_customers)"
   ]
  },
  {
   "cell_type": "code",
   "execution_count": 93,
   "metadata": {},
   "outputs": [],
   "source": [
    "# Save an object such that it can be carried over to another machine?\n",
    "# Serialization"
   ]
  },
  {
   "cell_type": "code",
   "execution_count": 95,
   "metadata": {},
   "outputs": [
    {
     "data": {
      "text/plain": [
       "'{\"Jack\": [[1, \"Jack\", \"G\"]], \"John\": [[2, \"John\", \"Last\"]], \"Vikas\": [[3, \"Vikas\", \"S\"]]}'"
      ]
     },
     "execution_count": 95,
     "metadata": {},
     "output_type": "execute_result"
    }
   ],
   "source": [
    "import json\n",
    "json.dumps(fname_customers)"
   ]
  },
  {
   "cell_type": "code",
   "execution_count": 97,
   "metadata": {},
   "outputs": [],
   "source": [
    "import json\n",
    "json.dump(fname_customers, open(\"fname_customers.json\",\"w\"))"
   ]
  },
  {
   "cell_type": "code",
   "execution_count": 98,
   "metadata": {},
   "outputs": [
    {
     "name": "stdout",
     "output_type": "stream",
     "text": [
      "{\"Jack\": [[1, \"Jack\", \"G\"]], \"John\": [[2, \"John\", \"Last\"]], \"Vikas\": [[3, \"Vikas\", \"S\"]]}"
     ]
    }
   ],
   "source": [
    "!cat fname_customers.json"
   ]
  },
  {
   "cell_type": "code",
   "execution_count": 128,
   "metadata": {},
   "outputs": [],
   "source": [
    "names = [\"Sandeep Giri\", 'G%K', 'A']"
   ]
  },
  {
   "cell_type": "code",
   "execution_count": 129,
   "metadata": {},
   "outputs": [
    {
     "data": {
      "text/plain": [
       "'Sandeep Giri%G%K%A'"
      ]
     },
     "execution_count": 129,
     "metadata": {},
     "output_type": "execute_result"
    }
   ],
   "source": [
    "# quoteing % with _, _ it put _ \n",
    "G_K -> G__K\n",
    "G__K -> G____K\n",
    "G%K -> G_%K\n",
    "\n",
    "s = '%'.join(names)\n",
    "s\n"
   ]
  },
  {
   "cell_type": "code",
   "execution_count": 130,
   "metadata": {},
   "outputs": [],
   "source": [
    "_names = s.split('%')"
   ]
  },
  {
   "cell_type": "code",
   "execution_count": 131,
   "metadata": {},
   "outputs": [
    {
     "data": {
      "text/plain": [
       "False"
      ]
     },
     "execution_count": 131,
     "metadata": {},
     "output_type": "execute_result"
    }
   ],
   "source": [
    "_names == names"
   ]
  },
  {
   "cell_type": "code",
   "execution_count": 132,
   "metadata": {},
   "outputs": [],
   "source": [
    "_ns = 'Sandeep_GK_A'"
   ]
  },
  {
   "cell_type": "code",
   "execution_count": 137,
   "metadata": {},
   "outputs": [
    {
     "name": "stdout",
     "output_type": "stream",
     "text": [
      "San\\\\\\\\deep\"\n"
     ]
    }
   ],
   "source": [
    "name = \"San\\\\\\\\\\\\\\\\deep\\\"\"\n",
    "print(name)"
   ]
  },
  {
   "cell_type": "code",
   "execution_count": 147,
   "metadata": {},
   "outputs": [],
   "source": [
    "l = [\"Sandeep Giri\\\"\", 'G%K', 'A']\n",
    "txt = json.dumps(l)"
   ]
  },
  {
   "cell_type": "code",
   "execution_count": 148,
   "metadata": {},
   "outputs": [
    {
     "data": {
      "text/plain": [
       "'[\"Sandeep Giri\\\\\"\", \"G%K\", \"A\"]'"
      ]
     },
     "execution_count": 148,
     "metadata": {},
     "output_type": "execute_result"
    }
   ],
   "source": [
    "txt"
   ]
  },
  {
   "cell_type": "code",
   "execution_count": 149,
   "metadata": {},
   "outputs": [
    {
     "data": {
      "text/plain": [
       "30"
      ]
     },
     "execution_count": 149,
     "metadata": {},
     "output_type": "execute_result"
    }
   ],
   "source": [
    "len(txt)"
   ]
  },
  {
   "cell_type": "code",
   "execution_count": 150,
   "metadata": {},
   "outputs": [
    {
     "data": {
      "text/plain": [
       "'['"
      ]
     },
     "execution_count": 150,
     "metadata": {},
     "output_type": "execute_result"
    }
   ],
   "source": [
    "txt[0]"
   ]
  },
  {
   "cell_type": "code",
   "execution_count": 151,
   "metadata": {},
   "outputs": [
    {
     "data": {
      "text/plain": [
       "str"
      ]
     },
     "execution_count": 151,
     "metadata": {},
     "output_type": "execute_result"
    }
   ],
   "source": [
    "type(txt)"
   ]
  },
  {
   "cell_type": "code",
   "execution_count": 154,
   "metadata": {},
   "outputs": [
    {
     "data": {
      "text/plain": [
       "'[\"Sandeep Giri\\\\\"\", \"G%K\", \"A\"]'"
      ]
     },
     "execution_count": 154,
     "metadata": {},
     "output_type": "execute_result"
    }
   ],
   "source": [
    "txt"
   ]
  },
  {
   "cell_type": "code",
   "execution_count": 157,
   "metadata": {},
   "outputs": [
    {
     "data": {
      "text/plain": [
       "['Sandeep Giri\"', 'G%K', 'A']"
      ]
     },
     "execution_count": 157,
     "metadata": {},
     "output_type": "execute_result"
    }
   ],
   "source": [
    "json.loads(txt)"
   ]
  },
  {
   "cell_type": "code",
   "execution_count": 156,
   "metadata": {},
   "outputs": [
    {
     "data": {
      "text/plain": [
       "True"
      ]
     },
     "execution_count": 156,
     "metadata": {},
     "output_type": "execute_result"
    }
   ],
   "source": [
    "json.loads(txt) == l"
   ]
  },
  {
   "cell_type": "code",
   "execution_count": 165,
   "metadata": {},
   "outputs": [],
   "source": [
    "arr = [1, 2.0, True, (\"[Sandeep<>]\", {\"name\": 45})]"
   ]
  },
  {
   "cell_type": "code",
   "execution_count": 166,
   "metadata": {},
   "outputs": [],
   "source": [
    "s = json.dumps(arr)"
   ]
  },
  {
   "cell_type": "code",
   "execution_count": 163,
   "metadata": {},
   "outputs": [
    {
     "data": {
      "text/plain": [
       "'[1, 2.0, true, [\"[Sandeep<>]\", {\"name\": 45}]]'"
      ]
     },
     "execution_count": 163,
     "metadata": {},
     "output_type": "execute_result"
    }
   ],
   "source": [
    "s"
   ]
  },
  {
   "cell_type": "code",
   "execution_count": 170,
   "metadata": {},
   "outputs": [],
   "source": [
    "s1 = '[1, 2.0, true, [\"[Sandeep<>]\", {\"name\": 45}]]'"
   ]
  },
  {
   "cell_type": "code",
   "execution_count": 171,
   "metadata": {},
   "outputs": [
    {
     "data": {
      "text/plain": [
       "'[1, 2.0, true, [\"[Sandeep<>]\", {\"name\": 45}]]'"
      ]
     },
     "execution_count": 171,
     "metadata": {},
     "output_type": "execute_result"
    }
   ],
   "source": [
    "s1"
   ]
  },
  {
   "cell_type": "code",
   "execution_count": 173,
   "metadata": {},
   "outputs": [],
   "source": [
    "result = json.loads(s1)"
   ]
  },
  {
   "cell_type": "code",
   "execution_count": 178,
   "metadata": {},
   "outputs": [
    {
     "data": {
      "text/plain": [
       "[1, 2.0, True, ['[Sandeep<>]', {'name': 45}]]"
      ]
     },
     "execution_count": 178,
     "metadata": {},
     "output_type": "execute_result"
    }
   ],
   "source": [
    "result"
   ]
  },
  {
   "cell_type": "code",
   "execution_count": 183,
   "metadata": {},
   "outputs": [
    {
     "data": {
      "text/plain": [
       "45"
      ]
     },
     "execution_count": 183,
     "metadata": {},
     "output_type": "execute_result"
    }
   ],
   "source": [
    "result[3][1]['name']"
   ]
  },
  {
   "cell_type": "code",
   "execution_count": 184,
   "metadata": {},
   "outputs": [],
   "source": [
    "# Compiler Compilers\n"
   ]
  },
  {
   "cell_type": "code",
   "execution_count": null,
   "metadata": {},
   "outputs": [],
   "source": [
    "# Q: Evaluate an expression\n",
    "# 1: Support only additions with single digit numbers, no spaces\n",
    "\"1+2+3\"\n",
    "\n",
    "# 2: Support subtractions with multi digit numbers and spaces\n",
    "# 3. Support multiplications/division with single digit and no spaces\n",
    "\n",
    "1+2*3+5*7*6*8+9\n",
    "\n",
    "# 4. Support brackets\n",
    "\n",
    "s = \"1+2+3*(4+5)/(6+(8*9-1))\" #BODMAS\n"
   ]
  },
  {
   "cell_type": "code",
   "execution_count": 185,
   "metadata": {},
   "outputs": [],
   "source": [
    "# anltr, javacc, yacc"
   ]
  },
  {
   "cell_type": "code",
   "execution_count": null,
   "metadata": {},
   "outputs": [],
   "source": []
  }
 ],
 "metadata": {
  "kernelspec": {
   "display_name": "Python 3",
   "language": "python",
   "name": "python3"
  },
  "language_info": {
   "codemirror_mode": {
    "name": "ipython",
    "version": 3
   },
   "file_extension": ".py",
   "mimetype": "text/x-python",
   "name": "python",
   "nbconvert_exporter": "python",
   "pygments_lexer": "ipython3",
   "version": "3.6.8"
  },
  "toc": {
   "base_numbering": 1,
   "nav_menu": {},
   "number_sections": true,
   "sideBar": true,
   "skip_h1_title": false,
   "title_cell": "Table of Contents",
   "title_sidebar": "Contents",
   "toc_cell": false,
   "toc_position": {},
   "toc_section_display": true,
   "toc_window_display": false
  }
 },
 "nbformat": 4,
 "nbformat_minor": 2
}
