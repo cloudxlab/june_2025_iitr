{
 "cells": [
  {
   "cell_type": "code",
   "execution_count": 1,
   "metadata": {},
   "outputs": [],
   "source": [
    "# Class / Objects\n",
    "\n",
    "# Sorting Algorithms\n",
    "\n",
    "# Regular Expression"
   ]
  },
  {
   "cell_type": "code",
   "execution_count": 3,
   "metadata": {},
   "outputs": [
    {
     "data": {
      "text/plain": [
       "[-1, 1, 3, 3, 5, 10]"
      ]
     },
     "execution_count": 3,
     "metadata": {},
     "output_type": "execute_result"
    }
   ],
   "source": [
    "# Sorting Algorithms\n",
    "\n",
    "arr = [1, 3, -1, 5, 3, 10]\n",
    "arr.sort()\n",
    "arr"
   ]
  },
  {
   "cell_type": "code",
   "execution_count": null,
   "metadata": {},
   "outputs": [],
   "source": [
    "#[1, 3, -1, 5, 3, 10]\n",
    "\n",
    "# find minimim recursivelive\n"
   ]
  },
  {
   "cell_type": "code",
   "execution_count": null,
   "metadata": {},
   "outputs": [],
   "source": [
    "[-1, 1, 3, 3, 5, 10]"
   ]
  },
  {
   "cell_type": "markdown",
   "metadata": {},
   "source": [
    "Assignment: Code your own version of sorting.\n",
    "\n",
    " Assignment: Look at the Binary Search Tree animation and code it.\n",
    "https://yongdanielliang.github.io/animation/web/BST.html\n",
    "\n",
    " Look at Merge Sort, code it\n",
    "https://visualgo.net/en/sorting?slide=1\n",
    "\n",
    " Look at quick sort , code it\n",
    "https://yongdanielliang.github.io/animation/web/QuickSortNew.html\n"
   ]
  },
  {
   "cell_type": "code",
   "execution_count": 1,
   "metadata": {},
   "outputs": [],
   "source": [
    "# \n",
    "def mysort(arr):\n",
    "    for i in range(len(arr)):\n",
    "        for j in range(i+1, len(arr)):\n",
    "           if arr[j] < arr[i]:\n",
    "               arr[i], arr[j] = arr[j], arr[i]"
   ]
  },
  {
   "cell_type": "code",
   "execution_count": 2,
   "metadata": {},
   "outputs": [
    {
     "name": "stdout",
     "output_type": "stream",
     "text": [
      "[-1, 1, 3, 3, 5, 10]\n"
     ]
    }
   ],
   "source": [
    "arr = [1, 3, -1, 5, 3, 10]\n",
    "mysort(arr)\n",
    "print(arr)"
   ]
  },
  {
   "cell_type": "code",
   "execution_count": null,
   "metadata": {},
   "outputs": [],
   "source": [
    "# N-1 + N-2 + N- 3 + .... + 3 + 2 + 1 + 0\n",
    "# N * (N - 1) / 2\n",
    "\n",
    "# O(N**2)\n"
   ]
  },
  {
   "cell_type": "code",
   "execution_count": null,
   "metadata": {},
   "outputs": [],
   "source": [
    "# Tree.insert(o, 10) -> o.insert(10)"
   ]
  },
  {
   "cell_type": "code",
   "execution_count": 7,
   "metadata": {},
   "outputs": [],
   "source": [
    "class Tree:\n",
    "    def __init__(self): # tree = Tree()\n",
    "        self.root = None\n",
    "        \n",
    "    def insert(self, val):\n",
    "        node = Node(val)\n",
    "        if self.root:\n",
    "            self.root.insert(node)\n",
    "        else:\n",
    "            self.root = node\n",
    "    def print_sorted(self):\n",
    "        if self.root:\n",
    "            lst = self.root.get_sorted()\n",
    "            print(lst)\n",
    "            return lst\n",
    "        return []\n",
    "    def exists(self, val):\n",
    "        if self.root:\n",
    "            return self.root.find(val) != None\n",
    "        return False\n",
    "    def delete(self, val):\n",
    "        if self.root:\n",
    "            # find parent of val\n",
    "            # if parent == self.root then set self.root = None\n",
    "            \n",
    "        return None"
   ]
  },
  {
   "cell_type": "code",
   "execution_count": 15,
   "metadata": {},
   "outputs": [],
   "source": [
    "#BST\n",
    "\n",
    "class Node:\n",
    "    def __init__(self, val):\n",
    "        self.val = val\n",
    "        self.left = None\n",
    "        self.right = None\n",
    "        \n",
    "    def insert(self, new_node):\n",
    "        if new_node.val < self.val:\n",
    "            # insert left\n",
    "            if self.left:\n",
    "                self.left.insert(new_node)\n",
    "            else:\n",
    "                self.left = new_node\n",
    "        else:\n",
    "            if self.right:\n",
    "                self.right.insert(new_node)\n",
    "            else:\n",
    "                self.right = new_node\n",
    "    def get_sorted(self):\n",
    "        ret = []\n",
    "        if self.left: # self.left != None\n",
    "            ret += self.left.get_sorted() # ret.extend(self.left.get_sorted())\n",
    "        ret.append(self.val)\n",
    "        if self.right:\n",
    "            ret += self.right.get_sorted()\n",
    "        return ret\n",
    "    def find(self, val):\n",
    "        if self.val == val:\n",
    "            return self\n",
    "        elif val < self.val:\n",
    "            if self.left:\n",
    "                return self.left.find(val)\n",
    "        else:\n",
    "            if self.right:\n",
    "                return self.right.find(val)\n",
    "        return None\n",
    "    \n",
    "    def delete(self, node):\n",
    "        "
   ]
  },
  {
   "cell_type": "code",
   "execution_count": 2,
   "metadata": {},
   "outputs": [
    {
     "data": {
      "text/plain": [
       "[[1, 2, 3]]"
      ]
     },
     "execution_count": 2,
     "metadata": {},
     "output_type": "execute_result"
    }
   ],
   "source": [
    "ret = []\n",
    "leftelements = [1,2,3]\n",
    "ret.append(leftelements)\n",
    "ret"
   ]
  },
  {
   "cell_type": "code",
   "execution_count": 3,
   "metadata": {},
   "outputs": [
    {
     "data": {
      "text/plain": [
       "[1, 2, 3]"
      ]
     },
     "execution_count": 3,
     "metadata": {},
     "output_type": "execute_result"
    }
   ],
   "source": [
    "ret = []\n",
    "leftelements = [1,2,3]\n",
    "ret.extend(leftelements)\n",
    "ret"
   ]
  },
  {
   "cell_type": "code",
   "execution_count": 6,
   "metadata": {},
   "outputs": [
    {
     "data": {
      "text/plain": [
       "[[1, 2, 3], 1, 2, 3]"
      ]
     },
     "execution_count": 6,
     "metadata": {},
     "output_type": "execute_result"
    }
   ],
   "source": [
    "ret.insert(0, leftelements)\n",
    "ret"
   ]
  },
  {
   "cell_type": "code",
   "execution_count": 16,
   "metadata": {},
   "outputs": [],
   "source": [
    "tree = Tree()\n",
    "for i in [1, 3, -1, 5, 3, 10]:\n",
    "    tree.insert(i)"
   ]
  },
  {
   "cell_type": "code",
   "execution_count": 17,
   "metadata": {},
   "outputs": [
    {
     "name": "stdout",
     "output_type": "stream",
     "text": [
      "[-1, 1, 3, 3, 5, 10]\n"
     ]
    },
    {
     "data": {
      "text/plain": [
       "[-1, 1, 3, 3, 5, 10]"
      ]
     },
     "execution_count": 17,
     "metadata": {},
     "output_type": "execute_result"
    }
   ],
   "source": [
    "tree.print_sorted()"
   ]
  },
  {
   "cell_type": "code",
   "execution_count": 19,
   "metadata": {},
   "outputs": [
    {
     "data": {
      "text/plain": [
       "False"
      ]
     },
     "execution_count": 19,
     "metadata": {},
     "output_type": "execute_result"
    }
   ],
   "source": [
    "tree.exists(-5)"
   ]
  },
  {
   "cell_type": "code",
   "execution_count": null,
   "metadata": {},
   "outputs": [],
   "source": [
    "# TODO:\n",
    "- Add method in Tree - delete\n",
    "- exists(x)\n"
   ]
  },
  {
   "cell_type": "code",
   "execution_count": 21,
   "metadata": {},
   "outputs": [],
   "source": [
    "import math"
   ]
  },
  {
   "cell_type": "code",
   "execution_count": 28,
   "metadata": {},
   "outputs": [
    {
     "name": "stdout",
     "output_type": "stream",
     "text": [
      "False\n"
     ]
    }
   ],
   "source": [
    "x = 6\n",
    "print(x and x > 10)"
   ]
  },
  {
   "cell_type": "code",
   "execution_count": 29,
   "metadata": {},
   "outputs": [
    {
     "name": "stdout",
     "output_type": "stream",
     "text": [
      "True\n"
     ]
    }
   ],
   "source": [
    "x = 19\n",
    "print(x and x > 10)"
   ]
  },
  {
   "cell_type": "code",
   "execution_count": 27,
   "metadata": {
    "scrolled": true
   },
   "outputs": [
    {
     "name": "stdout",
     "output_type": "stream",
     "text": [
      "None\n"
     ]
    }
   ],
   "source": [
    "x = None\n",
    "print(x and x > 10)"
   ]
  },
  {
   "cell_type": "code",
   "execution_count": 31,
   "metadata": {},
   "outputs": [
    {
     "name": "stdout",
     "output_type": "stream",
     "text": [
      "2.449489742783178\n"
     ]
    }
   ],
   "source": [
    "x = 6\n",
    "print(x and math.sqrt(x))"
   ]
  },
  {
   "cell_type": "code",
   "execution_count": null,
   "metadata": {},
   "outputs": [],
   "source": [
    "# Function minima  - convex list, function\n",
    "\n",
    "# Merge Sort"
   ]
  }
 ],
 "metadata": {
  "kernelspec": {
   "display_name": "Python 3",
   "language": "python",
   "name": "python3"
  },
  "language_info": {
   "codemirror_mode": {
    "name": "ipython",
    "version": 3
   },
   "file_extension": ".py",
   "mimetype": "text/x-python",
   "name": "python",
   "nbconvert_exporter": "python",
   "pygments_lexer": "ipython3",
   "version": "3.6.8"
  },
  "toc": {
   "base_numbering": 1,
   "nav_menu": {},
   "number_sections": true,
   "sideBar": true,
   "skip_h1_title": false,
   "title_cell": "Table of Contents",
   "title_sidebar": "Contents",
   "toc_cell": false,
   "toc_position": {},
   "toc_section_display": true,
   "toc_window_display": false
  }
 },
 "nbformat": 4,
 "nbformat_minor": 5
}
