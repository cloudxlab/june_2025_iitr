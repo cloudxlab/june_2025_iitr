{
 "cells": [
  {
   "cell_type": "markdown",
   "metadata": {},
   "source": [
    "# GK"
   ]
  },
  {
   "cell_type": "code",
   "execution_count": 1,
   "metadata": {},
   "outputs": [],
   "source": [
    "def xymini(f, start, end, tolerance=1e-3):\n",
    "    while True:\n",
    "        mid1= (start + end)/2\n",
    "        midl = (start + mid1)/2\n",
    "        midr = (mid1 + end)/2\n",
    "    \n",
    "        f1 = f(mid1)\n",
    "        fl = f(midl)\n",
    "        fr = f(midr)\n",
    "        \n",
    "        #print(f\"start: {start}, end: {end}, mid1: {mid1}\")\n",
    "        #print(f\" midl: {midl}, {mid1} , {midr}\")\n",
    "        #print(fl,f1,fr,\"----\")\n",
    "        \n",
    "        if fl<f1 and fr>f1:\n",
    "            end = mid1\n",
    "        elif fl>f1 and fr<f1:\n",
    "            start = mid1\n",
    "        elif f1<fr and f1<fl and fl<fr:\n",
    "            start = midl\n",
    "            end= mid1\n",
    "        elif f1<fr and f1<fl and fr<fl:\n",
    "            start = mid1\n",
    "            end= midr\n",
    "        elif abs(fl-fr) <=tolerance:\n",
    "            return mid1"
   ]
  },
  {
   "cell_type": "code",
   "execution_count": 2,
   "metadata": {},
   "outputs": [],
   "source": [
    "def check_minima(f):\n",
    "    check_set=[-100,-10,-1,0,1,10,100]\n",
    "    f_result=[]\n",
    "    for pos in check_set:\n",
    "        f_result.append(f(pos))\n",
    "        \n",
    "    min_index = f_result.index(min(f_result))\n",
    "    start=check_set[min_index-1]\n",
    "    end=check_set[min_index+1]\n",
    "    \n",
    "    if min_index==0 or min_index==len(check_set):\n",
    "        return \"Not convex function, Try changing the function\"\n",
    "    minx=xymini(f,start,end)    \n",
    "\n",
    "    return minx, f(minx)"
   ]
  },
  {
   "cell_type": "markdown",
   "metadata": {},
   "source": [
    "# Supriya"
   ]
  },
  {
   "cell_type": "code",
   "execution_count": null,
   "metadata": {},
   "outputs": [],
   "source": [
    "def min_val(f, lower=-10, upper=10, tol=1e-7):\n",
    "    \n",
    "    # Find minimum of function f(x) using modified binary search.\n",
    "\n",
    "    while (upper - lower) > tol:\n",
    "        # split into two mid points \n",
    "        \n",
    "        mid1 = lower + (upper - lower) / 3\n",
    "        mid2 = upper - (upper - lower) / 3\n",
    "        \n",
    "        #print(f\"mid1 = {mid1}, mid2 ={mid2}\")\n",
    "\n",
    "        f1, f2 = f(mid1), f(mid2)\n",
    "\n",
    "        if f1 < f2:\n",
    "            # minimum lies in [lower, mid2]\n",
    "            upper = mid2\n",
    "        else:\n",
    "            # minimum lies in [mid1, upper]\n",
    "            lower = mid1\n",
    "\n",
    "    x_min = (lower + upper) / 2\n",
    "    return x_min, f(x_min)\n",
    "\n"
   ]
  },
  {
   "cell_type": "markdown",
   "metadata": {},
   "source": [
    "# Nigam"
   ]
  },
  {
   "cell_type": "code",
   "execution_count": null,
   "metadata": {},
   "outputs": [],
   "source": [
    "# Nigam\n",
    "def grad_func(x):\n",
    "    # this function finds the gradient for the function x ** 6 - 30 * x ** 3 - 5 * x + 10\n",
    "    # it takes value of x for which we want to calculate \n",
    "    # it returns a tuple having three values - 1) value of x for which calculation was done 2) value of the function \n",
    "    # and 3) gradient of the function at point x\n",
    "    \n",
    "    value = x ** 6 - 30 * x ** 3 - 5 * x + 10\n",
    "    \n",
    "    #print('value', value)\n",
    "    z = x + .01 * x\n",
    "    value1 = z ** 6 - 30 * z ** 3 - 5 * z + 10\n",
    "    #print('value1', value1)\n",
    "    #print('x', x)\n",
    "    #print('z', z)\n",
    "    if x != 0:\n",
    "        grad = (value1 - value) / (z - x)\n",
    "        return (x, value, grad)"
   ]
  },
  {
   "cell_type": "code",
   "execution_count": null,
   "metadata": {},
   "outputs": [],
   "source": [
    "def find_closest():    \n",
    "    # This function helps in finding the two values of x for which slope goes from being positive to negative (or other way)\n",
    "    # finds the two least values of x that makes the slope positive and negative. It assumes that values have been populated \n",
    "    # in the list store_val. It returns least value of x with positive and negative slopes\n",
    "    \n",
    "    min_positive = 1000000\n",
    "    min_negative = -100000\n",
    "    for i in range(10):\n",
    "        y = store_val[i][2]\n",
    "        \n",
    "        if y > 0:\n",
    "            if min_positive > y:\n",
    "                min_positive = y\n",
    "                \n",
    "        else:\n",
    "            if min_negative < y:\n",
    "                min_negative = y\n",
    "        print('min_positive', min_positive)\n",
    "        print('min_negative', min_negative)\n",
    "\n",
    "        for i in range(len(store_val)):\n",
    "            if store_val[i][2] == min_positive:\n",
    "                x_min_positive = store_val[i][0]\n",
    "            if store_val[i][2] == min_negative:\n",
    "                x_min_negative = store_val[i][0]\n",
    "\n",
    "        print('x_min_positive', x_min_positive)\n",
    "        print('x_min_negative', x_min_negative)\n",
    "\n",
    "\n",
    "        return x_min_positive, x_min_negative\n",
    "###\n",
    "x = 1000000\n",
    "counter = 0\n",
    "store_val = []\n",
    "\n",
    "while x >= 1:\n",
    "    x, value, grad = grad_func(x)\n",
    "    store_val.append((x, value, grad))\n",
    "    #print('O', x, value, grad)\n",
    "    counter = counter + 1\n",
    "    x = x / 10\n",
    "\n",
    "x = -1000000\n",
    "counter = 0\n",
    "#store_val = []\n",
    "\n",
    "###\n",
    "while x <= -1:\n",
    "    x, value, grad = grad_func(x)\n",
    "    store_val.append((x, value, grad))\n",
    "    #print('O', x, value, grad)\n",
    "    counter = counter + 1\n",
    "    x = x / 10\n",
    "\n",
    "print('end', len(store_val))\n",
    "\n",
    "max, min = find_closest()\n",
    "print(min)\n",
    "print(max)\n",
    "\n",
    "store_val = []\n",
    "print('a', len(store_val))\n",
    "i = min\n",
    "inc = (max - min) / 10\n",
    "print('i', i)\n",
    "while i < max:\n",
    "    print('new', i)\n",
    "    x, value, grad = grad_func(i)\n",
    "    store_val.append((x, value, grad))\n",
    "    i = i + inc\n",
    "print('b', len(store_val))\n",
    "\n",
    "max, min = find_closest()\n",
    "print(min)\n",
    "print(max)"
   ]
  },
  {
   "cell_type": "markdown",
   "metadata": {},
   "source": [
    "# Question:\n",
    "    You have an array of numbers which are convex. [10, 9, 7, 5, 4, -2, -3, 11, 15]\n",
    "    There is only one minima that exist. No two adjacent values are same.\n",
    "    Find the index of the minimum value.\n",
    "    \n",
    "Input: [10, 9, 7, 5, 4, -2, -3, 11, 15]\n",
    "\n",
    "Answer: 6\n",
    "\n",
    "\n",
    "Input: [-1, -2, -8, -20, 9, 10, 30, 100\n",
    "\n",
    "Answer: 3\n",
    "\n"
   ]
  },
  {
   "cell_type": "code",
   "execution_count": 7,
   "metadata": {},
   "outputs": [],
   "source": [
    "def find_min(arr):\n",
    "    if len(arr) == 0:\n",
    "        return -1\n",
    "    mn = arr[0]\n",
    "    found = 0\n",
    "    i = 1\n",
    "    while i < len(arr):\n",
    "        if arr[i] < mn:\n",
    "            mn = arr[i]\n",
    "            found = i\n",
    "        i += 1\n",
    "    return found"
   ]
  },
  {
   "cell_type": "code",
   "execution_count": 8,
   "metadata": {},
   "outputs": [
    {
     "data": {
      "text/plain": [
       "6"
      ]
     },
     "execution_count": 8,
     "metadata": {},
     "output_type": "execute_result"
    }
   ],
   "source": [
    "find_min([10, 9, 7, 5, 4, -2, -3, 11, 15])"
   ]
  },
  {
   "cell_type": "code",
   "execution_count": 6,
   "metadata": {},
   "outputs": [],
   "source": [
    "# Complexity: O(n)"
   ]
  },
  {
   "cell_type": "markdown",
   "metadata": {},
   "source": [
    "## Q: Can we make it better in terms of time complexity? \n"
   ]
  },
  {
   "attachments": {
    "image.png": {
     "image/png": "[encoded data removed]"
    }
   },
   "cell_type": "markdown",
   "metadata": {},
   "source": [
    "![image.png](attachment:image.png)"
   ]
  },
  {
   "cell_type": "markdown",
   "metadata": {},
   "source": [
    "https://en.wikipedia.org/wiki/Arg_max"
   ]
  },
  {
   "cell_type": "code",
   "execution_count": 9,
   "metadata": {},
   "outputs": [],
   "source": [
    "def find_min_1(arr):\n",
    "    if len(arr) == 0:\n",
    "        return -1\n",
    "    mn = arr[0]\n",
    "    found = 0\n",
    "    i = 1\n",
    "    while i < len(arr):\n",
    "        if arr[i] < mn:\n",
    "            mn = arr[i]\n",
    "            found = i\n",
    "        else:\n",
    "            break\n",
    "        i += 1\n",
    "    return found"
   ]
  },
  {
   "cell_type": "code",
   "execution_count": 24,
   "metadata": {},
   "outputs": [
    {
     "data": {
      "text/plain": [
       "6"
      ]
     },
     "execution_count": 24,
     "metadata": {},
     "output_type": "execute_result"
    }
   ],
   "source": [
    "import numpy as np\n",
    "np.argmin([10, 9, 7, 5, 4, -2, -3, 11, 15])"
   ]
  },
  {
   "cell_type": "code",
   "execution_count": 10,
   "metadata": {},
   "outputs": [
    {
     "data": {
      "text/plain": [
       "6"
      ]
     },
     "execution_count": 10,
     "metadata": {},
     "output_type": "execute_result"
    }
   ],
   "source": [
    "find_min_1([10, 9, 7, 5, 4, -2, -3, 11, 15])"
   ]
  },
  {
   "cell_type": "code",
   "execution_count": 11,
   "metadata": {},
   "outputs": [
    {
     "data": {
      "text/plain": [
       "0"
      ]
     },
     "execution_count": 11,
     "metadata": {},
     "output_type": "execute_result"
    }
   ],
   "source": [
    "find_min_1([-3, 11, 15])"
   ]
  },
  {
   "cell_type": "code",
   "execution_count": 12,
   "metadata": {},
   "outputs": [
    {
     "data": {
      "text/plain": [
       "5"
      ]
     },
     "execution_count": 12,
     "metadata": {},
     "output_type": "execute_result"
    }
   ],
   "source": [
    "find_min_1([10, 9, 7, 5, 4, -2])"
   ]
  },
  {
   "cell_type": "code",
   "execution_count": 14,
   "metadata": {},
   "outputs": [],
   "source": [
    "# Order of complexity: O(n)"
   ]
  },
  {
   "cell_type": "code",
   "execution_count": 16,
   "metadata": {},
   "outputs": [],
   "source": [
    "# Q: Home work\n",
    "def find_min_bs(arr):\n",
    "    pass"
   ]
  },
  {
   "cell_type": "code",
   "execution_count": 17,
   "metadata": {},
   "outputs": [],
   "source": [
    "# lst as Queue\n",
    "\n",
    "lst = [1,2,3,4]\n",
    "del lst[0]"
   ]
  },
  {
   "cell_type": "code",
   "execution_count": 18,
   "metadata": {},
   "outputs": [
    {
     "data": {
      "text/plain": [
       "[2, 3, 4]"
      ]
     },
     "execution_count": 18,
     "metadata": {},
     "output_type": "execute_result"
    }
   ],
   "source": [
    "lst"
   ]
  },
  {
   "cell_type": "code",
   "execution_count": 19,
   "metadata": {},
   "outputs": [],
   "source": [
    "# List can be used as Queue, Stack\n"
   ]
  },
  {
   "cell_type": "markdown",
   "metadata": {},
   "source": [
    "# Q:\n",
    "\n",
    "Find any minima an array. No two adjacent elements are same.\n",
    "\n",
    "arr = [1,2,3], result: 0\n",
    "\n",
    "arr = [3, 2, 4, -1, -2, -5, 10], result: 1 or 5\n"
   ]
  },
  {
   "cell_type": "markdown",
   "metadata": {},
   "source": [
    "ML:\n",
    "    - ** Optimization, find minimas of convex array, convex functions **\n",
    "    - Create NPoint Regression\n",
    "    - Decision Tree\n"
   ]
  },
  {
   "cell_type": "code",
   "execution_count": 23,
   "metadata": {},
   "outputs": [],
   "source": [
    "# Nigam: we spend 15 minutes today about 8 queen problem - I had a few queries"
   ]
  },
  {
   "cell_type": "code",
   "execution_count": 22,
   "metadata": {},
   "outputs": [],
   "source": [
    "# Information Theory"
   ]
  },
  {
   "cell_type": "code",
   "execution_count": 25,
   "metadata": {},
   "outputs": [],
   "source": [
    "# Convert an Input to 0s1s\n",
    "\n",
    "# def encoder(text):\n",
    "#         return array of 0,1s\n",
    "\n",
    "# And then convert it back to the same input.\n",
    "\n",
    "# def decoder(array, info):\n",
    "#     return text"
   ]
  },
  {
   "cell_type": "markdown",
   "metadata": {},
   "source": [
    "1. Sub problem\n",
    "\n",
    "\n",
    "You input has only As and B: ABABAAB\n",
    "    A: 1\n",
    "    B: 0\n",
    "--\n",
    "    A: 0\n",
    "    B: 1\n",
    "---\n"
   ]
  },
  {
   "cell_type": "code",
   "execution_count": 27,
   "metadata": {},
   "outputs": [
    {
     "data": {
      "text/plain": [
       "(1, 0)"
      ]
     },
     "execution_count": 27,
     "metadata": {},
     "output_type": "execute_result"
    }
   ],
   "source": [
    "AABA -> 1101 -> AABA"
   ]
  },
  {
   "cell_type": "markdown",
   "metadata": {},
   "source": [
    "2. If you have four symbols\n",
    "\n",
    "ABCD\n",
    "\n",
    "--\n",
    "\n",
    "A: 00\n",
    "B: 01\n",
    "C: 10\n",
    "D: 11\n",
    "\n",
    "--\n"
   ]
  },
  {
   "cell_type": "markdown",
   "metadata": {},
   "source": [
    "Let us say you have 3 symbols: A B C\n",
    "\n",
    "A: 00\n",
    "B: 01\n",
    "C: 10\n",
    "\n",
    "AAABC -> 0000000110 -> AAABC"
   ]
  },
  {
   "cell_type": "markdown",
   "metadata": {},
   "source": [
    "Three length:\n",
    "\n",
    "A: 000\n",
    "B: 001\n",
    "C: 010\n",
    "\n",
    "AAABC -> 000000000001010 \n",
    "Downside: Data Transmission"
   ]
  },
  {
   "cell_type": "code",
   "execution_count": null,
   "metadata": {},
   "outputs": [],
   "source": [
    "# obfuscation as security."
   ]
  },
  {
   "cell_type": "code",
   "execution_count": 32,
   "metadata": {},
   "outputs": [
    {
     "data": {
      "text/plain": [
       "1024"
      ]
     },
     "execution_count": 32,
     "metadata": {},
     "output_type": "execute_result"
    }
   ],
   "source": [
    "pow(2, 10)"
   ]
  },
  {
   "cell_type": "code",
   "execution_count": null,
   "metadata": {},
   "outputs": [],
   "source": [
    "1024 types of symbols. \n",
    "\n",
    "1. every symbol represented as 1024 bits.\n",
    "\n",
    "2. one symbol can be represented with 10 bits.\n"
   ]
  },
  {
   "cell_type": "markdown",
   "metadata": {},
   "source": [
    "If you have five symbols what ABCDE, come up with 0s1s for A, B, C, D, E...\n"
   ]
  },
  {
   "cell_type": "markdown",
   "metadata": {},
   "source": [
    "# for three symbols\n",
    "\n",
    "A: 0\n",
    "\n",
    "B: 00\n",
    "\n",
    "C: 001\n",
    "\n",
    "ABC -> 000001 -> BAC #Wrong\n"
   ]
  },
  {
   "cell_type": "markdown",
   "metadata": {},
   "source": [
    "Q: Now, we have three symbols. 90% of these symbols are A, 5% B and 5% C. You have Billions of the text. \n",
    "You got to convert this into 0s1s in smallest length possible."
   ]
  },
  {
   "cell_type": "code",
   "execution_count": null,
   "metadata": {},
   "outputs": [],
   "source": []
  }
 ],
 "metadata": {
  "kernelspec": {
   "display_name": "Python 3",
   "language": "python",
   "name": "python3"
  },
  "language_info": {
   "codemirror_mode": {
    "name": "ipython",
    "version": 3
   },
   "file_extension": ".py",
   "mimetype": "text/x-python",
   "name": "python",
   "nbconvert_exporter": "python",
   "pygments_lexer": "ipython3",
   "version": "3.6.8"
  },
  "toc": {
   "base_numbering": 1,
   "nav_menu": {},
   "number_sections": true,
   "sideBar": true,
   "skip_h1_title": false,
   "title_cell": "Table of Contents",
   "title_sidebar": "Contents",
   "toc_cell": false,
   "toc_position": {},
   "toc_section_display": true,
   "toc_window_display": false
  }
 },
 "nbformat": 4,
 "nbformat_minor": 2
}
